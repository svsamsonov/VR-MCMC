{
 "cells": [
  {
   "cell_type": "code",
   "execution_count": null,
   "metadata": {},
   "outputs": [],
   "source": [
    "import numpy as np\n",
    "import numpy.polynomial as P\n",
    "import scipy as sp\n",
    "from matplotlib import pyplot as plt\n",
    "from tqdm import tqdm\n",
    "#from sklearn.preprocessing import PolynomialFeatures\n",
    "from multiprocessing import Pool\n",
    "import multiprocessing\n",
    "import ZVnbrosse\n",
    "from potentials import GaussPotential,GaussMixture,GausMixtureIdent,GausMixtureSame\n",
    "from samplers import MCMC_sampler,Generate_train,ULA_light\n",
    "from baselines import set_function,construct_ESVM_kernel,GenerateSigma\n",
    "from martingale import approx_q,approx_q_independent,test_traj,test_monte_carlo\n",
    "from optimize import Run_eval_test,optimize_parallel_new \n",
    "from utils import *\n",
    "import copy\n",
    "import time"
   ]
  },
  {
   "cell_type": "code",
   "execution_count": null,
   "metadata": {},
   "outputs": [],
   "source": [
    "N_burn = 1*10**4 # Burn in period\n",
    "N_train = 2*10**4 # Number of samples on which we optimize\n",
    "N_test = 2*10**3 # Number of samples\n",
    "step = 0.1 # Step size\n",
    "#step = 0.2\n",
    "n_traj_train = 10\n",
    "n_traj_test = 24 # Number of independent MCMC trajectories for test\n",
    "f_type = \"sum_squares\"\n",
    "K_max = 2 #max degree of Hermite polynomial\n",
    "S_max = 2 #max degree of polynomial during regression stage\n",
    "lag = 50 #maximal lag order\n",
    "b_n_train = 20 #lag-window size\n",
    "b_n_test = int(np.round(N_test**(0.33)))\n",
    "print(b_n_test)\n",
    "degree = 2"
   ]
  },
  {
   "cell_type": "markdown",
   "metadata": {},
   "source": [
    "Choose sampler type (currently only ULA is maintained)"
   ]
  },
  {
   "cell_type": "code",
   "execution_count": null,
   "metadata": {},
   "outputs": [],
   "source": [
    "d = 2\n",
    "mu = 0.5*np.array([1.0,1.0],dtype = float)\n",
    "#mu_1 = np.array([-1.0])\n",
    "#mu_2 = np.array([1.0])\n",
    "#Sigma_1 = np.array([[1.0]])\n",
    "#Sigma_2 = np.array([[1.0]])\n",
    "Sigma = GenerateSigma(d,rand_seed = 777,eps = 0.1) #covariation matrix \n",
    "p = 0.5\n",
    "Cur_pot = GausMixtureSame(Sigma,mu,p)\n",
    "#Cur_pot = GaussMixture(Sigma_1,Sigma_2,mu_1,mu_2,p)\n",
    "#Cur_pot = GausMixtureIdent(mu,p)\n",
    "r_seed = 777\n",
    "x0 = np.array([0.0,0.0])\n",
    "fixed_start = True"
   ]
  },
  {
   "cell_type": "markdown",
   "metadata": {},
   "source": [
    "### Generate data"
   ]
  },
  {
   "cell_type": "code",
   "execution_count": null,
   "metadata": {},
   "outputs": [],
   "source": [
    "r_seed = 777\n",
    "traj = np.zeros((n_traj_train,N_train,d),dtype = float)\n",
    "for i in range(n_traj_train):\n",
    "    cur_traj = ULA_light(r_seed+i,Cur_pot,step, N_burn, N_train, d, return_noise = False, x0 = x0, fixed_start = fixed_start)\n",
    "    traj[i] = copy.deepcopy(cur_traj)\n",
    "print(traj.shape)"
   ]
  },
  {
   "cell_type": "code",
   "execution_count": null,
   "metadata": {},
   "outputs": [],
   "source": [
    "inds_arr = np.array([0]) # Taking the second index (not intercept)\n",
    "params = None    \n",
    "f_vals = set_function(f_type,traj,inds_arr,params) \n",
    "#f_vals = traj[:,:,0]\n",
    "#f_vals = np.expand_dims(f_vals, axis=2)\n",
    "print(f_vals.shape)"
   ]
  },
  {
   "cell_type": "code",
   "execution_count": null,
   "metadata": {},
   "outputs": [],
   "source": [
    "n_traj_train_adv = 1*10**5\n",
    "r_seed = 7771453\n",
    "traj_adv = np.zeros((n_traj_train_adv,lag,d),dtype = float)\n",
    "\n",
    "nbcores = multiprocessing.cpu_count()\n",
    "trav = Pool(nbcores)\n",
    "res = trav.starmap(ULA_light, [(r_seed+i,Cur_pot,step, 100, lag, d, False,x0, False) for i in range (n_traj_train_adv)])\n",
    "trav.close()"
   ]
  },
  {
   "cell_type": "code",
   "execution_count": null,
   "metadata": {},
   "outputs": [],
   "source": [
    "print(len(res))\n",
    "res = np.asarray(res)\n",
    "print(res.shape)"
   ]
  },
  {
   "cell_type": "code",
   "execution_count": null,
   "metadata": {},
   "outputs": [],
   "source": [
    "for i in range(n_traj_train_adv):\n",
    "    traj_adv[i] = copy.deepcopy(res[i])\n",
    "print(traj_adv.shape)\n",
    "\n",
    "inds_arr = np.array([0]) # Taking the second index (not intercept)\n",
    "params = None    \n",
    "f_vals_adv = set_function(f_type,traj_adv,inds_arr,params) \n",
    "print(f_vals_adv.shape)"
   ]
  },
  {
   "cell_type": "markdown",
   "metadata": {},
   "source": [
    "### Evaluate baselines (EVM and ESVM methods)"
   ]
  },
  {
   "cell_type": "code",
   "execution_count": null,
   "metadata": {},
   "outputs": [],
   "source": [
    "sampler = {\"sampler\":\"ULA\",\"burn_type\":\"full\",\"main_type\":\"full\"} # Sampling method\n",
    "\n",
    "if sampler[\"sampler\"] == \"ULA\":\n",
    "    res = Generate_train(n_traj_train, sampler, Cur_pot, step, N_burn, N_train, d)\n",
    "    res = np.asarray(res)\n",
    "    traj_evm,traj_grad = res[:,0,:,:],res[:,1,:,:]\n",
    "else:\n",
    "    raise \"You should use ULA!\""
   ]
  },
  {
   "cell_type": "code",
   "execution_count": null,
   "metadata": {},
   "outputs": [],
   "source": [
    "print(traj.shape)\n",
    "inds_arr = np.array([0])#Taking the second index\n",
    "params = None\n",
    "f_vals_evm = set_function(f_type,traj_evm,inds_arr,params)"
   ]
  },
  {
   "cell_type": "code",
   "execution_count": null,
   "metadata": {},
   "outputs": [],
   "source": [
    "print(f_vals_evm)\n",
    "print(f_vals)"
   ]
  },
  {
   "cell_type": "code",
   "execution_count": null,
   "metadata": {},
   "outputs": [],
   "source": [
    "W_train_spec = construct_ESVM_kernel(N_train,b_n_train) #weight matrix for train\n",
    "W_test_spec = construct_ESVM_kernel(N_test,b_n_test) #weight matrix for test\n",
    "opt_structure_train = {\n",
    "    \"W\":W_train_spec,\n",
    "    \"n_restarts\": 3, # Number of restarts during optimization,\n",
    "    \"sigma\": 1.0, # Deviation of starting points\n",
    "    \"tol\": 1e-5, # Tolerance (for the norm of gradient)\n",
    "    \"alpha\": 0.0, # Ridge penalty for 2nd order control functionals\n",
    "    \"beta\": 10000.0 # smoothing parameter in the softmax\n",
    "}\n",
    "methods = [\"ESVM\",\"EVM\"]"
   ]
  },
  {
   "cell_type": "code",
   "execution_count": null,
   "metadata": {},
   "outputs": [],
   "source": [
    "coef_dict = optimize_parallel_new(degree,inds_arr,f_vals_evm,traj_evm,traj_grad,opt_structure_train,methods)\n",
    "print(coef_dict)"
   ]
  },
  {
   "cell_type": "code",
   "execution_count": null,
   "metadata": {},
   "outputs": [],
   "source": [
    "#Create a dictionary and put respective matrices into it\n",
    "test_params = {\n",
    "    \"W\":W_test_spec,\n",
    "    \"step\":step,\n",
    "    \"burn_in\":N_burn,\n",
    "    \"n_test\":N_test,\n",
    "    \"dim\":d\n",
    "}\n",
    "\n",
    "nbcores = multiprocessing.cpu_count()\n",
    "trav = Pool(nbcores)\n",
    "res = trav.starmap(Run_eval_test, [(i,degree,sampler,methods,inds_arr,Cur_pot,test_params,coef_dict,params,f_type) for i in range (n_traj_test)])\n",
    "trav.close()"
   ]
  },
  {
   "cell_type": "code",
   "execution_count": null,
   "metadata": {},
   "outputs": [],
   "source": [
    "print(len(res))\n",
    "print(res[0])"
   ]
  },
  {
   "cell_type": "code",
   "execution_count": null,
   "metadata": {},
   "outputs": [],
   "source": [
    "methods_enh = ['Vanilla'] + methods\n",
    "print(methods_enh)\n",
    "ints_result = {key: [] for key in methods_enh}\n",
    "vars_result = {key: [] for key in methods_enh}\n",
    "time_result = {key: [] for key in methods_enh}"
   ]
  },
  {
   "cell_type": "code",
   "execution_count": null,
   "metadata": {},
   "outputs": [],
   "source": [
    "for i in range(len(res)):\n",
    "    for j in range(len(methods_enh)):\n",
    "        ints_result[methods_enh[j]].append(res[i][0][methods_enh[j]][0])\n",
    "        vars_result[methods_enh[j]].append(res[i][1][methods_enh[j]][0])\n",
    "        time_result[methods_enh[j]].append(res[i][2][methods_enh[j]][0])\n",
    "for key in methods_enh:\n",
    "    ints_result[key] = np.asarray(ints_result[key])\n",
    "    vars_result[key] = np.asarray(vars_result[key])\n",
    "    time_result[key] = np.asarray(time_result[key])"
   ]
  },
  {
   "cell_type": "markdown",
   "metadata": {},
   "source": [
    "### Bernoulli:: Optimize coefficients by solving regression with polynomial features"
   ]
  },
  {
   "cell_type": "code",
   "execution_count": null,
   "metadata": {
    "scrolled": true
   },
   "outputs": [],
   "source": [
    "#polynomial coefficients\n",
    "coefs_poly = approx_q(traj,f_vals,n_traj_train,lag,S_max)\n",
    "print(coefs_poly.shape)"
   ]
  },
  {
   "cell_type": "code",
   "execution_count": null,
   "metadata": {},
   "outputs": [],
   "source": [
    "coefs_poly_adv = approx_q_independent(traj_adv,f_vals_adv,n_traj_train_adv,lag,S_max)\n",
    "print(coefs_poly_adv.shape)"
   ]
  },
  {
   "cell_type": "code",
   "execution_count": null,
   "metadata": {},
   "outputs": [],
   "source": [
    "ind = 3\n",
    "print(coefs_poly[ind,:])\n",
    "print(coefs_poly_adv[ind,:])"
   ]
  },
  {
   "cell_type": "code",
   "execution_count": null,
   "metadata": {},
   "outputs": [],
   "source": [
    "print(np.linalg.norm(coefs_poly_adv-coefs_poly)/np.linalg.norm(coefs_poly))"
   ]
  },
  {
   "cell_type": "markdown",
   "metadata": {},
   "source": [
    "### Use theoretically computed coefficients in regression"
   ]
  },
  {
   "cell_type": "code",
   "execution_count": null,
   "metadata": {},
   "outputs": [],
   "source": [
    "print(coefs_poly.shape)\n",
    "print(coefs_poly)\n",
    "coefs_poly_theor = np.zeros_like(coefs_poly)\n",
    "for ind in range(len(coefs_poly_theor)):\n",
    "    if ind == 0:\n",
    "        coefs_poly_theor[ind,0] = 0\n",
    "    else:\n",
    "        coefs_poly_theor[ind,0] = d*(1-(1-step)**(2*ind))/(1-step/2)   \n",
    "    coefs_poly_theor[ind,3] = (1-step)**(2*ind)\n",
    "    coefs_poly_theor[ind,5] = (1-step)**(2*ind)"
   ]
  },
  {
   "cell_type": "markdown",
   "metadata": {},
   "source": [
    "Test our regressors"
   ]
  },
  {
   "cell_type": "code",
   "execution_count": null,
   "metadata": {},
   "outputs": [],
   "source": [
    "cur_lag = 1\n",
    "N_pts = 100\n",
    "plt.figure(figsize=(10, 10))\n",
    "plt.title(\"Testing regression model\",fontsize=20)\n",
    "plt.plot(traj[0,cur_lag:N_pts],color='r',label='true function')\n",
    "plt.plot(P.polynomial.polyval(traj[0,:N_pts-cur_lag],coefs_poly[cur_lag,:]),color='g',label = 'practical approximation')\n",
    "#plt.plot(P.polynomial.polyval(X_train[0,:N_pts-cur_lag],coefs_poly_theor[cur_lag,:]),color='b',label = 'theoretical approximation')\n",
    "plt.legend(loc = 'lower right',fontsize = 16)\n",
    "plt.show()"
   ]
  },
  {
   "cell_type": "code",
   "execution_count": null,
   "metadata": {
    "scrolled": true
   },
   "outputs": [],
   "source": [
    "test_seed = 1453\n",
    "nbcores = multiprocessing.cpu_count()\n",
    "trav = Pool(nbcores)\n",
    "res = trav.starmap(test_traj, [(Cur_pot,coefs_poly_adv,step,test_seed+i,lag,K_max,S_max,N_burn,N_test,d,f_type,inds_arr,params,x0,fixed_start) for i in range (n_traj_test)])\n",
    "trav.close()"
   ]
  },
  {
   "cell_type": "code",
   "execution_count": null,
   "metadata": {},
   "outputs": [],
   "source": [
    "print(len(res))\n",
    "print(res[0][0])"
   ]
  },
  {
   "cell_type": "code",
   "execution_count": null,
   "metadata": {},
   "outputs": [],
   "source": [
    "res_new = np.asarray([[res[i][0],res[i][1]] for i in range(len(res))])\n",
    "print(res_new.shape)"
   ]
  },
  {
   "cell_type": "code",
   "execution_count": null,
   "metadata": {},
   "outputs": [],
   "source": [
    "vars_vanilla = np.var(res_new[:,0,:],axis = 0)\n",
    "vars_adj = np.var(res_new[:,1,:],axis = 0)\n",
    "#print(vars_vanilla)\n",
    "#print(vars_adj)\n",
    "print(np.mean(vars_adj[1:]/vars_vanilla[1:]))\n",
    "print(vars_vanilla[-1]/vars_adj[-1])"
   ]
  },
  {
   "cell_type": "code",
   "execution_count": null,
   "metadata": {},
   "outputs": [],
   "source": [
    "print(np.var(ints_result['Vanilla'][:,0])/np.var(ints_result['EVM'][:,0]))\n",
    "print(np.var(ints_result['Vanilla'][:,0])/np.var(ints_result['ESVM'][:,0]))"
   ]
  },
  {
   "cell_type": "markdown",
   "metadata": {},
   "source": [
    "### Comparison plots"
   ]
  },
  {
   "cell_type": "code",
   "execution_count": null,
   "metadata": {},
   "outputs": [],
   "source": [
    "title = \"\"\n",
    "labels = ['Vanilla\\n ULA', 'ULA \\nwith MDCV', 'ULA \\nwith EVM','ULA\\nwith ESVM']"
   ]
  },
  {
   "cell_type": "code",
   "execution_count": null,
   "metadata": {},
   "outputs": [],
   "source": [
    "data = [ints_result['Vanilla'][:,0],res_new[:,1,-1],ints_result['EVM'][:,0],ints_result['ESVM'][:,0]] \n",
    "boxplot_ind(data, title, labels)"
   ]
  },
  {
   "cell_type": "code",
   "execution_count": null,
   "metadata": {},
   "outputs": [],
   "source": [
    "title = \"\"\n",
    "labels = ['ULA \\nwith MDCV', 'ULA \\nwith EVM','ULA\\nwith ESVM']"
   ]
  },
  {
   "cell_type": "code",
   "execution_count": null,
   "metadata": {},
   "outputs": [],
   "source": [
    "data = [res_new[:,1,-1],ints_result['EVM'][:,0],ints_result['ESVM'][:,0]] \n",
    "boxplot_ind(data, title, labels)"
   ]
  },
  {
   "cell_type": "code",
   "execution_count": null,
   "metadata": {},
   "outputs": [],
   "source": [
    "N_burn = 2*10**3\n",
    "n_traj_train = 24\n",
    "step = 0.1\n",
    "N_train_arr = [1*10**3, 1*10**4, 1*10**5, 1*10**6]\n",
    "Time_arr = np.zeros(len(N_train_arr))\n",
    "Var_arr = np.zeros(len(N_train_arr))\n",
    "fixed_start = False\n",
    "test_seed = 2020\n",
    "\n",
    "for N in range(len(N_train_arr)):\n",
    "    cur_func = np.zeros(n_traj_train,dtype = float)\n",
    "    loc_time = time.time()\n",
    "    nbcores = multiprocessing.cpu_count()\n",
    "    trav = Pool(nbcores)\n",
    "    res = trav.starmap(test_monte_carlo, [(test_seed+j,Cur_pot,step,N_burn,N_train_arr[N],d,False,x0,fixed_start) for j in range(n_traj_train)])\n",
    "    trav.close()\n",
    "    cur_traj = np.asarray(res)\n",
    "    print(cur_traj.shape)\n",
    "    cur_func = np.mean(np.sum(cur_traj**2,axis=2),axis=1)\n",
    "    Var_arr[N] = np.var(cur_func)\n",
    "    Time_arr[N] = (time.time() - loc_time)/4\n",
    "    print(\"var = \",Var_arr[N])\n",
    "    print(\"time = \",Time_arr[N])"
   ]
  },
  {
   "cell_type": "code",
   "execution_count": null,
   "metadata": {},
   "outputs": [],
   "source": [
    "for N in range(len(Var_arr)):\n",
    "    print(\"N = %d, VR rate = %f\" % (N_train_arr[N],Var_arr[0]/Var_arr[N]))\n",
    "    print(\"N*Var:\",N_train_arr[N]*Var_arr[N])"
   ]
  }
 ],
 "metadata": {
  "kernelspec": {
   "display_name": "Python 3",
   "language": "python",
   "name": "python3"
  },
  "language_info": {
   "codemirror_mode": {
    "name": "ipython",
    "version": 3
   },
   "file_extension": ".py",
   "mimetype": "text/x-python",
   "name": "python",
   "nbconvert_exporter": "python",
   "pygments_lexer": "ipython3",
   "version": "3.7.3"
  }
 },
 "nbformat": 4,
 "nbformat_minor": 2
}
