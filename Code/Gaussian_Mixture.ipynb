{
 "cells": [
  {
   "cell_type": "code",
   "execution_count": 1,
   "metadata": {},
   "outputs": [],
   "source": [
    "import numpy as np\n",
    "import numpy.polynomial as P\n",
    "import scipy as sp\n",
    "from matplotlib import pyplot as plt\n",
    "from tqdm import tqdm\n",
    "#from sklearn.preprocessing import PolynomialFeatures\n",
    "from multiprocessing import Pool\n",
    "import multiprocessing\n",
    "import ZVnbrosse\n",
    "from potentials import GaussPotential,GaussMixture,GausMixtureIdent,GausMixtureSame\n",
    "from samplers import MCMC_sampler,Generate_train,ULA_light\n",
    "from baselines import set_function,construct_ESVM_kernel,GenerateSigma\n",
    "from martingale import approx_q,test_traj\n",
    "from optimize import Run_eval_test,optimize_parallel_new \n",
    "from utils import *\n",
    "import copy"
   ]
  },
  {
   "cell_type": "code",
   "execution_count": 2,
   "metadata": {},
   "outputs": [
    {
     "name": "stdout",
     "output_type": "stream",
     "text": [
      "5\n"
     ]
    }
   ],
   "source": [
    "N_burn = 1*10**3 # Burn in period\n",
    "N_train = 1*10**3 # Number of samples on which we optimize\n",
    "N_test = 1*10**2 # Number of samples\n",
    "step = 0.1 # Step size\n",
    "#step = 0.2\n",
    "n_traj_train = 5\n",
    "n_traj_test = 12 # Number of independent MCMC trajectories for test\n",
    "f_type = \"sum\"\n",
    "K_max = 1 #max degree of Hermite polynomial\n",
    "S_max = 1 #max degree of polynomial during regression stage\n",
    "lag = 100 #maximal lag order\n",
    "b_n_train = 20 #lag-window size\n",
    "b_n_test = int(np.round(N_test**(0.33)))\n",
    "print(b_n_test)\n",
    "degree = 1"
   ]
  },
  {
   "cell_type": "markdown",
   "metadata": {},
   "source": [
    "Choose sampler type (currently only ULA is maintained)"
   ]
  },
  {
   "cell_type": "code",
   "execution_count": 3,
   "metadata": {},
   "outputs": [
    {
     "name": "stdout",
     "output_type": "stream",
     "text": [
      "[1.94283271 0.1       ]\n"
     ]
    }
   ],
   "source": [
    "d = 2\n",
    "mu = 0.5*np.array([0.0,0.0],dtype = float)\n",
    "#mu_1 = np.array([-1.0])\n",
    "#mu_2 = np.array([1.0])\n",
    "#Sigma_1 = np.array([[1.0]])\n",
    "#Sigma_2 = np.array([[1.0]])\n",
    "Sigma = GenerateSigma(d,rand_seed = 777,eps = 0.1) #covariation matrix \n",
    "p = 0.5\n",
    "#Cur_pot = GausMixtureSame(Sigma,mu,p)\n",
    "#Cur_pot = GaussMixture(Sigma_1,Sigma_2,mu_1,mu_2,p)\n",
    "Cur_pot = GausMixtureIdent(mu,p)\n",
    "r_seed = 777\n",
    "x0 = np.array([0.0,0.0])\n",
    "fixed_start = True"
   ]
  },
  {
   "cell_type": "markdown",
   "metadata": {},
   "source": [
    "### Generate data"
   ]
  },
  {
   "cell_type": "code",
   "execution_count": 4,
   "metadata": {},
   "outputs": [
    {
     "name": "stdout",
     "output_type": "stream",
     "text": [
      "(5, 1000, 2)\n"
     ]
    }
   ],
   "source": [
    "r_seed = 777\n",
    "traj = np.zeros((n_traj_train,N_train,d),dtype = float)\n",
    "for i in range(n_traj_train):\n",
    "    cur_traj = ULA_light(r_seed+i,Cur_pot,step, N_burn, N_train, d, return_noise = False, x0 = x0, fixed_start = fixed_start)\n",
    "    traj[i] = copy.deepcopy(cur_traj)\n",
    "print(traj.shape)"
   ]
  },
  {
   "cell_type": "code",
   "execution_count": 5,
   "metadata": {},
   "outputs": [
    {
     "name": "stdout",
     "output_type": "stream",
     "text": [
      "(5, 1000, 1)\n"
     ]
    }
   ],
   "source": [
    "inds_arr = np.array([0]) # Taking the second index (not intercept)\n",
    "params = None    \n",
    "f_vals = set_function(f_type,traj,inds_arr,params) \n",
    "#f_vals = traj[:,:,0]\n",
    "#f_vals = np.expand_dims(f_vals, axis=2)\n",
    "print(f_vals.shape)"
   ]
  },
  {
   "cell_type": "markdown",
   "metadata": {},
   "source": [
    "### Evaluate baselines (EVM and ESVM methods)"
   ]
  },
  {
   "cell_type": "code",
   "execution_count": 6,
   "metadata": {},
   "outputs": [
    {
     "name": "stdout",
     "output_type": "stream",
     "text": [
      "ncores =  12\n"
     ]
    }
   ],
   "source": [
    "sampler = {\"sampler\":\"ULA\",\"burn_type\":\"full\",\"main_type\":\"full\"} # Sampling method\n",
    "\n",
    "if sampler[\"sampler\"] == \"ULA\":\n",
    "    res = Generate_train(n_traj_train, sampler, Cur_pot, step, N_burn, N_train, d)\n",
    "    res = np.asarray(res)\n",
    "    traj_evm,traj_grad = res[:,0,:,:],res[:,1,:,:]\n",
    "else:\n",
    "    raise \"You should use ULA!\""
   ]
  },
  {
   "cell_type": "code",
   "execution_count": 7,
   "metadata": {},
   "outputs": [
    {
     "name": "stdout",
     "output_type": "stream",
     "text": [
      "(5, 1000, 2)\n"
     ]
    }
   ],
   "source": [
    "print(traj.shape)\n",
    "inds_arr = np.array([0])#Taking the second index\n",
    "params = None\n",
    "f_vals_evm = set_function(f_type,traj_evm,inds_arr,params)"
   ]
  },
  {
   "cell_type": "code",
   "execution_count": 8,
   "metadata": {},
   "outputs": [
    {
     "name": "stdout",
     "output_type": "stream",
     "text": [
      "[[[-0.33711635]\n",
      "  [-1.79238632]\n",
      "  [-1.86629951]\n",
      "  ...\n",
      "  [-0.00380254]\n",
      "  [-0.99230216]\n",
      "  [-1.25938518]]\n",
      "\n",
      " [[ 2.81756599]\n",
      "  [ 2.72025908]\n",
      "  [ 2.06481598]\n",
      "  ...\n",
      "  [-0.71553092]\n",
      "  [-1.3045348 ]\n",
      "  [-1.83390394]]\n",
      "\n",
      " [[-0.6996559 ]\n",
      "  [-0.51908019]\n",
      "  [-0.23579567]\n",
      "  ...\n",
      "  [-1.41991331]\n",
      "  [-1.3616737 ]\n",
      "  [-1.73923432]]\n",
      "\n",
      " [[ 0.31790524]\n",
      "  [ 1.33309826]\n",
      "  [ 1.45348527]\n",
      "  ...\n",
      "  [-0.49132438]\n",
      "  [ 0.36402313]\n",
      "  [ 2.03165026]]\n",
      "\n",
      " [[ 0.86105267]\n",
      "  [ 0.50703215]\n",
      "  [ 1.03398954]\n",
      "  ...\n",
      "  [-1.791082  ]\n",
      "  [-2.31320296]\n",
      "  [-1.38963818]]]\n",
      "[[[ 0.        ]\n",
      "  [-1.48898161]\n",
      "  [-1.59323526]\n",
      "  ...\n",
      "  [-0.00380254]\n",
      "  [-0.99230216]\n",
      "  [-1.25938518]]\n",
      "\n",
      " [[ 0.        ]\n",
      "  [ 0.18444968]\n",
      "  [-0.21741248]\n",
      "  ...\n",
      "  [-0.71553092]\n",
      "  [-1.3045348 ]\n",
      "  [-1.83390394]]\n",
      "\n",
      " [[ 0.        ]\n",
      "  [ 0.11061013]\n",
      "  [ 0.33092561]\n",
      "  ...\n",
      "  [-1.41991331]\n",
      "  [-1.3616737 ]\n",
      "  [-1.73923432]]\n",
      "\n",
      " [[ 0.        ]\n",
      "  [ 1.04698354]\n",
      "  [ 1.19598203]\n",
      "  ...\n",
      "  [-0.49132438]\n",
      "  [ 0.36402313]\n",
      "  [ 2.03165026]]\n",
      "\n",
      " [[ 0.        ]\n",
      "  [-0.26791525]\n",
      "  [ 0.33653688]\n",
      "  ...\n",
      "  [-1.791082  ]\n",
      "  [-2.31320296]\n",
      "  [-1.38963818]]]\n"
     ]
    }
   ],
   "source": [
    "print(f_vals_evm)\n",
    "print(f_vals)"
   ]
  },
  {
   "cell_type": "code",
   "execution_count": 9,
   "metadata": {},
   "outputs": [],
   "source": [
    "W_train_spec = construct_ESVM_kernel(N_train,b_n_train) #weight matrix for train\n",
    "W_test_spec = construct_ESVM_kernel(N_test,b_n_test) #weight matrix for test\n",
    "opt_structure_train = {\n",
    "    \"W\":W_train_spec,\n",
    "    \"n_restarts\": 3, # Number of restarts during optimization,\n",
    "    \"sigma\": 1.0, # Deviation of starting points\n",
    "    \"tol\": 1e-5, # Tolerance (for the norm of gradient)\n",
    "    \"alpha\": 0.0, # Ridge penalty for 2nd order control functionals\n",
    "    \"beta\": 10000.0 # smoothing parameter in the softmax\n",
    "}\n",
    "methods = [\"ESVM\",\"EVM\"]"
   ]
  },
  {
   "cell_type": "code",
   "execution_count": 10,
   "metadata": {},
   "outputs": [
    {
     "name": "stdout",
     "output_type": "stream",
     "text": [
      "1 degree optimization terminated succesfully\n",
      "jacobian at termination: \n",
      "[1.52189011e-17 3.92638802e-16]\n",
      "1 degree optimization terminated succesfully\n",
      "jacobian at termination: \n",
      "[-5.61208295e-15 -8.59063582e-16]\n",
      "2\n",
      "{'ESVM': array([[1., 1.]]), 'EVM': array([[1., 1.]]), 'LS': [], 'MAX': []}\n"
     ]
    }
   ],
   "source": [
    "coef_dict = optimize_parallel_new(degree,inds_arr,f_vals_evm,traj_evm,traj_grad,opt_structure_train,methods)\n",
    "print(coef_dict)"
   ]
  },
  {
   "cell_type": "code",
   "execution_count": 11,
   "metadata": {},
   "outputs": [],
   "source": [
    "#Create a dictionary and put respective matrices into it\n",
    "test_params = {\n",
    "    \"W\":W_test_spec,\n",
    "    \"step\":step,\n",
    "    \"burn_in\":N_burn,\n",
    "    \"n_test\":N_test,\n",
    "    \"dim\":d\n",
    "}\n",
    "\n",
    "nbcores = multiprocessing.cpu_count()\n",
    "trav = Pool(nbcores)\n",
    "res = trav.starmap(Run_eval_test, [(i,degree,sampler,methods,inds_arr,Cur_pot,test_params,coef_dict,params,f_type) for i in range (n_traj_test)])\n",
    "trav.close()"
   ]
  },
  {
   "cell_type": "code",
   "execution_count": 12,
   "metadata": {},
   "outputs": [
    {
     "name": "stdout",
     "output_type": "stream",
     "text": [
      "['Vanilla', 'ESVM', 'EVM']\n"
     ]
    }
   ],
   "source": [
    "methods_enh = ['Vanilla'] + methods\n",
    "print(methods_enh)\n",
    "ints_result = {key: [] for key in methods_enh}\n",
    "vars_result = {key: [] for key in methods_enh}"
   ]
  },
  {
   "cell_type": "code",
   "execution_count": 13,
   "metadata": {},
   "outputs": [],
   "source": [
    "for i in range(len(res)):\n",
    "    for j in range(len(methods_enh)):\n",
    "        ints_result[methods_enh[j]].append(res[i][0][methods_enh[j]][0])\n",
    "        vars_result[methods_enh[j]].append(res[i][1][methods_enh[j]][0])\n",
    "for key in methods_enh:\n",
    "    ints_result[key] = np.asarray(ints_result[key])\n",
    "    vars_result[key] = np.asarray(vars_result[key])"
   ]
  },
  {
   "cell_type": "markdown",
   "metadata": {},
   "source": [
    "### Bernoulli:: Optimize coefficients by solving regression with polynomial features"
   ]
  },
  {
   "cell_type": "code",
   "execution_count": 14,
   "metadata": {},
   "outputs": [
    {
     "name": "stdout",
     "output_type": "stream",
     "text": [
      "dimension =  1000\n",
      "(5000, 3)\n",
      "(4995, 3)\n",
      "(4990, 3)\n",
      "(4985, 3)\n",
      "(4980, 3)\n",
      "(4975, 3)\n",
      "(4970, 3)\n",
      "(4965, 3)\n",
      "(4960, 3)\n",
      "(4955, 3)\n",
      "(4950, 3)\n",
      "(4945, 3)\n",
      "(4940, 3)\n",
      "(4935, 3)\n",
      "(4930, 3)\n",
      "(4925, 3)\n",
      "(4920, 3)\n",
      "(4915, 3)\n",
      "(4910, 3)\n",
      "(4905, 3)\n",
      "(4900, 3)\n",
      "(4895, 3)\n",
      "(4890, 3)\n",
      "(4885, 3)\n",
      "(4880, 3)\n",
      "(4875, 3)\n",
      "(4870, 3)\n",
      "(4865, 3)\n",
      "(4860, 3)\n",
      "(4855, 3)\n",
      "(4850, 3)\n",
      "(4845, 3)\n",
      "(4840, 3)\n",
      "(4835, 3)\n",
      "(4830, 3)\n",
      "(4825, 3)\n",
      "(4820, 3)\n",
      "(4815, 3)\n",
      "(4810, 3)\n",
      "(4805, 3)\n",
      "(4800, 3)\n",
      "(4795, 3)\n",
      "(4790, 3)\n",
      "(4785, 3)\n",
      "(4780, 3)\n",
      "(4775, 3)\n",
      "(4770, 3)\n",
      "(4765, 3)\n",
      "(4760, 3)\n",
      "(4755, 3)\n",
      "(4750, 3)\n",
      "(4745, 3)\n",
      "(4740, 3)\n",
      "(4735, 3)\n",
      "(4730, 3)\n",
      "(4725, 3)\n",
      "(4720, 3)\n",
      "(4715, 3)\n",
      "(4710, 3)\n",
      "(4705, 3)\n",
      "(4700, 3)\n",
      "(4695, 3)\n",
      "(4690, 3)\n",
      "(4685, 3)\n",
      "(4680, 3)\n",
      "(4675, 3)\n",
      "(4670, 3)\n",
      "(4665, 3)\n",
      "(4660, 3)\n",
      "(4655, 3)\n",
      "(4650, 3)\n",
      "(4645, 3)\n",
      "(4640, 3)\n",
      "(4635, 3)\n",
      "(4630, 3)\n",
      "(4625, 3)\n",
      "(4620, 3)\n",
      "(4615, 3)\n",
      "(4610, 3)\n",
      "(4605, 3)\n",
      "(4600, 3)\n",
      "(4595, 3)\n",
      "(4590, 3)\n",
      "(4585, 3)\n",
      "(4580, 3)\n",
      "(4575, 3)\n",
      "(4570, 3)\n",
      "(4565, 3)\n",
      "(4560, 3)\n",
      "(4555, 3)\n",
      "(4550, 3)\n",
      "(4545, 3)\n",
      "(4540, 3)\n",
      "(4535, 3)\n",
      "(4530, 3)\n",
      "(4525, 3)\n",
      "(4520, 3)\n",
      "(4515, 3)\n",
      "(4510, 3)\n",
      "(4505, 3)\n",
      "(100, 3)\n"
     ]
    }
   ],
   "source": [
    "#polynomial coefficients\n",
    "coefs_poly = approx_q(traj,f_vals,n_traj_train,lag,S_max)\n",
    "print(coefs_poly.shape)"
   ]
  },
  {
   "cell_type": "markdown",
   "metadata": {},
   "source": [
    "### Use theoretically computed coefficients in regression"
   ]
  },
  {
   "cell_type": "code",
   "execution_count": 15,
   "metadata": {},
   "outputs": [
    {
     "name": "stdout",
     "output_type": "stream",
     "text": [
      "(100, 3)\n",
      "[[-5.97746698e-17  1.00000000e+00  1.00000000e+00]\n",
      " [ 6.13285253e-04  9.06076475e-01  8.91029707e-01]\n",
      " [ 7.81321692e-04  8.19491156e-01  8.02523821e-01]\n",
      " [ 9.54314359e-04  7.44115317e-01  7.29585835e-01]\n",
      " [ 7.02150573e-04  6.73826161e-01  6.63932689e-01]\n",
      " [ 9.71969021e-04  6.03899794e-01  6.07360458e-01]\n",
      " [ 8.67444408e-04  5.38115409e-01  5.65745089e-01]\n",
      " [ 6.12132318e-04  4.82210174e-01  5.27267719e-01]\n",
      " [-2.38269763e-05  4.30517289e-01  4.87049625e-01]\n",
      " [ 1.87520361e-04  3.90141168e-01  4.43096947e-01]\n",
      " [ 2.52193292e-04  3.58258225e-01  4.03552185e-01]\n",
      " [ 4.52414393e-04  3.25431551e-01  3.71391946e-01]\n",
      " [ 4.38293629e-04  2.96008539e-01  3.42407147e-01]\n",
      " [ 4.41252011e-04  2.67303883e-01  3.08266955e-01]\n",
      " [ 6.29357331e-04  2.41307578e-01  2.73678006e-01]\n",
      " [ 1.19922726e-03  2.16869791e-01  2.37609887e-01]\n",
      " [ 1.91266402e-03  1.94776132e-01  2.06455253e-01]\n",
      " [ 2.38372033e-03  1.76497470e-01  1.82280125e-01]\n",
      " [ 2.80518147e-03  1.62980057e-01  1.59829073e-01]\n",
      " [ 3.33240332e-03  1.51606850e-01  1.33057268e-01]\n",
      " [ 3.63105620e-03  1.37237140e-01  1.07947727e-01]\n",
      " [ 4.47247223e-03  1.32569237e-01  8.82450477e-02]\n",
      " [ 5.19621391e-03  1.26425674e-01  6.70235436e-02]\n",
      " [ 6.04028723e-03  1.24671479e-01  4.94133640e-02]\n",
      " [ 6.83633430e-03  1.22013354e-01  3.69479989e-02]\n",
      " [ 7.70269013e-03  1.12004284e-01  2.77821614e-02]\n",
      " [ 8.28532005e-03  9.91725785e-02  2.34290797e-02]\n",
      " [ 9.36560901e-03  9.06381218e-02  1.46093810e-02]\n",
      " [ 9.97810092e-03  8.46046416e-02  2.33841269e-03]\n",
      " [ 1.04645310e-02  8.27479646e-02 -7.13811465e-03]\n",
      " [ 1.10945662e-02  8.22419003e-02 -1.32680685e-02]\n",
      " [ 1.14233007e-02  8.94041067e-02 -1.46533752e-02]\n",
      " [ 1.12714712e-02  9.89325807e-02 -5.73434501e-03]\n",
      " [ 1.08843968e-02  1.04762560e-01  3.18408569e-03]\n",
      " [ 1.03423585e-02  1.10804674e-01  1.39862008e-02]\n",
      " [ 9.55287733e-03  1.17254494e-01  2.16571903e-02]\n",
      " [ 9.56809929e-03  1.23364141e-01  2.04095021e-02]\n",
      " [ 9.77968093e-03  1.30775912e-01  1.74271242e-02]\n",
      " [ 1.02589795e-02  1.41288041e-01  1.85904476e-02]\n",
      " [ 1.09567027e-02  1.52412814e-01  1.92069971e-02]\n",
      " [ 1.21499225e-02  1.63267062e-01  1.23802859e-02]\n",
      " [ 1.32739796e-02  1.64888099e-01  1.11198360e-02]\n",
      " [ 1.39473482e-02  1.63312669e-01  1.76788296e-02]\n",
      " [ 1.44460246e-02  1.59353201e-01  2.16955975e-02]\n",
      " [ 1.51740433e-02  1.55597712e-01  3.08698362e-02]\n",
      " [ 1.57395873e-02  1.49608355e-01  3.79191571e-02]\n",
      " [ 1.61886255e-02  1.54126726e-01  4.05929245e-02]\n",
      " [ 1.61338649e-02  1.54348118e-01  4.23728846e-02]\n",
      " [ 1.64609260e-02  1.51394985e-01  4.36645746e-02]\n",
      " [ 1.67388642e-02  1.43361987e-01  4.45764984e-02]\n",
      " [ 1.73537312e-02  1.38514212e-01  4.87662251e-02]\n",
      " [ 1.74023136e-02  1.32106019e-01  5.19178134e-02]\n",
      " [ 1.74909911e-02  1.26728239e-01  5.63597852e-02]\n",
      " [ 1.72237907e-02  1.27799992e-01  6.35272351e-02]\n",
      " [ 1.69011165e-02  1.35186115e-01  7.31640230e-02]\n",
      " [ 1.67335038e-02  1.37712537e-01  8.04429915e-02]\n",
      " [ 1.67234020e-02  1.37135018e-01  8.52543616e-02]\n",
      " [ 1.71526896e-02  1.38863723e-01  8.78800874e-02]\n",
      " [ 1.75197104e-02  1.32698535e-01  8.69525042e-02]\n",
      " [ 1.85687389e-02  1.30050159e-01  8.14970451e-02]\n",
      " [ 1.89953624e-02  1.29530312e-01  8.02760183e-02]\n",
      " [ 1.98729685e-02  1.29686913e-01  8.16793068e-02]\n",
      " [ 2.02123582e-02  1.27438366e-01  8.27624784e-02]\n",
      " [ 2.03920237e-02  1.30059149e-01  8.20729517e-02]\n",
      " [ 2.03398127e-02  1.34081981e-01  7.87514643e-02]\n",
      " [ 2.00052218e-02  1.35507051e-01  8.00351594e-02]\n",
      " [ 1.94739113e-02  1.30500927e-01  8.32166742e-02]\n",
      " [ 1.85670184e-02  1.30972877e-01  9.26573556e-02]\n",
      " [ 1.75236601e-02  1.32586879e-01  9.97155561e-02]\n",
      " [ 1.65778803e-02  1.20690736e-01  1.04630715e-01]\n",
      " [ 1.47630443e-02  1.04383589e-01  1.13081821e-01]\n",
      " [ 1.35669118e-02  9.00245431e-02  1.10041777e-01]\n",
      " [ 1.23096078e-02  7.96897887e-02  9.78993284e-02]\n",
      " [ 1.10075393e-02  7.04634364e-02  8.31983312e-02]\n",
      " [ 1.00317955e-02  5.88995278e-02  7.15008438e-02]\n",
      " [ 9.30643838e-03  5.38223299e-02  6.13372984e-02]\n",
      " [ 8.98067465e-03  5.21617699e-02  4.37717289e-02]\n",
      " [ 8.72917131e-03  4.93415578e-02  3.17482848e-02]\n",
      " [ 8.85966259e-03  4.57243325e-02  1.13072534e-02]\n",
      " [ 8.76690584e-03  4.17401398e-02 -5.51295832e-03]\n",
      " [ 8.24266616e-03  3.87915001e-02 -1.73841244e-02]\n",
      " [ 7.29525436e-03  3.63373880e-02 -2.45805295e-02]\n",
      " [ 5.88235558e-03  2.92604334e-02 -2.70486637e-02]\n",
      " [ 4.37305937e-03  1.58918544e-02 -2.81421344e-02]\n",
      " [ 3.87754552e-03  9.85895537e-03 -3.00303698e-02]\n",
      " [ 3.59205225e-03  2.56886986e-03 -2.68436945e-02]\n",
      " [ 3.86230822e-03  1.91248177e-03 -2.99257821e-02]\n",
      " [ 3.92078140e-03  5.01273284e-03 -2.65598091e-02]\n",
      " [ 3.49693695e-03  1.00903505e-02 -2.66914497e-02]\n",
      " [ 3.31058022e-03  2.04591298e-02 -3.00746776e-02]\n",
      " [ 3.38616048e-03  3.16153163e-02 -3.69892099e-02]\n",
      " [ 3.50901529e-03  4.26199516e-02 -3.66797582e-02]\n",
      " [ 3.54473468e-03  5.48620176e-02 -3.92904687e-02]\n",
      " [ 3.88208369e-03  6.53303845e-02 -4.82704236e-02]\n",
      " [ 3.83520804e-03  7.25438612e-02 -5.46633068e-02]\n",
      " [ 3.58853219e-03  8.21956796e-02 -5.99541915e-02]\n",
      " [ 3.95681957e-03  8.91456276e-02 -6.24402271e-02]\n",
      " [ 3.29113384e-03  8.91215586e-02 -6.80142001e-02]\n",
      " [ 3.18755979e-03  8.92170211e-02 -6.55326850e-02]\n",
      " [ 2.24096274e-03  8.77702879e-02 -6.01531032e-02]]\n"
     ]
    }
   ],
   "source": [
    "print(coefs_poly.shape)\n",
    "print(coefs_poly)\n",
    "coefs_poly_theor = np.zeros_like(coefs_poly)\n",
    "for ind in range(len(coefs_poly_theor)):\n",
    "    coefs_poly_theor[ind,1] = (1-step)**ind\n",
    "    coefs_poly_theor[ind,2] = (1-step)**ind"
   ]
  },
  {
   "cell_type": "markdown",
   "metadata": {},
   "source": [
    "Test our regressors"
   ]
  },
  {
   "cell_type": "code",
   "execution_count": 16,
   "metadata": {},
   "outputs": [
    {
     "data": {
      "image/png": "[encoded data removed]",
      "text/plain": [
       "<Figure size 720x720 with 1 Axes>"
      ]
     },
     "metadata": {
      "needs_background": "light"
     },
     "output_type": "display_data"
    }
   ],
   "source": [
    "cur_lag = 1\n",
    "N_pts = 100\n",
    "plt.figure(figsize=(10, 10))\n",
    "plt.title(\"Testing regression model\",fontsize=20)\n",
    "plt.plot(traj[0,cur_lag:N_pts],color='r',label='true function')\n",
    "plt.plot(P.polynomial.polyval(traj[0,:N_pts-cur_lag],coefs_poly[cur_lag,:]),color='g',label = 'practical approximation')\n",
    "#plt.plot(P.polynomial.polyval(X_train[0,:N_pts-cur_lag],coefs_poly_theor[cur_lag,:]),color='b',label = 'theoretical approximation')\n",
    "plt.legend(loc = 'lower right',fontsize = 16)\n",
    "plt.show()"
   ]
  },
  {
   "cell_type": "code",
   "execution_count": 25,
   "metadata": {},
   "outputs": [
    {
     "name": "stdout",
     "output_type": "stream",
     "text": [
      "[0. 0.]\n",
      "[0. 0.]\n",
      "[0. 0.]\n",
      "[0. 0.]\n",
      "[0. 0.]\n",
      "[0. 0.]\n",
      "[0. 0.]\n",
      "[0. 0.]\n",
      "[0. 0.]\n",
      "[0. 0.]\n",
      "[0. 0.]\n",
      "[0. 0.]\n"
     ]
    }
   ],
   "source": [
    "test_seed = 1453\n",
    "nbcores = multiprocessing.cpu_count()\n",
    "trav = Pool(nbcores)\n",
    "res = trav.starmap(test_traj, [(Cur_pot,coefs_poly_theor,step,test_seed+i,lag,K_max,S_max,N_burn,N_test,d,f_type,inds_arr,params,x0,fixed_start) for i in range (n_traj_test)])\n",
    "trav.close()"
   ]
  },
  {
   "cell_type": "code",
   "execution_count": 26,
   "metadata": {},
   "outputs": [
    {
     "name": "stdout",
     "output_type": "stream",
     "text": [
      "(12, 2, 100)\n"
     ]
    }
   ],
   "source": [
    "res_new = np.asarray(res)\n",
    "print(res_new.shape)"
   ]
  },
  {
   "cell_type": "code",
   "execution_count": 27,
   "metadata": {},
   "outputs": [
    {
     "name": "stdout",
     "output_type": "stream",
     "text": [
      "0.019186169446991943\n"
     ]
    }
   ],
   "source": [
    "vars_vanilla = np.var(res_new[:,0,:],axis = 0)\n",
    "vars_adj = np.var(res_new[:,1,:],axis = 0)\n",
    "#print(vars_vanilla)\n",
    "#print(vars_adj)\n",
    "print(np.mean(vars_adj[1:]/vars_vanilla[1:]))"
   ]
  },
  {
   "cell_type": "markdown",
   "metadata": {},
   "source": [
    "### Comparison plots"
   ]
  },
  {
   "cell_type": "code",
   "execution_count": null,
   "metadata": {},
   "outputs": [],
   "source": [
    "title = \"\"\n",
    "labels = ['Vanilla\\n ULA', 'ULA \\nwith MDCV', 'ULA \\nwith EVM','ULA\\nwith ESVM']"
   ]
  },
  {
   "cell_type": "code",
   "execution_count": null,
   "metadata": {},
   "outputs": [],
   "source": [
    "data = [ints_result['Vanilla'][:,0],res_new[:,1,-1],ints_result['EVM'][:,0],ints_result['ESVM'][:,0]] \n",
    "boxplot_ind(data, title, labels)"
   ]
  },
  {
   "cell_type": "code",
   "execution_count": null,
   "metadata": {},
   "outputs": [],
   "source": [
    "title = \"\"\n",
    "labels = ['ULA \\nwith MDCV', 'ULA \\nwith EVM','ULA\\nwith ESVM']"
   ]
  },
  {
   "cell_type": "code",
   "execution_count": null,
   "metadata": {},
   "outputs": [],
   "source": [
    "data = [res_new[:,1,-1],ints_result['EVM'][:,0],ints_result['ESVM'][:,0]] \n",
    "boxplot_ind(data, title, labels)"
   ]
  }
 ],
 "metadata": {
  "kernelspec": {
   "display_name": "Python 3",
   "language": "python",
   "name": "python3"
  },
  "language_info": {
   "codemirror_mode": {
    "name": "ipython",
    "version": 3
   },
   "file_extension": ".py",
   "mimetype": "text/x-python",
   "name": "python",
   "nbconvert_exporter": "python",
   "pygments_lexer": "ipython3",
   "version": "3.7.3"
  }
 },
 "nbformat": 4,
 "nbformat_minor": 2
}
