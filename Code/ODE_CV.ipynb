{
 "cells": [
  {
   "cell_type": "code",
   "execution_count": 182,
   "metadata": {},
   "outputs": [],
   "source": [
    "import numpy as np\n",
    "from scipy.integrate import RK45,solve_ivp\n",
    "from ODE_potentials import VanDerPolePotential,LotkiVolterraPotential\n",
    "from ODE_samplers import MALA_ODE,ULA_ODE,grad_ascent_ODE,run_eval_test,set_function\n",
    "from multiprocessing import Pool\n",
    "import multiprocessing\n",
    "from zv_cv import Eval_ZVCV\n",
    "\n",
    "from baselines import construct_ESVM_kernel\n",
    "from optimize import optimize_parallel_new\n",
    "from utils import *"
   ]
  },
  {
   "cell_type": "markdown",
   "metadata": {},
   "source": [
    "Parameters for van-der-Pole and Lotka-Volterra examples: "
   ]
  },
  {
   "cell_type": "code",
   "execution_count": 183,
   "metadata": {},
   "outputs": [],
   "source": [
    "typ = 'VdP' #'LV' for Lotka-Volterra, 'VdP' for Van-der-Pole\n",
    "method = {\"sampler\":\"MALA\"} #switch between ULA and MALA\n",
    "f_type = \"sum_comps\"\n",
    "\n",
    "if typ == 'VdP':\n",
    "    #true parameter value\n",
    "    theta_star = 1.0\n",
    "    #initial coordiante and speed\n",
    "    y0 = np.array([0.0,2.0],dtype=float)\n",
    "    #error of measurements\n",
    "    sigma = 0.5\n",
    "    #prior variance\n",
    "    sigma_prior = 0.5\n",
    "elif typ == 'LV':\n",
    "    theta_star = np.array([0.6,0.025,0.8,0.025],dtype = float)\n",
    "    #initial number of victims and predators\n",
    "    y0 = np.array([30.0,4.0],dtype=float)\n",
    "    #setting prior parameters\n",
    "    sigma_prior = np.array([0.5,0.05,0.5,0.05],dtype = float)\n",
    "    mu_prior = np.array([1.0,0.05,1.0,0.05],dtype=float)\n",
    "    #measurements error\n",
    "    sigma = np.array([0.25,0.25])"
   ]
  },
  {
   "cell_type": "markdown",
   "metadata": {},
   "source": [
    "Timestaps"
   ]
  },
  {
   "cell_type": "code",
   "execution_count": 184,
   "metadata": {},
   "outputs": [
    {
     "name": "stdout",
     "output_type": "stream",
     "text": [
      "[ 0.  1.  2.  3.  4.  5.  6.  7.  8.  9. 10.]\n"
     ]
    }
   ],
   "source": [
    "#initial and last time moments\n",
    "t0 = 0\n",
    "t_bound = 10\n",
    "N_steps = 10\n",
    "#moments of observations\n",
    "t_moments = np.linspace(t0,t_bound,N_steps+1)\n",
    "print(t_moments)"
   ]
  },
  {
   "cell_type": "markdown",
   "metadata": {},
   "source": [
    "Creating potentials"
   ]
  },
  {
   "cell_type": "code",
   "execution_count": 185,
   "metadata": {},
   "outputs": [],
   "source": [
    "if typ == 'VdP':\n",
    "    Cur_pot = VanDerPolePotential(sigma,sigma_prior,t_moments,theta_star,y0,t0,t_bound)\n",
    "elif typ == 'LV':\n",
    "    Cur_pot = LotkiVolterraPotential(sigma,mu_prior,sigma_prior,t_moments,theta_star,y0,t0,t_bound)"
   ]
  },
  {
   "cell_type": "markdown",
   "metadata": {},
   "source": [
    "Sampling (currently with MALA)"
   ]
  },
  {
   "cell_type": "code",
   "execution_count": 186,
   "metadata": {},
   "outputs": [],
   "source": [
    "r_seed = 666\n",
    "#burn-in period\n",
    "N_burn = 1*10**2\n",
    "#Train size\n",
    "N_train = 1*10**3\n",
    "#Test size\n",
    "N_test = 1*10**3\n",
    "#number of test trajectories\n",
    "n_traj = 24\n",
    "if typ == 'VdP':\n",
    "    #dimension\n",
    "    d = 1\n",
    "    #step size\n",
    "    step = 1e-3\n",
    "elif typ == 'LV':\n",
    "    #dimension\n",
    "    d = 4\n",
    "    #step size\n",
    "    step = 5e-6"
   ]
  },
  {
   "cell_type": "markdown",
   "metadata": {},
   "source": [
    "### Construct kernels and sample"
   ]
  },
  {
   "cell_type": "code",
   "execution_count": 187,
   "metadata": {},
   "outputs": [],
   "source": [
    "# Construct kernel\n",
    "#W_train_spec = construct_ESVM_kernel(N_train)\n",
    "#W_test_spec = construct_ESVM_kernel(N_test)"
   ]
  },
  {
   "cell_type": "code",
   "execution_count": 188,
   "metadata": {},
   "outputs": [],
   "source": [
    "if typ == 'VdP':\n",
    "    params_prior = {\"sigma\":sigma_prior}\n",
    "elif typ == 'LV':\n",
    "    params_prior = {\"mu\":mu_prior,\"sigma\":sigma_prior}"
   ]
  },
  {
   "cell_type": "markdown",
   "metadata": {},
   "source": [
    "### Compute starting point (maximum likelihood)"
   ]
  },
  {
   "cell_type": "code",
   "execution_count": 189,
   "metadata": {},
   "outputs": [],
   "source": [
    "#N_steps_ascent = 5000\n",
    "#traj,traj_grad = grad_ascent_ODE(1453,Cur_pot,step,params_prior,N_steps_ascent,d,typ)\n",
    "#theta_mle = traj[-1,:]\n",
    "#print(\"mle for parameters: \",theta_mle)\n",
    "#Cur_pot.set_mle(theta_mle)"
   ]
  },
  {
   "cell_type": "code",
   "execution_count": 190,
   "metadata": {},
   "outputs": [],
   "source": [
    "#print(traj_grad[-10:,:])"
   ]
  },
  {
   "cell_type": "markdown",
   "metadata": {},
   "source": [
    "### Setting function "
   ]
  },
  {
   "cell_type": "code",
   "execution_count": 191,
   "metadata": {},
   "outputs": [
    {
     "name": "stdout",
     "output_type": "stream",
     "text": [
      "accepted =  905\n",
      "accepted =  873\n",
      "accepted =  898\n",
      "accepted =  877\n",
      "accepted =  881\n",
      "accepted =  888\n",
      "accepted =  905\n",
      "accepted =  903\n",
      "accepted =  895\n",
      "accepted =  905\n",
      "accepted =  892\n",
      "accepted =  900\n",
      "accepted =  871\n",
      "accepted =  852\n",
      "accepted =  884\n",
      "accepted =  902\n",
      "accepted =  889\n",
      "accepted =  877\n",
      "accepted =  906\n",
      "accepted =  895\n",
      "accepted =  897\n",
      "accepted =  915\n",
      "accepted =  901\n",
      "accepted =  921\n"
     ]
    }
   ],
   "source": [
    "#step_train = 5e-7\n",
    "inds_arr = np.array([0])\n",
    "params = {\"ind\":0}\n",
    "t_moments = None\n",
    "r_seed = 777\n",
    "traj = []\n",
    "traj_grad = []\n",
    "#generate data\n",
    "nbcores = multiprocessing.cpu_count()\n",
    "trav = Pool(nbcores)\n",
    "res = trav.starmap(MALA_ODE, [(r_seed+i,Cur_pot, step, params_prior, N_burn, N_train, d, typ) for i in range (n_traj)])\n",
    "trav.close()\n",
    "for i in range(len(res)):\n",
    "    traj.append(res[i][0])\n",
    "    traj_grad.append(res[i][1])\n",
    "    print(\"accepted = \",res[i][2])\n",
    "traj = np.asarray(traj)\n",
    "traj_grad = np.asarray(traj_grad)\n",
    "traj_grad = (-1)*traj_grad"
   ]
  },
  {
   "cell_type": "markdown",
   "metadata": {},
   "source": [
    "### Apply control variates"
   ]
  },
  {
   "cell_type": "code",
   "execution_count": 192,
   "metadata": {},
   "outputs": [],
   "source": [
    "bn = 10\n",
    "W_test = construct_ESVM_kernel(N_test,bn)"
   ]
  },
  {
   "cell_type": "code",
   "execution_count": 193,
   "metadata": {},
   "outputs": [],
   "source": [
    "from baselines import set_function, Spectral_var\n",
    "def ZVpoly1d(traj,traj_grad,f_target,deg,lamda_reg,W_spec):\n",
    "    if f_target == \"sum\":\n",
    "        samples = traj[:,0].reshape(-1,1)\n",
    "    else:\n",
    "        raise \"Unexpected function type in Eval_ZVCV_1d\"\n",
    "    L_psi = np.zeros((deg,samples.shape[0]),dtype = float)\n",
    "    for i in range(deg):\n",
    "        L_psi[i] = (i+1)*traj_grad[:,0]*(traj[:,0]**i) + i*(i+1)*(traj[:,0]**(i-1))\n",
    "    #compute main matrix\n",
    "    H_zv = np.cov(L_psi, rowvar=True)\n",
    "    #compute right side\n",
    "    b_zv = ((L_psi - L_psi.mean(axis=1).reshape(deg,1)) @ (samples - samples.mean(axis=0)))/(samples.shape[0]-1)\n",
    "    theta = np.linalg.inv(H_zv + lambda_reg*np.eye(deg)) @ b_zv\n",
    "    ZV_est = samples - L_psi.T @ theta\n",
    "    mean_ZV = np.mean(ZV_est, axis = 0)\n",
    "    var_ZV = Spectral_var(ZV_est[:,0],W_spec)\n",
    "    return mean_ZV, var_ZV\n",
    "\n",
    "def CVpoly1d(traj,traj_grad,f_target,deg,lamda_reg,W_spec):\n",
    "    if f_target == \"sum\":\n",
    "        samples = traj[:,0].reshape(-1,1)\n",
    "    else:\n",
    "        raise \"Unexpected function type in Eval_ZVCV_1d\"\n",
    "    Nabla_psi = np.zeros((deg,samples.shape[0]),dtype=float)\n",
    "    Psi = np.zeros((deg,samples.shape[0]),dtype=float)\n",
    "    L_psi = np.zeros((deg,samples.shape[0]),dtype=float)\n",
    "    for i in range(deg):\n",
    "        Nabla_psi[i] = (i+1)*(traj[:,0]**i)\n",
    "        Psi[i] = traj[:,0]**(i+1)\n",
    "        L_psi[i] = (i+1)*traj_grad[:,0]*(traj[:,0]**i) + i*(i+1)*(traj[:,0]**(i-1))\n",
    "    #compute main matrix\n",
    "    H_cv = np.dot(Nabla_psi,Nabla_psi.T)/samples.shape[0]\n",
    "    #compute right side\n",
    "    b_cv = ((Psi - Psi.mean(axis=1).reshape(deg,1)) @ (samples - samples.mean(axis=0)))/(samples.shape[0]-1)\n",
    "    theta = np.linalg.inv(H_cv + lambda_reg*np.eye(deg)) @ b_cv\n",
    "    CV_est = samples - L_psi.T @ theta\n",
    "    mean_CV = np.mean(CV_est, axis = 0)\n",
    "    var_CV = Spectral_var(CV_est[:,0],W_spec)\n",
    "    return mean_CV, var_CV\n",
    "\n",
    "def CVpoly1d_adj(traj,traj_grad,f_target,deg,lamda_reg,W_spec):\n",
    "    if f_target == \"sum\":\n",
    "        samples = traj[:,0].reshape(-1,1)\n",
    "    else:\n",
    "        raise \"Unexpected function type in Eval_ZVCV_1d\"\n",
    "    Nabla_psi = np.zeros((deg,samples.shape[0]),dtype=float)\n",
    "    Psi = np.zeros((deg,samples.shape[0]),dtype=float)\n",
    "    L_psi = np.zeros((deg,samples.shape[0]),dtype=float)\n",
    "    for i in range(deg):\n",
    "        Nabla_psi[i] = (i+1)*(traj[:,0]**i)\n",
    "        Psi[i] = traj[:,0]**(i+1)\n",
    "        L_psi[i] = (i+1)*traj_grad[:,0]*(traj[:,0]**i) + i*(i+1)*(traj[:,0]**(i-1))\n",
    "    #compute main matrix\n",
    "    Pois = np.concatenate([Psi,-L_psi],axis=0)\n",
    "    Cov_matr = np.cov(Pois,rowvar = True)\n",
    "    H_cv = Cov_matr[:deg,deg:]\n",
    "    #compute right side\n",
    "    b_cv = ((Psi - Psi.mean(axis=1).reshape(deg,1)) @ (samples - samples.mean(axis=0)))/(samples.shape[0]-1)\n",
    "    theta = np.linalg.inv(H_cv + lambda_reg*np.eye(deg)) @ b_cv\n",
    "    CV_est = samples + L_psi.T @ theta\n",
    "    mean_CV = np.mean(CV_est, axis = 0)\n",
    "    var_CV = Spectral_var(CV_est[:,0],W_spec)\n",
    "    return mean_CV, var_CV\n",
    "    \n",
    "\n",
    "def Eval_ZVCV_1d(traj,traj_grad,f_target,deg,lambda_reg,W_spec):\n",
    "    if f_target == \"sum\":\n",
    "        samples = traj.sum(axis = 1).reshape(-1,1)\n",
    "    else:\n",
    "        raise \"Unexpected function type in Eval_ZVCV_1d\"\n",
    "    mean_vanilla = np.mean(samples)\n",
    "    vars_vanilla = Spectral_var(samples[:,0],W_spec)\n",
    "    mean_ZV, var_ZV = ZVpoly1d(traj,traj_grad,f_target,deg,lambda_reg,W_spec)\n",
    "    mean_CV, var_CV = CVpoly1d(traj,traj_grad,f_target,deg,lambda_reg,W_spec)\n",
    "    mean_CV_pois, var_CV_pois = CVpoly1d_adj(traj,traj_grad,f_target,deg,lambda_reg,W_spec)\n",
    "    return (mean_vanilla,mean_ZV, mean_CV, mean_CV_pois), (vars_vanilla, var_ZV, var_CV, var_CV_pois)"
   ]
  },
  {
   "cell_type": "code",
   "execution_count": 217,
   "metadata": {},
   "outputs": [],
   "source": [
    "#f_type = \"sum\"\n",
    "f_type = \"sum\"\n",
    "params = {\"ind\":0}\n",
    "lambda_reg = 1e-10\n",
    "deg = 20\n",
    "nbcores = multiprocessing.cpu_count()\n",
    "trav = Pool(nbcores)\n",
    "res = trav.starmap(Eval_ZVCV_1d, [(traj[i,:,:],traj_grad[i,:,:],f_type,deg,lambda_reg,W_test) for i in range (n_traj)])\n",
    "trav.close()"
   ]
  },
  {
   "cell_type": "code",
   "execution_count": 218,
   "metadata": {},
   "outputs": [
    {
     "name": "stdout",
     "output_type": "stream",
     "text": [
      "(24, 2, 4)\n"
     ]
    }
   ],
   "source": [
    "res_arr = np.asarray(res)\n",
    "print(res_arr.shape)"
   ]
  },
  {
   "cell_type": "markdown",
   "metadata": {},
   "source": [
    "### Save results"
   ]
  },
  {
   "cell_type": "code",
   "execution_count": 219,
   "metadata": {},
   "outputs": [
    {
     "name": "stdout",
     "output_type": "stream",
     "text": [
      "Average vr rates:\n",
      "ZV: 6.589531899421463\n",
      "CV: 2.2121475935807555\n",
      "adjusted CV: 1953.3583784610767\n"
     ]
    }
   ],
   "source": [
    "#np.save(\"ode/mala_step_1e-5_obs_20_sum_15_04.npy\",res_arr)\n",
    "print(\"Average vr rates:\")\n",
    "print(\"ZV:\",np.mean(res_arr[:,1,0]/res_arr[:,1,1]))\n",
    "print(\"CV:\",np.mean(res_arr[:,1,0]/res_arr[:,1,2]))\n",
    "print(\"adjusted CV:\",np.mean(res_arr[:,1,0]/res_arr[:,1,3]))"
   ]
  },
  {
   "cell_type": "code",
   "execution_count": 101,
   "metadata": {},
   "outputs": [
    {
     "name": "stdout",
     "output_type": "stream",
     "text": [
      "CV1:  [[0.03360534]]\n",
      "CV1:  [[0.0241761]]\n",
      "CV1:  [[0.03343332]]\n",
      "CV1:  [[0.03234279]]\n",
      "CV1:  [[0.02315055]]\n",
      "CV1:  [[0.02175919]]\n",
      "CV1:  [[0.03134129]]\n",
      "CV1:  [[0.03621163]]\n",
      "CV1:  [[0.03058547]]\n",
      "CV1:  [[0.02475979]]\n",
      "CV1:  [[0.03053906]]\n",
      "CV1:  [[0.02110345]]\n",
      "CV1:  [[0.03796631]]\n",
      "CV1:  [[0.02133587]]\n",
      "CV1:  [[0.02998388]]\n",
      "CV1:  [[0.02712044]]\n",
      "CV1:  [[0.0179446]]\n",
      "CV1:  [[0.02238743]]\n",
      "CV1:  [[0.02754317]]\n",
      "CV1:  [[0.0227269]]\n",
      "CV1:  [[0.02897844]]\n",
      "CV1:  [[0.02947465]]\n",
      "CV1:  [[0.02950719]]\n",
      "CV1:  [[0.02325974]]\n"
     ]
    }
   ],
   "source": [
    "#f_type = \"sum\"\n",
    "f_type = \"sum_comps\"\n",
    "params = {\"ind\":0}\n",
    "nbcores = multiprocessing.cpu_count()\n",
    "trav = Pool(nbcores)\n",
    "res = trav.starmap(Eval_ZVCV, [(traj[i,:,:],traj_grad[i,:,:],f_type,params,W_test) for i in range (n_traj)])\n",
    "trav.close()"
   ]
  },
  {
   "cell_type": "code",
   "execution_count": 102,
   "metadata": {},
   "outputs": [
    {
     "name": "stdout",
     "output_type": "stream",
     "text": [
      "(24, 2, 5)\n",
      "Average vr rates:\n",
      "ZV-1: 33.04793707169103\n",
      "CV-1: 22.848385111759118\n",
      "ZV-2: 69.96650211520901\n",
      "CV-2: 78.23581144513331\n"
     ]
    }
   ],
   "source": [
    "res_arr_new = np.asarray(res)\n",
    "print(res_arr_new.shape)\n",
    "#np.save(\"ode/mala_step_1e-5_obs_20_sum_15_04.npy\",res_arr)\n",
    "print(\"Average vr rates:\")\n",
    "print(\"ZV-1:\",np.mean(res_arr_new[:,1,0]/res_arr_new[:,1,1]))\n",
    "print(\"CV-1:\",np.mean(res_arr_new[:,1,0]/res_arr_new[:,1,3]))\n",
    "print(\"ZV-2:\",np.mean(res_arr_new[:,1,0]/res_arr_new[:,1,2]))\n",
    "print(\"CV-2:\",np.mean(res_arr_new[:,1,0]/res_arr_new[:,1,4]))"
   ]
  },
  {
   "cell_type": "markdown",
   "metadata": {},
   "source": [
    "### Plotting the results"
   ]
  },
  {
   "cell_type": "code",
   "execution_count": 220,
   "metadata": {},
   "outputs": [],
   "source": [
    "title = \"\"\n",
    "labels = ['Vanilla\\n MALA', 'MALA \\nwith EVM-1', 'MALA \\nwith CV-1']"
   ]
  },
  {
   "cell_type": "code",
   "execution_count": 221,
   "metadata": {},
   "outputs": [
    {
     "data": {
      "image/png": "[encoded data removed]",
      "text/plain": [
       "<Figure size 500x400 with 1 Axes>"
      ]
     },
     "metadata": {
      "needs_background": "light"
     },
     "output_type": "display_data"
    }
   ],
   "source": [
    "data = [res_arr[:,0,0],res_arr[:,0,1],res_arr[:,0,3]] \n",
    "boxplot_ind(data, title, labels)"
   ]
  },
  {
   "cell_type": "code",
   "execution_count": 69,
   "metadata": {},
   "outputs": [
    {
     "data": {
      "image/png": "[encoded data removed]",
      "text/plain": [
       "<Figure size 500x400 with 1 Axes>"
      ]
     },
     "metadata": {
      "needs_background": "light"
     },
     "output_type": "display_data"
    }
   ],
   "source": [
    "data = [res_arr[:,0,0],res_arr_new[:,0,2],res_arr_new[:,0,4]] \n",
    "boxplot_ind(data, title, labels)"
   ]
  },
  {
   "cell_type": "code",
   "execution_count": null,
   "metadata": {},
   "outputs": [],
   "source": [
    "title = \"\"\n",
    "labels = ['MALA \\nwith EVM-1', 'MALA \\nwith CV-1']"
   ]
  },
  {
   "cell_type": "code",
   "execution_count": null,
   "metadata": {},
   "outputs": [],
   "source": [
    "data = [res_arr[:,0,1],res_arr[:,0,3]] \n",
    "boxplot_ind(data, title, labels)"
   ]
  },
  {
   "cell_type": "code",
   "execution_count": null,
   "metadata": {},
   "outputs": [],
   "source": [
    "title = \"\"\n",
    "labels = ['Vanilla\\n MALA', 'MALA \\nwith EVM-2', 'MALA \\nwith CV-2']"
   ]
  },
  {
   "cell_type": "code",
   "execution_count": null,
   "metadata": {
    "scrolled": true
   },
   "outputs": [],
   "source": [
    "data = [res_arr[:,0,0],res_arr[:,0,2],res_arr[:,0,4]] \n",
    "boxplot_ind(data, title, labels)"
   ]
  },
  {
   "cell_type": "code",
   "execution_count": null,
   "metadata": {},
   "outputs": [],
   "source": [
    "print(res_arr[:,0,4])"
   ]
  },
  {
   "cell_type": "code",
   "execution_count": null,
   "metadata": {},
   "outputs": [],
   "source": [
    "title = \"\"\n",
    "labels = ['MALA \\nwith EVM-2', 'MALA \\nwith CV-2']"
   ]
  },
  {
   "cell_type": "code",
   "execution_count": null,
   "metadata": {},
   "outputs": [],
   "source": [
    "data = [res_arr[:,0,2],res_arr[:,0,4]] \n",
    "boxplot_ind(data, title, labels)"
   ]
  },
  {
   "cell_type": "code",
   "execution_count": null,
   "metadata": {},
   "outputs": [],
   "source": []
  }
 ],
 "metadata": {
  "kernelspec": {
   "display_name": "Python 3",
   "language": "python",
   "name": "python3"
  },
  "language_info": {
   "codemirror_mode": {
    "name": "ipython",
    "version": 3
   },
   "file_extension": ".py",
   "mimetype": "text/x-python",
   "name": "python",
   "nbconvert_exporter": "python",
   "pygments_lexer": "ipython3",
   "version": "3.7.3"
  }
 },
 "nbformat": 4,
 "nbformat_minor": 2
}
