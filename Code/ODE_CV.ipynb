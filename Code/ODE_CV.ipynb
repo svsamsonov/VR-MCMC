{
 "cells": [
  {
   "cell_type": "code",
   "execution_count": 1,
   "metadata": {},
   "outputs": [],
   "source": [
    "import numpy as np\n",
    "from scipy.integrate import RK45,solve_ivp\n",
    "from ODE_potentials import VanDerPolePotential,LotkiVolterraPotential\n",
    "from ODE_samplers import MALA_ODE,ULA_ODE,grad_ascent_ODE,run_eval_test,set_function\n",
    "from multiprocessing import Pool\n",
    "import multiprocessing\n",
    "from zv_cv import Eval_ZVCV\n",
    "\n",
    "from baselines import construct_ESVM_kernel\n",
    "from optimize import optimize_parallel_new\n",
    "from utils import *"
   ]
  },
  {
   "cell_type": "markdown",
   "metadata": {},
   "source": [
    "Parameters for van-der-Pole and Lotki-Volterra examples: "
   ]
  },
  {
   "cell_type": "code",
   "execution_count": 2,
   "metadata": {},
   "outputs": [],
   "source": [
    "typ = 'LV' #'LV' for Lotki-Volterra, 'VdP' for Van-der-Pole\n",
    "method = {\"sampler\":\"MALA\"} #switch between ULA and MALA\n",
    "f_type = \"sum_comps\"\n",
    "\n",
    "if typ == 'VdP':\n",
    "    #true parameter value\n",
    "    theta_star = 1.0\n",
    "    #initial coordiante and speed\n",
    "    y0 = np.array([0.0,2.0],dtype=float)\n",
    "    #error of measurements\n",
    "    sigma = 0.5\n",
    "    #prior variance\n",
    "    sigma_prior = 0.5\n",
    "elif typ == 'LV':\n",
    "    theta_star = np.array([0.6,0.025,0.8,0.025],dtype = float)\n",
    "    #initial number of victims and predators\n",
    "    y0 = np.array([30.0,4.0],dtype=float)\n",
    "    #setting prior parameters\n",
    "    sigma_prior = np.array([0.5,0.05,0.5,0.05],dtype = float)\n",
    "    mu_prior = np.array([1.0,0.05,1.0,0.05],dtype=float)\n",
    "    #measurements error\n",
    "    sigma = np.array([0.25,0.25])"
   ]
  },
  {
   "cell_type": "markdown",
   "metadata": {},
   "source": [
    "Timestaps"
   ]
  },
  {
   "cell_type": "code",
   "execution_count": 3,
   "metadata": {},
   "outputs": [
    {
     "name": "stdout",
     "output_type": "stream",
     "text": [
      "[ 0.  1.  2.  3.  4.  5.  6.  7.  8.  9. 10.]\n"
     ]
    }
   ],
   "source": [
    "#initial and last time moments\n",
    "t0 = 0\n",
    "t_bound = 10\n",
    "N_steps = 10\n",
    "#moments of observations\n",
    "t_moments = np.linspace(t0,t_bound,N_steps+1)\n",
    "print(t_moments)"
   ]
  },
  {
   "cell_type": "markdown",
   "metadata": {},
   "source": [
    "Creating potentials"
   ]
  },
  {
   "cell_type": "code",
   "execution_count": 4,
   "metadata": {},
   "outputs": [
    {
     "name": "stdout",
     "output_type": "stream",
     "text": [
      "system solved\n",
      "[[ 37.52358801   5.44451059]\n",
      " [ 49.31015054   4.44056815]\n",
      " [ 68.02780239   7.49382876]\n",
      " [ 96.31994597  69.0224216 ]\n",
      " [ 33.96485552 119.57915384]\n",
      " [ 11.19476367  55.29111344]\n",
      " [  7.28510513  25.46629586]\n",
      " [  3.95843583  11.12542133]\n",
      " [ 12.06748946   3.71380176]\n",
      " [ 12.38341447   6.01556616]\n",
      " [ 18.28774199   3.71351383]]\n"
     ]
    }
   ],
   "source": [
    "if typ == 'VdP':\n",
    "    Cur_pot = VanDerPolePotential(sigma,sigma_prior,t_moments,theta_star,y0,t0,t_bound)\n",
    "elif typ == 'LV':\n",
    "    Cur_pot = LotkiVolterraPotential(sigma,mu_prior,sigma_prior,t_moments,theta_star,y0,t0,t_bound)"
   ]
  },
  {
   "cell_type": "markdown",
   "metadata": {},
   "source": [
    "Sampling (currently with MALA)"
   ]
  },
  {
   "cell_type": "code",
   "execution_count": 5,
   "metadata": {},
   "outputs": [],
   "source": [
    "r_seed = 666\n",
    "#burn-in period\n",
    "N_burn = 1*10**3\n",
    "#Train size\n",
    "N_train = 1*10**4\n",
    "#Test size\n",
    "N_test = 1*10**4\n",
    "#number of test trajectories\n",
    "n_traj_test = 20\n",
    "if typ == 'VdP':\n",
    "    #dimension\n",
    "    d = 1\n",
    "    #step size\n",
    "    step = 1e-3\n",
    "elif typ == 'LV':\n",
    "    #dimension\n",
    "    d = 4\n",
    "    #step size\n",
    "    step = 5e-6"
   ]
  },
  {
   "cell_type": "code",
   "execution_count": 6,
   "metadata": {},
   "outputs": [],
   "source": [
    "bn = 20\n",
    "W_test = construct_ESVM_kernel(N_test,bn)"
   ]
  },
  {
   "cell_type": "markdown",
   "metadata": {},
   "source": [
    "### Construct kernels and sample"
   ]
  },
  {
   "cell_type": "code",
   "execution_count": 7,
   "metadata": {},
   "outputs": [],
   "source": [
    "# Construct kernel\n",
    "#W_train_spec = construct_ESVM_kernel(N_train)\n",
    "#W_test_spec = construct_ESVM_kernel(N_test)"
   ]
  },
  {
   "cell_type": "code",
   "execution_count": 8,
   "metadata": {},
   "outputs": [],
   "source": [
    "if typ == 'VdP':\n",
    "    params_prior = {\"sigma\":sigma_prior}\n",
    "elif typ == 'LV':\n",
    "    params_prior = {\"mu\":mu_prior,\"sigma\":sigma_prior}"
   ]
  },
  {
   "cell_type": "markdown",
   "metadata": {},
   "source": [
    "### Compute starting point (maximum likelihood)"
   ]
  },
  {
   "cell_type": "code",
   "execution_count": 9,
   "metadata": {},
   "outputs": [
    {
     "name": "stdout",
     "output_type": "stream",
     "text": [
      "mle for parameters:  [0.6467501  0.02390763 0.81164578 0.02461639]\n"
     ]
    }
   ],
   "source": [
    "N_steps_ascent = 10000\n",
    "traj,traj_grad = grad_ascent_ODE(1453,Cur_pot,step,params_prior,N_steps_ascent,d,typ)\n",
    "theta_mle = traj[-1,:]\n",
    "print(\"mle for parameters: \",theta_mle)\n",
    "Cur_pot.set_mle(theta_mle)"
   ]
  },
  {
   "cell_type": "code",
   "execution_count": 10,
   "metadata": {},
   "outputs": [
    {
     "name": "stdout",
     "output_type": "stream",
     "text": [
      "[[-2.24829044e-11 -3.70759423e-10 -8.35420622e-12 -7.99621702e-10]\n",
      " [ 2.17386109e-11  2.15825580e-10  4.08562073e-13  6.65506761e-10]\n",
      " [-8.64153193e-12  3.10418358e-11  4.99866815e-12 -2.03080219e-10]\n",
      " [-2.23390195e-11  1.58593139e-11  2.17879048e-11 -6.36415365e-10]\n",
      " [ 6.86872781e-12  8.06004152e-11  1.55591096e-11  1.29166011e-10]\n",
      " [ 3.61310981e-12 -2.37800890e-11  3.34887673e-12  5.84261528e-11]\n",
      " [ 2.38555842e-11  1.76767045e-10 -1.66844316e-12  7.31555261e-10]\n",
      " [-2.60649280e-11 -3.28492789e-10 -2.35722553e-12 -8.47359516e-10]\n",
      " [ 1.46118673e-11 -3.61382035e-11 -7.55084884e-12  3.53569618e-10]\n",
      " [-4.33431069e-13 -1.08492770e-10 -2.29150032e-12 -8.99920138e-11]]\n"
     ]
    }
   ],
   "source": [
    "print(traj_grad[-10:,:])"
   ]
  },
  {
   "cell_type": "markdown",
   "metadata": {},
   "source": [
    "### Setting function "
   ]
  },
  {
   "cell_type": "code",
   "execution_count": 11,
   "metadata": {},
   "outputs": [
    {
     "name": "stdout",
     "output_type": "stream",
     "text": [
      "accepted =  7902\n",
      "accepted =  8030\n",
      "accepted =  7910\n",
      "accepted =  7939\n",
      "accepted =  7818\n",
      "accepted =  7995\n",
      "accepted =  8021\n",
      "accepted =  7962\n",
      "accepted =  7812\n",
      "accepted =  7888\n",
      "accepted =  7964\n",
      "accepted =  8039\n",
      "accepted =  7978\n",
      "accepted =  8012\n",
      "accepted =  7869\n",
      "accepted =  7895\n",
      "accepted =  7864\n",
      "accepted =  7849\n",
      "accepted =  7999\n",
      "accepted =  7841\n",
      "accepted =  8040\n",
      "accepted =  7937\n",
      "accepted =  8000\n",
      "accepted =  8015\n"
     ]
    }
   ],
   "source": [
    "inds_arr = np.array([0])\n",
    "params = {\"ind\":0}\n",
    "t_moments = None\n",
    "r_seed = 777\n",
    "n_traj = 24\n",
    "traj = []\n",
    "traj_grad = []\n",
    "#genertae data\n",
    "nbcores = multiprocessing.cpu_count()\n",
    "trav = Pool(nbcores)\n",
    "res = trav.starmap(MALA_ODE, [(r_seed+i,Cur_pot, step, params_prior, N_burn, N_train, d, typ) for i in range (n_traj)])\n",
    "trav.close()\n",
    "for i in range(len(res)):\n",
    "    traj.append(res[i][0])\n",
    "    traj_grad.append(res[i][1])\n",
    "    print(\"accepted = \",res[i][2])\n",
    "traj = np.asarray(traj)\n",
    "traj_grad = np.asarray(traj_grad)\n",
    "traj_grad = (-1)*traj_grad"
   ]
  },
  {
   "cell_type": "markdown",
   "metadata": {},
   "source": [
    "### Apply control variates"
   ]
  },
  {
   "cell_type": "code",
   "execution_count": 62,
   "metadata": {},
   "outputs": [],
   "source": [
    "#f_type = \"sum\"\n",
    "f_type = \"sum_comps\"\n",
    "params = {\"ind\":2}\n",
    "nbcores = multiprocessing.cpu_count()\n",
    "trav = Pool(nbcores)\n",
    "res = trav.starmap(Eval_ZVCV, [(traj[i,:,:],traj_grad[i,:,:],f_type,params,W_test) for i in range (n_traj)])\n",
    "trav.close()"
   ]
  },
  {
   "cell_type": "code",
   "execution_count": 63,
   "metadata": {},
   "outputs": [
    {
     "name": "stdout",
     "output_type": "stream",
     "text": [
      "sum_comps\n"
     ]
    }
   ],
   "source": [
    "print(f_type)"
   ]
  },
  {
   "cell_type": "code",
   "execution_count": 64,
   "metadata": {},
   "outputs": [
    {
     "name": "stdout",
     "output_type": "stream",
     "text": [
      "(24, 2, 5)\n"
     ]
    }
   ],
   "source": [
    "res_arr = np.asarray(res)\n",
    "print(res_arr.shape)"
   ]
  },
  {
   "cell_type": "markdown",
   "metadata": {},
   "source": [
    "### Save results"
   ]
  },
  {
   "cell_type": "code",
   "execution_count": null,
   "metadata": {},
   "outputs": [],
   "source": [
    "np.save(\"ode/mala_step_1e-5_obs_20_sum_15_04.npy\",res_arr)\n",
    "print(\"Average vr rates:\")\n",
    "print(\"ZV-1:\",np.mean(res_arr[:,1,0]/res_arr[:,1,1]))\n",
    "print(\"CV-1:\",np.mean(res_arr[:,1,0]/res_arr[:,1,3]))\n",
    "print(\"ZV-2:\",np.mean(res_arr[:,1,0]/res_arr[:,1,2]))\n",
    "print(\"CV-2:\",np.mean(res_arr[:,1,0]/res_arr[:,1,4]))"
   ]
  },
  {
   "cell_type": "markdown",
   "metadata": {},
   "source": [
    "### Plotting the results"
   ]
  },
  {
   "cell_type": "code",
   "execution_count": 73,
   "metadata": {},
   "outputs": [],
   "source": [
    "title = \"\"\n",
    "labels = ['Vanilla\\n MALA', 'MALA \\nwith EVM', 'MALA \\nwith ESVM']"
   ]
  },
  {
   "cell_type": "code",
   "execution_count": 74,
   "metadata": {},
   "outputs": [
    {
     "data": {
      "image/png": "[encoded data removed]",
      "text/plain": [
       "<Figure size 500x400 with 1 Axes>"
      ]
     },
     "metadata": {
      "needs_background": "light"
     },
     "output_type": "display_data"
    }
   ],
   "source": [
    "data = [res_arr[:,0,0],res_arr[:,0,1],res_arr[:,0,3]] \n",
    "boxplot_ind(data, title, labels)"
   ]
  },
  {
   "cell_type": "code",
   "execution_count": 75,
   "metadata": {},
   "outputs": [],
   "source": [
    "title = \"\"\n",
    "labels = ['MALA \\nwith EVM', 'MALA \\nwith ESVM']"
   ]
  },
  {
   "cell_type": "code",
   "execution_count": 76,
   "metadata": {},
   "outputs": [
    {
     "data": {
      "image/png": "[encoded data removed]",
      "text/plain": [
       "<Figure size 500x400 with 1 Axes>"
      ]
     },
     "metadata": {
      "needs_background": "light"
     },
     "output_type": "display_data"
    }
   ],
   "source": [
    "data = [res_arr[:,0,1],res_arr[:,0,3]] \n",
    "boxplot_ind(data, title, labels)"
   ]
  },
  {
   "cell_type": "code",
   "execution_count": 69,
   "metadata": {},
   "outputs": [],
   "source": [
    "title = \"\"\n",
    "labels = ['Vanilla\\n MALA', 'MALA \\nwith EVM', 'MALA \\nwith ESVM']"
   ]
  },
  {
   "cell_type": "code",
   "execution_count": 70,
   "metadata": {
    "scrolled": true
   },
   "outputs": [
    {
     "data": {
      "image/png": "[encoded data removed]",
      "text/plain": [
       "<Figure size 500x400 with 1 Axes>"
      ]
     },
     "metadata": {
      "needs_background": "light"
     },
     "output_type": "display_data"
    }
   ],
   "source": [
    "data = [res_arr[:,0,0],res_arr[:,0,2],res_arr[:,0,4]] \n",
    "boxplot_ind(data, title, labels)"
   ]
  },
  {
   "cell_type": "code",
   "execution_count": 71,
   "metadata": {},
   "outputs": [],
   "source": [
    "title = \"\"\n",
    "labels = ['MALA \\nwith EVM', 'MALA \\nwith ESVM']"
   ]
  },
  {
   "cell_type": "code",
   "execution_count": 72,
   "metadata": {},
   "outputs": [
    {
     "data": {
      "image/png": "[encoded data removed]",
      "text/plain": [
       "<Figure size 500x400 with 1 Axes>"
      ]
     },
     "metadata": {
      "needs_background": "light"
     },
     "output_type": "display_data"
    }
   ],
   "source": [
    "data = [res_arr[:,0,2],res_arr[:,0,4]] \n",
    "boxplot_ind(data, title, labels)"
   ]
  },
  {
   "cell_type": "code",
   "execution_count": null,
   "metadata": {},
   "outputs": [],
   "source": []
  }
 ],
 "metadata": {
  "kernelspec": {
   "display_name": "Python 3",
   "language": "python",
   "name": "python3"
  },
  "language_info": {
   "codemirror_mode": {
    "name": "ipython",
    "version": 3
   },
   "file_extension": ".py",
   "mimetype": "text/x-python",
   "name": "python",
   "nbconvert_exporter": "python",
   "pygments_lexer": "ipython3",
   "version": "3.6.7"
  }
 },
 "nbformat": 4,
 "nbformat_minor": 2
}
