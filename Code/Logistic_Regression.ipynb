{
 "cells": [
  {
   "cell_type": "code",
   "execution_count": 1,
   "metadata": {},
   "outputs": [],
   "source": [
    "import numpy as np\n",
    "import numpy.polynomial as P\n",
    "import scipy as sp\n",
    "from matplotlib import pyplot as plt\n",
    "from tqdm import tqdm\n",
    "#from sklearn.preprocessing import PolynomialFeatures\n",
    "from multiprocessing import Pool\n",
    "import multiprocessing\n",
    "import ZVnbrosse\n",
    "from potentials import GaussPotential,GaussMixture,GausMixtureIdent,GausMixtureSame,potentialRegression\n",
    "from samplers import MCMC_sampler,Generate_train,ULA_light\n",
    "from baselines import set_function,construct_ESVM_kernel,GenerateSigma,standartize\n",
    "from martingale import approx_q,test_traj\n",
    "from optimize import Run_eval_test,optimize_parallel_new \n",
    "from utils import *\n",
    "import pandas as pd\n",
    "import copy"
   ]
  },
  {
   "cell_type": "code",
   "execution_count": 2,
   "metadata": {},
   "outputs": [],
   "source": [
    "dataset = \"swiss\" # Switch between \"eeg\" and \"susy\" \n",
    "intercept = False # Do we include the intercept\n",
    "degree = 1 #order of CV's: 1 or 2 expected\n",
    "typ = \"logistic\" #logistic or probit are expected\n",
    "\n",
    "sampler = {\"sampler\":\"ULA\",\"burn_type\":\"full\",\"main_type\":\"full\"} # Sampling method\n",
    "\n",
    "# Switch between \"posterior_prob_point\", \"posterior_prob_mean\", \"posterior_prob_variance\", \"posterior_mean\"\n",
    "if typ == \"logistic\":\n",
    "    f_type = \"sum\"\n",
    "elif typ == \"probit\":\n",
    "    f_type = \"posterior_prob_mean_probit\""
   ]
  },
  {
   "cell_type": "markdown",
   "metadata": {},
   "source": [
    "### Loading data"
   ]
  },
  {
   "cell_type": "code",
   "execution_count": 3,
   "metadata": {},
   "outputs": [],
   "source": [
    "if (dataset == \"swiss\"):\n",
    "    data = pd.read_csv(\"./data/swiss.csv\",header=None)\n",
    "    outliers_inds = np.array([])\n",
    "    Y = data.iloc[:,-1]\n",
    "    X = data.iloc[:,:-1]\n",
    "elif (dataset == \"eeg\"):   \n",
    "    data = pd.read_csv(\"../iZAV_code/data/eeg.csv\",header=None)\n",
    "    outliers_inds = np.array([13179,11509,898,10386])\n",
    "    Y = data.iloc[:,-1]\n",
    "    X = data.iloc[:,:-1]\n",
    "elif (dataset == \"pima\"):\n",
    "    data = pd.read_csv(\"../iZAV_code/data/pima.csv\",header=None)\n",
    "    outliers_inds = np.array([])\n",
    "    Y = data.iloc[:,-1]\n",
    "    X = data.iloc[:,:-1]\n",
    "elif (dataset == \"susy\"): \n",
    "    data = pd.read_csv(\"data/susy.csv\",header=None)\n",
    "    outliers_inds = np.array([267630])\n",
    "    Y = data.iloc[:,0]\n",
    "    X = data.iloc[:,1:]"
   ]
  },
  {
   "cell_type": "markdown",
   "metadata": {},
   "source": [
    "### Preprocessing data"
   ]
  },
  {
   "cell_type": "code",
   "execution_count": 4,
   "metadata": {},
   "outputs": [],
   "source": [
    "# Removing the outliers\n",
    "if (outliers_inds.size!=0):\n",
    "    X_processed = np.delete(np.asarray(X),outliers_inds,0)\n",
    "    mask = np.ones(len(Y),dtype = bool)\n",
    "    mask[outliers_inds] = False\n",
    "    Y_processed = Y[mask]\n",
    "    Y_processed = np.asarray(Y_processed)\n",
    "    X_processed = np.asarray(X_processed)\n",
    "else:\n",
    "    Y_processed = np.asarray(Y)\n",
    "    X_processed = np.asarray(X)"
   ]
  },
  {
   "cell_type": "code",
   "execution_count": 5,
   "metadata": {},
   "outputs": [],
   "source": [
    "#X_train,X_train = standartize(X_processed,X_processed,intercept=intercept)\n",
    "#Y_train = Y_processed"
   ]
  },
  {
   "cell_type": "code",
   "execution_count": 6,
   "metadata": {},
   "outputs": [],
   "source": [
    "X_train = copy.deepcopy(X_processed)\n",
    "Y_train = copy.deepcopy(Y_processed)\n",
    "#poor man's normalization\n",
    "X_train = np.dot(X_train - np.mean(X_train, axis=0), np.diag(1./np.std(X_train, axis=0)))"
   ]
  },
  {
   "cell_type": "code",
   "execution_count": 7,
   "metadata": {},
   "outputs": [
    {
     "name": "stdout",
     "output_type": "stream",
     "text": [
      "[[-0.25558323  2.43945206  2.83704322 -0.28973195]\n",
      " [-0.78804829 -1.17043716 -0.63638092 -0.91430383]\n",
      " [-0.25558323 -1.17043716 -0.63638092 -0.49792258]\n",
      " [-0.25558323 -1.17043716 -0.88448265 -1.33068508]\n",
      " [ 0.27688183 -1.44812094 -0.63638092  0.6818243 ]\n",
      " [ 2.14050953  1.88408449  1.34843287 -0.28973195]\n",
      " [ 1.60804448 -1.72580473 -0.63638092 -1.05309758]\n",
      " [-1.05428082 -1.44812094 -1.87688955 -1.5388757 ]\n",
      " [ 0.0106493  -2.00348852 -0.63638092 -0.84490695]\n",
      " [ 0.80934689  0.77334934  0.85222942 -0.1509382 ]\n",
      " [ 1.07557942  0.77334934  0.85222942 -1.05309758]\n",
      " [ 0.54311436 -1.72580473 -0.88448265 -1.19189133]\n",
      " [ 0.80934689  1.88408449 -0.88448265 -1.05309758]\n",
      " [-0.52181576 -1.17043716 -0.63638092 -1.19189133]\n",
      " [ 0.54311436 -0.61506959 -0.63638092 -1.19189133]\n",
      " [-1.05428082 -0.89275337 -0.3882792  -0.08154133]\n",
      " [-0.78804829 -0.61506959  0.35602597 -0.84490695]\n",
      " [ 0.27688183 -0.61506959 -0.63638092 -0.28973195]\n",
      " [ 0.80934689 -1.44812094 -0.88448265 -1.40008195]\n",
      " [-0.52181576  0.21798177 -0.14017747 -0.56731945]\n",
      " [ 0.27688183 -0.61506959 -1.62878782 -0.7061132 ]\n",
      " [ 1.87427701  1.05103313  0.10792425 -0.91430383]\n",
      " [ 1.07557942  1.32871692  0.10792425 -0.7061132 ]\n",
      " [ 2.14050953  0.21798177  0.10792425 -0.49792258]\n",
      " [ 0.54311436 -1.17043716 -0.14017747 -1.40008195]\n",
      " [ 1.07557942  0.77334934  1.10033115 -0.9837007 ]\n",
      " [ 1.60804448  0.21798177  0.35602597 -0.35912883]\n",
      " [ 0.54311436  0.49566556  0.85222942  0.26544305]\n",
      " [ 0.54311436 -0.3373858   0.10792425 -1.40008195]\n",
      " [-0.25558323 -1.17043716 -1.62878782 -0.77551008]\n",
      " [ 0.80934689 -0.05970201 -0.3882792  -1.05309758]\n",
      " [-0.25558323 -1.17043716 -0.63638092 -0.56731945]\n",
      " [ 0.27688183 -0.3373858  -0.88448265 -1.19189133]\n",
      " [ 1.87427701  0.77334934  0.35602597 -0.7061132 ]\n",
      " [ 2.67297459  0.77334934  0.10792425 -0.35912883]\n",
      " [-0.78804829  0.21798177  0.6041277  -0.01214445]\n",
      " [ 1.60804448  0.49566556  0.10792425 -0.7061132 ]\n",
      " [ 1.07557942 -0.61506959 -1.3806861  -1.05309758]\n",
      " [ 1.07557942  0.49566556  0.35602597 -0.63671633]\n",
      " [-2.65167599  0.49566556 -2.37309299 -0.91430383]\n",
      " [-1.32051334 -0.89275337 -1.87688955 -0.35912883]\n",
      " [-0.25558323 -0.05970201 -0.88448265 -0.4285257 ]\n",
      " [ 0.0106493  -1.44812094 -1.3806861  -0.08154133]\n",
      " [ 0.0106493   0.77334934 -0.63638092 -0.28973195]\n",
      " [-0.25558323 -2.00348852 -2.12499127 -0.84490695]\n",
      " [-1.58674587 -1.72580473 -1.3806861  -0.77551008]\n",
      " [-0.25558323 -0.61506959 -0.63638092 -0.77551008]\n",
      " [-0.25558323 -0.61506959 -0.63638092 -1.46947883]\n",
      " [-0.78804829 -1.17043716 -0.3882792  -1.05309758]\n",
      " [-1.05428082 -3.11422366 -0.88448265 -1.12249445]\n",
      " [-0.78804829 -0.89275337 -1.3806861  -1.5388757 ]\n",
      " [ 1.07557942  1.32871692  0.10792425  0.05725242]\n",
      " [-1.05428082 -0.05970201  0.10792425 -1.12249445]\n",
      " [ 1.34181195  0.21798177  0.6041277  -1.2612882 ]\n",
      " [-1.05428082 -2.00348852 -1.13258437 -1.05309758]\n",
      " [ 0.80934689 -1.17043716 -1.3806861  -0.1509382 ]\n",
      " [ 2.14050953 -0.3373858  -1.3806861  -0.1509382 ]\n",
      " [ 0.27688183 -1.44812094 -1.3806861  -0.4285257 ]\n",
      " [ 0.54311436 -0.05970201 -0.14017747 -1.05309758]\n",
      " [ 0.54311436 -0.3373858  -0.3882792  -0.84490695]\n",
      " [ 0.54311436 -1.44812094 -1.62878782 -0.77551008]\n",
      " [ 1.07557942 -1.17043716 -1.3806861  -1.33068508]\n",
      " [ 1.34181195 -0.89275337 -1.3806861  -0.9837007 ]\n",
      " [-1.05428082 -0.3373858  -1.13258437 -0.9837007 ]\n",
      " [ 0.27688183 -0.3373858  -0.3882792  -0.56731945]\n",
      " [ 0.80934689  1.32871692  0.10792425 -0.4285257 ]\n",
      " [-0.78804829 -1.72580473 -1.87688955 -1.19189133]\n",
      " [-0.25558323 -1.17043716 -1.62878782 -0.22033508]\n",
      " [ 0.54311436 -1.44812094 -0.3882792  -0.56731945]\n",
      " [ 0.0106493   0.21798177  0.6041277  -0.9837007 ]\n",
      " [-2.91790852 -0.89275337 -1.13258437 -0.7061132 ]\n",
      " [ 0.80934689 -0.61506959 -1.13258437 -0.84490695]\n",
      " [ 0.27688183 -1.44812094  0.6041277  -0.49792258]\n",
      " [-1.32051334 -0.61506959 -0.88448265 -1.33068508]\n",
      " [ 0.80934689 -0.61506959 -0.63638092 -1.5388757 ]\n",
      " [-2.11921093 -1.44812094 -1.62878782 -1.2612882 ]\n",
      " [ 0.0106493  -0.61506959  0.35602597 -0.4285257 ]\n",
      " [-0.78804829 -0.89275337 -1.3806861  -1.40008195]\n",
      " [ 0.80934689  1.05103313 -0.3882792  -1.05309758]\n",
      " [-0.78804829 -0.61506959 -1.3806861  -1.05309758]\n",
      " [ 0.54311436 -1.17043716 -0.63638092 -0.56731945]\n",
      " [ 0.0106493  -0.89275337 -0.88448265 -1.33068508]\n",
      " [ 0.80934689 -1.17043716 -2.12499127 -0.28973195]\n",
      " [ 0.80934689 -0.05970201 -0.14017747 -1.05309758]\n",
      " [ 1.34181195  1.6064007   0.6041277  -0.28973195]\n",
      " [ 0.54311436 -0.61506959 -0.88448265 -0.35912883]\n",
      " [ 0.80934689 -0.61506959 -0.63638092 -0.49792258]\n",
      " [ 0.27688183 -1.44812094 -1.87688955 -0.7061132 ]\n",
      " [ 0.0106493   0.49566556 -0.14017747 -1.40008195]\n",
      " [ 0.27688183 -0.61506959 -0.63638092 -0.9837007 ]\n",
      " [-0.52181576 -1.17043716 -1.62878782 -0.56731945]\n",
      " [ 1.34181195 -0.3373858  -0.14017747 -0.63671633]\n",
      " [ 0.0106493  -2.00348852 -1.13258437 -0.84490695]\n",
      " [-1.05428082 -1.72580473 -1.62878782 -1.40008195]\n",
      " [-0.52181576 -1.44812094 -1.13258437 -0.77551008]\n",
      " [ 1.87427701 -0.61506959 -0.14017747 -0.28973195]\n",
      " [ 0.27688183  0.77334934  0.85222942 -0.22033508]\n",
      " [-1.32051334 -1.17043716 -1.13258437 -0.9837007 ]\n",
      " [ 0.54311436 -0.3373858  -0.3882792  -0.22033508]\n",
      " [-0.52181576 -0.3373858  -1.3806861  -1.12249445]\n",
      " [-1.32051334 -0.05970201  0.85222942  0.19604617]\n",
      " [ 0.0106493   1.05103313  0.6041277   1.09820555]\n",
      " [ 0.0106493   0.49566556  0.35602597 -0.49792258]\n",
      " [ 0.27688183  0.77334934  1.5965346   0.33483992]\n",
      " [-0.52181576  0.21798177  0.85222942  1.65338055]\n",
      " [ 0.27688183  0.21798177  0.6041277   0.82061805]\n",
      " [ 1.07557942  0.49566556  0.35602597 -0.08154133]\n",
      " [-0.25558323 -0.05970201  1.10033115  0.26544305]\n",
      " [ 0.27688183  0.21798177 -0.14017747  0.4042368 ]\n",
      " [ 0.80934689  1.32871692  2.09273805  0.6818243 ]\n",
      " [ 0.80934689  0.77334934  0.85222942 -0.9837007 ]\n",
      " [ 0.54311436  1.05103313  0.85222942  0.82061805]\n",
      " [ 1.34181195  1.6064007   2.83704322  0.19604617]\n",
      " [ 0.0106493   0.77334934 -0.14017747  1.37579305]\n",
      " [ 0.54311436  0.49566556  0.10792425  0.82061805]\n",
      " [ 1.60804448  0.77334934  0.10792425 -0.84490695]\n",
      " [-0.52181576  1.32871692  0.35602597  1.65338055]\n",
      " [-0.52181576  0.77334934  0.35602597  1.86157117]\n",
      " [-0.25558323  1.05103313  0.6041277   1.09820555]\n",
      " [-1.32051334  0.21798177 -0.14017747  0.47363367]\n",
      " [-0.25558323  0.49566556  1.10033115  0.47363367]\n",
      " [ 0.54311436  1.32871692  0.85222942  2.00036492]\n",
      " [ 1.07557942  1.88408449  2.83704322  1.5145868 ]\n",
      " [ 0.54311436  1.6064007   1.10033115  0.75122117]\n",
      " [-0.52181576  1.05103313  1.34843287  0.33483992]\n",
      " [ 0.0106493  -0.3373858   0.85222942  0.54303055]\n",
      " [ 0.27688183  0.77334934  1.10033115 -0.01214445]\n",
      " [ 1.60804448  1.6064007   0.85222942  0.54303055]\n",
      " [ 0.54311436  0.21798177  0.6041277   0.47363367]\n",
      " [-1.05428082  0.21798177  1.5965346   0.26544305]\n",
      " [-1.58674587  0.21798177  0.10792425  0.89001492]\n",
      " [-1.05428082  0.21798177 -0.3882792   2.00036492]\n",
      " [ 0.0106493   1.05103313  0.6041277   0.82061805]\n",
      " [-0.78804829  0.21798177  1.10033115  0.75122117]\n",
      " [-1.8529784  -0.3373858   0.6041277   1.09820555]\n",
      " [-0.25558323 -0.05970201  0.35602597  1.72277742]\n",
      " [-0.78804829 -0.89275337  0.6041277   0.89001492]\n",
      " [ 0.0106493   1.6064007   0.85222942 -0.08154133]\n",
      " [-0.78804829  0.77334934  1.10033115  1.30639617]\n",
      " [-1.05428082  1.05103313  0.6041277   1.65338055]\n",
      " [-0.25558323  0.21798177  0.85222942  0.4042368 ]\n",
      " [-0.52181576 -0.3373858  -1.3806861   0.54303055]\n",
      " [-0.78804829  0.21798177  1.10033115  1.2369993 ]\n",
      " [ 0.27688183  1.05103313  1.10033115  0.82061805]\n",
      " [-1.05428082 -0.89275337 -0.3882792   1.37579305]\n",
      " [ 0.0106493   1.32871692  1.10033115  1.72277742]\n",
      " [ 0.27688183  1.05103313  1.10033115  1.37579305]\n",
      " [ 1.07557942  1.32871692  0.85222942 -0.08154133]\n",
      " [-0.52181576  0.21798177  0.35602597  0.89001492]\n",
      " [ 0.0106493  -0.61506959  0.10792425  0.33483992]\n",
      " [ 0.0106493   0.49566556 -0.14017747  1.72277742]\n",
      " [-0.78804829 -0.61506959 -0.63638092  1.72277742]\n",
      " [-0.78804829 -1.17043716 -1.62878782  0.6818243 ]\n",
      " [-1.05428082 -0.05970201  0.35602597  1.86157117]\n",
      " [-1.05428082  0.49566556  0.10792425  1.09820555]\n",
      " [ 0.54311436 -0.3373858   0.85222942  1.5145868 ]\n",
      " [-1.8529784  -1.17043716 -0.88448265  0.61242742]\n",
      " [-1.32051334 -0.05970201  0.10792425  1.30639617]\n",
      " [-0.25558323  0.77334934  1.5965346   2.13915867]\n",
      " [-0.78804829  1.32871692  0.35602597 -0.91430383]\n",
      " [ 1.87427701 -0.05970201 -0.63638092 -1.40008195]\n",
      " [ 0.0106493   1.05103313  0.35602597  0.33483992]\n",
      " [-0.78804829 -0.05970201  0.10792425  1.44518992]\n",
      " [-0.52181576 -0.05970201  0.6041277   1.5145868 ]\n",
      " [-1.58674587  0.49566556  0.10792425  1.37579305]\n",
      " [ 0.54311436  0.49566556  1.5965346   0.61242742]\n",
      " [ 3.73790471  1.6064007   1.10033115  0.4042368 ]\n",
      " [ 1.87427701  0.77334934  0.35602597  0.1266493 ]\n",
      " [-0.25558323 -0.61506959 -0.3882792   0.1266493 ]\n",
      " [ 0.0106493  -0.3373858  -0.14017747  1.37579305]\n",
      " [-2.65167599  1.6064007   1.34843287 -0.49792258]\n",
      " [-1.8529784   1.32871692  1.10033115  1.7921743 ]\n",
      " [-0.25558323  1.05103313  0.85222942  1.65338055]\n",
      " [-0.25558323 -1.44812094  0.10792425  0.6818243 ]\n",
      " [-0.25558323 -0.05970201  0.10792425  1.37579305]\n",
      " [ 0.0106493   0.77334934  0.6041277   1.72277742]\n",
      " [-1.58674587 -0.05970201  0.35602597  1.5145868 ]\n",
      " [-1.05428082  0.77334934  0.10792425  0.33483992]\n",
      " [-0.25558323  1.05103313  0.85222942  0.54303055]\n",
      " [-1.05428082  0.21798177  1.10033115 -0.84490695]\n",
      " [ 0.27688183  0.77334934  0.35602597  1.37579305]\n",
      " [-0.25558323  1.32871692  1.5965346  -0.9837007 ]\n",
      " [ 0.27688183  1.05103313  0.35602597  1.09820555]\n",
      " [-0.78804829  1.05103313  1.10033115  0.47363367]\n",
      " [-0.52181576  0.21798177  0.35602597  0.89001492]\n",
      " [-0.52181576  0.77334934  0.10792425  1.44518992]\n",
      " [-1.05428082  0.77334934  0.10792425 -0.9837007 ]\n",
      " [-0.25558323 -0.3373858  -0.63638092  1.37579305]\n",
      " [-0.25558323 -0.61506959  0.6041277   0.1266493 ]\n",
      " [-0.78804829  0.49566556  0.6041277   2.27795242]\n",
      " [ 0.54311436  0.21798177 -0.3882792   0.54303055]\n",
      " [ 1.34181195  1.05103313  1.5965346  -0.4285257 ]\n",
      " [-0.52181576  0.49566556  0.6041277   0.9594118 ]\n",
      " [ 0.27688183  1.05103313  0.85222942  0.1266493 ]\n",
      " [ 0.0106493   0.49566556  1.34843287  1.5145868 ]\n",
      " [ 0.27688183  0.77334934  0.85222942  0.33483992]\n",
      " [ 0.54311436  0.49566556 -0.14017747  0.61242742]\n",
      " [-0.25558323  0.49566556  1.10033115  0.82061805]\n",
      " [-0.52181576  1.6064007   2.09273805  1.2369993 ]\n",
      " [-1.58674587 -0.61506959 -0.14017747  0.54303055]]\n",
      "[0 0 0 0 0 0 0 0 0 0 0 0 0 0 0 0 0 0 0 0 0 0 0 0 0 0 0 0 0 0 0 0 0 0 0 0 0\n",
      " 0 0 0 0 0 0 0 0 0 0 0 0 0 0 0 0 0 0 0 0 0 0 0 0 0 0 0 0 0 0 0 0 0 0 0 0 0\n",
      " 0 0 0 0 0 0 0 0 0 0 0 0 0 0 0 0 0 0 0 0 0 0 0 0 0 0 1 1 1 1 1 1 1 1 1 1 1\n",
      " 1 1 1 1 1 1 1 1 1 1 1 1 1 1 1 1 1 1 1 1 1 1 1 1 1 1 1 1 1 1 1 1 1 1 1 1 1\n",
      " 1 1 1 1 1 1 1 1 1 1 1 1 1 1 1 1 1 1 1 1 1 1 1 1 1 1 1 1 1 1 1 1 1 1 1 1 1\n",
      " 1 1 1 1 1 1 1 1 1 1 1 1 1 1 1]\n"
     ]
    }
   ],
   "source": [
    "print(X_train)\n",
    "print(Y_train)"
   ]
  },
  {
   "cell_type": "markdown",
   "metadata": {},
   "source": [
    "### Creating potential"
   ]
  },
  {
   "cell_type": "code",
   "execution_count": 8,
   "metadata": {},
   "outputs": [],
   "source": [
    "# Creating potential\n",
    "Cur_pot = potentialRegression(Y_train, X_train, typ, print_info = True)\n",
    "d = Cur_pot.d"
   ]
  },
  {
   "cell_type": "markdown",
   "metadata": {},
   "source": [
    "### Data generation"
   ]
  },
  {
   "cell_type": "code",
   "execution_count": 9,
   "metadata": {},
   "outputs": [
    {
     "name": "stdout",
     "output_type": "stream",
     "text": [
      "10\n"
     ]
    }
   ],
   "source": [
    "N_burn = 1*10**4 # Burn in period\n",
    "N_train = 1*10**4 # Number of samples on which we optimize\n",
    "N_test = 1*10**3 # Number of samples\n",
    "step = 0.1 # Step size\n",
    "n_traj_train = 5\n",
    "n_traj_test = 24 # Number of independent MCMC trajectories for test\n",
    "#f_type = \"sum\"\n",
    "K_max = 2 #max degree of Hermite polynomial\n",
    "S_max = 2 #max degree of polynomial during regression stage\n",
    "lag = 50 #maximal lag order\n",
    "b_n_train = 10 #lag-window size\n",
    "b_n_test = int(np.round(N_test**(0.33)))\n",
    "print(b_n_test)\n",
    "degree = 1"
   ]
  },
  {
   "cell_type": "markdown",
   "metadata": {},
   "source": [
    "### Generate data"
   ]
  },
  {
   "cell_type": "code",
   "execution_count": 10,
   "metadata": {},
   "outputs": [
    {
     "name": "stdout",
     "output_type": "stream",
     "text": [
      "(5, 10000, 4)\n"
     ]
    }
   ],
   "source": [
    "r_seed = 777\n",
    "traj = np.zeros((n_traj_train,N_train,d),dtype = float)\n",
    "for i in range(n_traj_train):\n",
    "    cur_traj = ULA_light(r_seed+i,Cur_pot,step, N_burn, N_train, d, return_noise = False)\n",
    "    traj[i] = copy.deepcopy(cur_traj)\n",
    "print(traj.shape)\n",
    "#traj = np.expand_dims(traj, axis=0)\n",
    "#rint(traj.shape)"
   ]
  },
  {
   "cell_type": "code",
   "execution_count": 11,
   "metadata": {},
   "outputs": [
    {
     "name": "stdout",
     "output_type": "stream",
     "text": [
      "(5, 10000, 1)\n"
     ]
    }
   ],
   "source": [
    "inds_arr = np.array([0]) # Taking the second index (not intercept)\n",
    "params = None    \n",
    "f_vals = set_function(f_type,traj,inds_arr,params) \n",
    "#f_vals = traj[:,:,0]\n",
    "#f_vals = np.expand_dims(f_vals, axis=2)\n",
    "print(f_vals.shape)"
   ]
  },
  {
   "cell_type": "markdown",
   "metadata": {},
   "source": [
    "### Evaluate baselines (EVM and ESVM methods)"
   ]
  },
  {
   "cell_type": "code",
   "execution_count": 12,
   "metadata": {},
   "outputs": [
    {
     "name": "stdout",
     "output_type": "stream",
     "text": [
      "ncores =  12\n"
     ]
    }
   ],
   "source": [
    "if sampler[\"sampler\"] == \"ULA\":\n",
    "    res = Generate_train(1, sampler, Cur_pot, step, N_burn, N_train, d)\n",
    "    res = np.asarray(res)\n",
    "    traj_evm,traj_grad = res[:,0,:,:],res[:,1,:,:]\n",
    "else:\n",
    "    raise \"You should use ULA!\""
   ]
  },
  {
   "cell_type": "code",
   "execution_count": 13,
   "metadata": {},
   "outputs": [
    {
     "name": "stdout",
     "output_type": "stream",
     "text": [
      "(5, 10000, 4)\n"
     ]
    }
   ],
   "source": [
    "print(traj.shape)\n",
    "inds_arr = np.array([0])#Taking the second index\n",
    "params = None\n",
    "f_vals_evm = set_function(f_type,traj_evm,inds_arr,params)"
   ]
  },
  {
   "cell_type": "code",
   "execution_count": 14,
   "metadata": {},
   "outputs": [
    {
     "name": "stdout",
     "output_type": "stream",
     "text": [
      "[[[4.30468234]\n",
      "  [4.2152753 ]\n",
      "  [4.92433947]\n",
      "  ...\n",
      "  [2.01784584]\n",
      "  [6.91511843]\n",
      "  [3.89529649]]]\n",
      "[[[4.2152753 ]\n",
      "  [4.92433947]\n",
      "  [6.80072047]\n",
      "  ...\n",
      "  [6.91511843]\n",
      "  [3.89529649]\n",
      "  [5.04576807]]\n",
      "\n",
      " [[5.33137383]\n",
      "  [3.21504365]\n",
      "  [6.16871108]\n",
      "  ...\n",
      "  [2.33482462]\n",
      "  [6.89001091]\n",
      "  [5.61516928]]\n",
      "\n",
      " [[4.36005174]\n",
      "  [6.42260106]\n",
      "  [3.40758546]\n",
      "  ...\n",
      "  [7.29039127]\n",
      "  [2.91100838]\n",
      "  [5.41394222]]\n",
      "\n",
      " [[3.850832  ]\n",
      "  [6.14932671]\n",
      "  [5.33544272]\n",
      "  ...\n",
      "  [7.46894353]\n",
      "  [4.97604553]\n",
      "  [6.73904879]]\n",
      "\n",
      " [[6.8287092 ]\n",
      "  [3.55694098]\n",
      "  [7.81986687]\n",
      "  ...\n",
      "  [4.60627432]\n",
      "  [2.43544757]\n",
      "  [7.95444432]]]\n"
     ]
    }
   ],
   "source": [
    "print(f_vals_evm)\n",
    "print(f_vals)"
   ]
  },
  {
   "cell_type": "code",
   "execution_count": 15,
   "metadata": {},
   "outputs": [],
   "source": [
    "W_train_spec = construct_ESVM_kernel(N_train,b_n_train) #weight matrix for train\n",
    "W_test_spec = construct_ESVM_kernel(N_test,b_n_test) #weight matrix for test\n",
    "opt_structure_train = {\n",
    "    \"W\":W_train_spec,\n",
    "    \"n_restarts\": 3, # Number of restarts during optimization,\n",
    "    \"sigma\": 1.0, # Deviation of starting points\n",
    "    \"tol\": 1e-5, # Tolerance (for the norm of gradient)\n",
    "    \"alpha\": 0.0, # Ridge penalty for 2nd order control functionals\n",
    "    \"beta\": 10000.0 # smoothing parameter in the softmax\n",
    "}\n",
    "methods = [\"ESVM\",\"EVM\"]"
   ]
  },
  {
   "cell_type": "code",
   "execution_count": 16,
   "metadata": {},
   "outputs": [
    {
     "name": "stdout",
     "output_type": "stream",
     "text": [
      "1 degree optimization terminated succesfully\n",
      "jacobian at termination: \n",
      "[-6.26166372e-10 -5.56618175e-10 -4.43137271e-10  8.17821193e-11]\n",
      "2\n",
      "1 degree optimization terminated succesfully\n",
      "jacobian at termination: \n",
      "[-1.43955958e-15  5.67368375e-16  3.13971071e-15 -3.00870440e-15]\n",
      "{'ESVM': array([[0.05574648, 0.06359015, 0.00198917, 0.15464185]]), 'EVM': array([[0.06114466, 0.07204605, 0.02871445, 0.09095745]]), 'LS': [], 'MAX': []}\n"
     ]
    }
   ],
   "source": [
    "coef_dict = optimize_parallel_new(degree,inds_arr,f_vals_evm,traj_evm,traj_grad,opt_structure_train,methods)\n",
    "print(coef_dict)"
   ]
  },
  {
   "cell_type": "code",
   "execution_count": 17,
   "metadata": {},
   "outputs": [],
   "source": [
    "#Create a dictionary and put respective matrices into it\n",
    "test_params = {\n",
    "    \"W\":W_test_spec,\n",
    "    \"step\":step,\n",
    "    \"burn_in\":N_burn,\n",
    "    \"n_test\":N_test,\n",
    "    \"dim\":d\n",
    "}\n",
    "\n",
    "nbcores = multiprocessing.cpu_count()\n",
    "trav = Pool(nbcores)\n",
    "res = trav.starmap(Run_eval_test, [(i,degree,sampler,methods,inds_arr,Cur_pot,test_params,coef_dict,params,f_type) for i in range (n_traj_test)])\n",
    "trav.close()"
   ]
  },
  {
   "cell_type": "code",
   "execution_count": 18,
   "metadata": {},
   "outputs": [
    {
     "name": "stdout",
     "output_type": "stream",
     "text": [
      "['Vanilla', 'ESVM', 'EVM']\n"
     ]
    }
   ],
   "source": [
    "methods_enh = ['Vanilla'] + methods\n",
    "print(methods_enh)\n",
    "ints_result = {key: [] for key in methods_enh}\n",
    "vars_result = {key: [] for key in methods_enh}"
   ]
  },
  {
   "cell_type": "code",
   "execution_count": 19,
   "metadata": {},
   "outputs": [],
   "source": [
    "for i in range(len(res)):\n",
    "    for j in range(len(methods_enh)):\n",
    "        ints_result[methods_enh[j]].append(res[i][0][methods_enh[j]][0])\n",
    "        vars_result[methods_enh[j]].append(res[i][1][methods_enh[j]][0])\n",
    "for key in methods_enh:\n",
    "    ints_result[key] = np.asarray(ints_result[key])\n",
    "    vars_result[key] = np.asarray(vars_result[key])"
   ]
  },
  {
   "cell_type": "markdown",
   "metadata": {},
   "source": [
    "### Bernoulli:: Optimize coefficients by solving regression with polynomial features"
   ]
  },
  {
   "cell_type": "code",
   "execution_count": 20,
   "metadata": {},
   "outputs": [
    {
     "name": "stdout",
     "output_type": "stream",
     "text": [
      "dimension =  10000\n",
      "(50000, 15)\n",
      "(49995, 15)\n",
      "(49990, 15)\n",
      "(49985, 15)\n",
      "(49980, 15)\n",
      "(49975, 15)\n",
      "(49970, 15)\n",
      "(49965, 15)\n",
      "(49960, 15)\n",
      "(49955, 15)\n",
      "(49950, 15)\n",
      "(49945, 15)\n",
      "(49940, 15)\n",
      "(49935, 15)\n",
      "(49930, 15)\n",
      "(49925, 15)\n",
      "(49920, 15)\n",
      "(49915, 15)\n",
      "(49910, 15)\n",
      "(49905, 15)\n",
      "(49900, 15)\n",
      "(49895, 15)\n",
      "(49890, 15)\n",
      "(49885, 15)\n",
      "(49880, 15)\n",
      "(49875, 15)\n",
      "(49870, 15)\n",
      "(49865, 15)\n",
      "(49860, 15)\n",
      "(49855, 15)\n",
      "(49850, 15)\n",
      "(49845, 15)\n",
      "(49840, 15)\n",
      "(49835, 15)\n",
      "(49830, 15)\n",
      "(49825, 15)\n",
      "(49820, 15)\n",
      "(49815, 15)\n",
      "(49810, 15)\n",
      "(49805, 15)\n",
      "(49800, 15)\n",
      "(49795, 15)\n",
      "(49790, 15)\n",
      "(49785, 15)\n",
      "(49780, 15)\n",
      "(49775, 15)\n",
      "(49770, 15)\n",
      "(49765, 15)\n",
      "(49760, 15)\n",
      "(49755, 15)\n",
      "(50, 15)\n"
     ]
    }
   ],
   "source": [
    "#polynomial coefficients\n",
    "coefs_poly = approx_q(traj,f_vals,n_traj_train,lag,S_max)\n",
    "print(coefs_poly.shape)"
   ]
  },
  {
   "cell_type": "markdown",
   "metadata": {},
   "source": [
    "Test our regressors"
   ]
  },
  {
   "cell_type": "code",
   "execution_count": 21,
   "metadata": {},
   "outputs": [
    {
     "ename": "ValueError",
     "evalue": "matmul: Input operand 1 has a mismatch in its core dimension 0, with gufunc signature (n?,k),(k,m?)->(n?,m?) (size 14 is different from 4)",
     "output_type": "error",
     "traceback": [
      "\u001b[0;31m---------------------------------------------------------------------------\u001b[0m",
      "\u001b[0;31mValueError\u001b[0m                                Traceback (most recent call last)",
      "\u001b[0;32m<ipython-input-21-dec0658d26a8>\u001b[0m in \u001b[0;36m<module>\u001b[0;34m\u001b[0m\n\u001b[1;32m      4\u001b[0m \u001b[0mplt\u001b[0m\u001b[0;34m.\u001b[0m\u001b[0mtitle\u001b[0m\u001b[0;34m(\u001b[0m\u001b[0;34m\"Testing regression model\"\u001b[0m\u001b[0;34m,\u001b[0m\u001b[0mfontsize\u001b[0m\u001b[0;34m=\u001b[0m\u001b[0;36m20\u001b[0m\u001b[0;34m)\u001b[0m\u001b[0;34m\u001b[0m\u001b[0;34m\u001b[0m\u001b[0m\n\u001b[1;32m      5\u001b[0m \u001b[0mplt\u001b[0m\u001b[0;34m.\u001b[0m\u001b[0mplot\u001b[0m\u001b[0;34m(\u001b[0m\u001b[0mtraj\u001b[0m\u001b[0;34m[\u001b[0m\u001b[0;36m0\u001b[0m\u001b[0;34m,\u001b[0m\u001b[0mcur_lag\u001b[0m\u001b[0;34m:\u001b[0m\u001b[0mN_pts\u001b[0m\u001b[0;34m]\u001b[0m\u001b[0;34m.\u001b[0m\u001b[0msum\u001b[0m\u001b[0;34m(\u001b[0m\u001b[0maxis\u001b[0m\u001b[0;34m=\u001b[0m\u001b[0;36m1\u001b[0m\u001b[0;34m)\u001b[0m\u001b[0;34m,\u001b[0m\u001b[0mcolor\u001b[0m\u001b[0;34m=\u001b[0m\u001b[0;34m'r'\u001b[0m\u001b[0;34m,\u001b[0m\u001b[0mlabel\u001b[0m\u001b[0;34m=\u001b[0m\u001b[0;34m'true function'\u001b[0m\u001b[0;34m)\u001b[0m\u001b[0;34m\u001b[0m\u001b[0;34m\u001b[0m\u001b[0m\n\u001b[0;32m----> 6\u001b[0;31m \u001b[0mplt\u001b[0m\u001b[0;34m.\u001b[0m\u001b[0mplot\u001b[0m\u001b[0;34m(\u001b[0m\u001b[0mcoefs_poly\u001b[0m\u001b[0;34m[\u001b[0m\u001b[0mcur_lag\u001b[0m\u001b[0;34m,\u001b[0m\u001b[0;36m0\u001b[0m\u001b[0;34m]\u001b[0m \u001b[0;34m+\u001b[0m \u001b[0mtraj\u001b[0m\u001b[0;34m[\u001b[0m\u001b[0;36m0\u001b[0m\u001b[0;34m,\u001b[0m\u001b[0;34m:\u001b[0m\u001b[0;34m(\u001b[0m\u001b[0mN_pts\u001b[0m\u001b[0;34m-\u001b[0m\u001b[0mcur_lag\u001b[0m\u001b[0;34m)\u001b[0m\u001b[0;34m]\u001b[0m \u001b[0;34m@\u001b[0m \u001b[0mcoefs_poly\u001b[0m\u001b[0;34m[\u001b[0m\u001b[0mcur_lag\u001b[0m\u001b[0;34m,\u001b[0m\u001b[0;36m1\u001b[0m\u001b[0;34m:\u001b[0m\u001b[0;34m]\u001b[0m\u001b[0;34m,\u001b[0m\u001b[0mcolor\u001b[0m\u001b[0;34m=\u001b[0m\u001b[0;34m'g'\u001b[0m\u001b[0;34m,\u001b[0m\u001b[0mlabel\u001b[0m \u001b[0;34m=\u001b[0m \u001b[0;34m'approximation'\u001b[0m\u001b[0;34m)\u001b[0m\u001b[0;34m\u001b[0m\u001b[0;34m\u001b[0m\u001b[0m\n\u001b[0m\u001b[1;32m      7\u001b[0m \u001b[0mplt\u001b[0m\u001b[0;34m.\u001b[0m\u001b[0mlegend\u001b[0m\u001b[0;34m(\u001b[0m\u001b[0mloc\u001b[0m \u001b[0;34m=\u001b[0m \u001b[0;34m'lower right'\u001b[0m\u001b[0;34m,\u001b[0m\u001b[0mfontsize\u001b[0m \u001b[0;34m=\u001b[0m \u001b[0;36m16\u001b[0m\u001b[0;34m)\u001b[0m\u001b[0;34m\u001b[0m\u001b[0;34m\u001b[0m\u001b[0m\n\u001b[1;32m      8\u001b[0m \u001b[0mplt\u001b[0m\u001b[0;34m.\u001b[0m\u001b[0mshow\u001b[0m\u001b[0;34m(\u001b[0m\u001b[0;34m)\u001b[0m\u001b[0;34m\u001b[0m\u001b[0;34m\u001b[0m\u001b[0m\n",
      "\u001b[0;31mValueError\u001b[0m: matmul: Input operand 1 has a mismatch in its core dimension 0, with gufunc signature (n?,k),(k,m?)->(n?,m?) (size 14 is different from 4)"
     ]
    },
    {
     "data": {
      "image/png": "[encoded data removed]",
      "text/plain": [
       "<Figure size 720x720 with 1 Axes>"
      ]
     },
     "metadata": {
      "needs_background": "light"
     },
     "output_type": "display_data"
    }
   ],
   "source": [
    "cur_lag = 15\n",
    "N_pts = 100\n",
    "plt.figure(figsize=(10, 10))\n",
    "plt.title(\"Testing regression model\",fontsize=20)\n",
    "plt.plot(traj[0,cur_lag:N_pts].sum(axis=1),color='r',label='true function')\n",
    "plt.plot(coefs_poly[cur_lag,0] + traj[0,:(N_pts-cur_lag)] @ coefs_poly[cur_lag,1:],color='g',label = 'approximation')\n",
    "plt.legend(loc = 'lower right',fontsize = 16)\n",
    "plt.show()"
   ]
  },
  {
   "cell_type": "code",
   "execution_count": null,
   "metadata": {},
   "outputs": [],
   "source": [
    "test_seed = 1453\n",
    "nbcores = multiprocessing.cpu_count()\n",
    "trav = Pool(nbcores)\n",
    "res = trav.starmap(test_traj, [(Cur_pot,coefs_poly,step,test_seed+i,lag,K_max,S_max,N_burn,N_test,d,f_type,inds_arr,params) for i in range (n_traj_test)])\n",
    "trav.close()"
   ]
  },
  {
   "cell_type": "code",
   "execution_count": null,
   "metadata": {},
   "outputs": [],
   "source": [
    "res_new = np.asarray(res)\n",
    "print(res_new.shape)"
   ]
  },
  {
   "cell_type": "code",
   "execution_count": null,
   "metadata": {},
   "outputs": [],
   "source": [
    "vars_vanilla = np.var(res_new[:,0,:],axis = 0)\n",
    "vars_adj = np.var(res_new[:,1,:],axis = 0)\n",
    "#print(vars_vanilla)\n",
    "#print(vars_adj)\n",
    "print(np.mean(vars_adj[1:]/vars_vanilla[1:]))"
   ]
  },
  {
   "cell_type": "markdown",
   "metadata": {},
   "source": [
    "### Comparison plots"
   ]
  },
  {
   "cell_type": "code",
   "execution_count": null,
   "metadata": {},
   "outputs": [],
   "source": [
    "title = \"\"\n",
    "labels = ['Vanilla\\n ULA', 'ULA \\nwith MDCV', 'ULA \\nwith EVM','ULA\\nwith ESVM']"
   ]
  },
  {
   "cell_type": "code",
   "execution_count": null,
   "metadata": {},
   "outputs": [],
   "source": [
    "data = [ints_result['Vanilla'][:,0],res_new[:,1,-1],ints_result['EVM'][:,0],ints_result['ESVM'][:,0]] \n",
    "boxplot_ind(data, title, labels)"
   ]
  },
  {
   "cell_type": "code",
   "execution_count": null,
   "metadata": {},
   "outputs": [],
   "source": [
    "title = \"\"\n",
    "labels = ['ULA \\nwith MDCV', 'ULA \\nwith EVM','ULA\\nwith ESVM']"
   ]
  },
  {
   "cell_type": "code",
   "execution_count": null,
   "metadata": {
    "scrolled": true
   },
   "outputs": [],
   "source": [
    "data = [res_new[:,1,-1],ints_result['EVM'][:,0],ints_result['ESVM'][:,0]] \n",
    "boxplot_ind(data, title, labels)"
   ]
  },
  {
   "cell_type": "code",
   "execution_count": null,
   "metadata": {},
   "outputs": [],
   "source": []
  }
 ],
 "metadata": {
  "kernelspec": {
   "display_name": "Python 3",
   "language": "python",
   "name": "python3"
  },
  "language_info": {
   "codemirror_mode": {
    "name": "ipython",
    "version": 3
   },
   "file_extension": ".py",
   "mimetype": "text/x-python",
   "name": "python",
   "nbconvert_exporter": "python",
   "pygments_lexer": "ipython3",
   "version": "3.7.3"
  }
 },
 "nbformat": 4,
 "nbformat_minor": 2
}
