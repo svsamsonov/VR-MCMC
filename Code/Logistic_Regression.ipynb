{
 "cells": [
  {
   "cell_type": "code",
   "execution_count": 114,
   "metadata": {},
   "outputs": [],
   "source": [
    "import numpy as np\n",
    "import numpy.polynomial as P\n",
    "import scipy as sp\n",
    "from matplotlib import pyplot as plt\n",
    "from tqdm import tqdm\n",
    "#from sklearn.preprocessing import PolynomialFeatures\n",
    "from multiprocessing import Pool\n",
    "import multiprocessing\n",
    "import ZVnbrosse\n",
    "from potentials import GaussPotential,GaussMixture,GausMixtureIdent,GausMixtureSame,potentialRegression\n",
    "from samplers import MCMC_sampler,Generate_train,ULA_light\n",
    "from baselines import set_function,construct_ESVM_kernel,GenerateSigma,standartize\n",
    "from martingale import approx_q,test_traj\n",
    "from optimize import Run_eval_test,optimize_parallel_new \n",
    "from utils import *\n",
    "import pandas as pd\n",
    "import copy"
   ]
  },
  {
   "cell_type": "code",
   "execution_count": 115,
   "metadata": {},
   "outputs": [],
   "source": [
    "dataset = \"swiss\" # Switch between \"eeg\" and \"susy\" \n",
    "intercept = False # Do we include the intercept\n",
    "degree = 1 #order of CV's: 1 or 2 expected\n",
    "typ = \"logistic\" #logistic or probit are expected\n",
    "\n",
    "sampler = {\"sampler\":\"ULA\",\"burn_type\":\"full\",\"main_type\":\"full\"} # Sampling method\n",
    "\n",
    "# Switch between \"posterior_prob_point\", \"posterior_prob_mean\", \"posterior_prob_variance\", \"posterior_mean\"\n",
    "if typ == \"logistic\":\n",
    "    f_type = \"sum\"\n",
    "elif typ == \"probit\":\n",
    "    f_type = \"posterior_prob_mean_probit\""
   ]
  },
  {
   "cell_type": "markdown",
   "metadata": {},
   "source": [
    "### Loading data"
   ]
  },
  {
   "cell_type": "code",
   "execution_count": 116,
   "metadata": {},
   "outputs": [],
   "source": [
    "if (dataset == \"swiss\"):\n",
    "    data = pd.read_csv(\"./data/swiss.csv\",header=None)\n",
    "    outliers_inds = np.array([])\n",
    "    Y = data.iloc[:,-1]\n",
    "    X = data.iloc[:,:-1]\n",
    "elif (dataset == \"eeg\"):   \n",
    "    data = pd.read_csv(\"../iZAV_code/data/eeg.csv\",header=None)\n",
    "    outliers_inds = np.array([13179,11509,898,10386])\n",
    "    Y = data.iloc[:,-1]\n",
    "    X = data.iloc[:,:-1]\n",
    "elif (dataset == \"pima\"):\n",
    "    data = pd.read_csv(\"../iZAV_code/data/pima.csv\",header=None)\n",
    "    outliers_inds = np.array([])\n",
    "    Y = data.iloc[:,-1]\n",
    "    X = data.iloc[:,:-1]\n",
    "elif (dataset == \"susy\"): \n",
    "    data = pd.read_csv(\"data/susy.csv\",header=None)\n",
    "    outliers_inds = np.array([267630])\n",
    "    Y = data.iloc[:,0]\n",
    "    X = data.iloc[:,1:]"
   ]
  },
  {
   "cell_type": "markdown",
   "metadata": {},
   "source": [
    "### Preprocessing data"
   ]
  },
  {
   "cell_type": "code",
   "execution_count": 117,
   "metadata": {},
   "outputs": [],
   "source": [
    "# Removing the outliers\n",
    "if (outliers_inds.size!=0):\n",
    "    X_processed = np.delete(np.asarray(X),outliers_inds,0)\n",
    "    mask = np.ones(len(Y),dtype = bool)\n",
    "    mask[outliers_inds] = False\n",
    "    Y_processed = Y[mask]\n",
    "    Y_processed = np.asarray(Y_processed)\n",
    "    X_processed = np.asarray(X_processed)\n",
    "else:\n",
    "    Y_processed = np.asarray(Y)\n",
    "    X_processed = np.asarray(X)"
   ]
  },
  {
   "cell_type": "code",
   "execution_count": 118,
   "metadata": {},
   "outputs": [],
   "source": [
    "#X_train,X_train = standartize(X_processed,X_processed,intercept=intercept)\n",
    "#Y_train = Y_processed"
   ]
  },
  {
   "cell_type": "code",
   "execution_count": 119,
   "metadata": {},
   "outputs": [],
   "source": [
    "X_train = copy.deepcopy(X_processed)\n",
    "Y_train = copy.deepcopy(Y_processed)\n",
    "#poor man's normalization\n",
    "X_train = np.dot(X_train - np.mean(X_train, axis=0), np.diag(1./np.std(X_train, axis=0)))"
   ]
  },
  {
   "cell_type": "code",
   "execution_count": 120,
   "metadata": {},
   "outputs": [
    {
     "name": "stdout",
     "output_type": "stream",
     "text": [
      "[[-0.25558323  2.43945206  2.83704322 -0.28973195]\n",
      " [-0.78804829 -1.17043716 -0.63638092 -0.91430383]\n",
      " [-0.25558323 -1.17043716 -0.63638092 -0.49792258]\n",
      " [-0.25558323 -1.17043716 -0.88448265 -1.33068508]\n",
      " [ 0.27688183 -1.44812094 -0.63638092  0.6818243 ]\n",
      " [ 2.14050953  1.88408449  1.34843287 -0.28973195]\n",
      " [ 1.60804448 -1.72580473 -0.63638092 -1.05309758]\n",
      " [-1.05428082 -1.44812094 -1.87688955 -1.5388757 ]\n",
      " [ 0.0106493  -2.00348852 -0.63638092 -0.84490695]\n",
      " [ 0.80934689  0.77334934  0.85222942 -0.1509382 ]\n",
      " [ 1.07557942  0.77334934  0.85222942 -1.05309758]\n",
      " [ 0.54311436 -1.72580473 -0.88448265 -1.19189133]\n",
      " [ 0.80934689  1.88408449 -0.88448265 -1.05309758]\n",
      " [-0.52181576 -1.17043716 -0.63638092 -1.19189133]\n",
      " [ 0.54311436 -0.61506959 -0.63638092 -1.19189133]\n",
      " [-1.05428082 -0.89275337 -0.3882792  -0.08154133]\n",
      " [-0.78804829 -0.61506959  0.35602597 -0.84490695]\n",
      " [ 0.27688183 -0.61506959 -0.63638092 -0.28973195]\n",
      " [ 0.80934689 -1.44812094 -0.88448265 -1.40008195]\n",
      " [-0.52181576  0.21798177 -0.14017747 -0.56731945]\n",
      " [ 0.27688183 -0.61506959 -1.62878782 -0.7061132 ]\n",
      " [ 1.87427701  1.05103313  0.10792425 -0.91430383]\n",
      " [ 1.07557942  1.32871692  0.10792425 -0.7061132 ]\n",
      " [ 2.14050953  0.21798177  0.10792425 -0.49792258]\n",
      " [ 0.54311436 -1.17043716 -0.14017747 -1.40008195]\n",
      " [ 1.07557942  0.77334934  1.10033115 -0.9837007 ]\n",
      " [ 1.60804448  0.21798177  0.35602597 -0.35912883]\n",
      " [ 0.54311436  0.49566556  0.85222942  0.26544305]\n",
      " [ 0.54311436 -0.3373858   0.10792425 -1.40008195]\n",
      " [-0.25558323 -1.17043716 -1.62878782 -0.77551008]\n",
      " [ 0.80934689 -0.05970201 -0.3882792  -1.05309758]\n",
      " [-0.25558323 -1.17043716 -0.63638092 -0.56731945]\n",
      " [ 0.27688183 -0.3373858  -0.88448265 -1.19189133]\n",
      " [ 1.87427701  0.77334934  0.35602597 -0.7061132 ]\n",
      " [ 2.67297459  0.77334934  0.10792425 -0.35912883]\n",
      " [-0.78804829  0.21798177  0.6041277  -0.01214445]\n",
      " [ 1.60804448  0.49566556  0.10792425 -0.7061132 ]\n",
      " [ 1.07557942 -0.61506959 -1.3806861  -1.05309758]\n",
      " [ 1.07557942  0.49566556  0.35602597 -0.63671633]\n",
      " [-2.65167599  0.49566556 -2.37309299 -0.91430383]\n",
      " [-1.32051334 -0.89275337 -1.87688955 -0.35912883]\n",
      " [-0.25558323 -0.05970201 -0.88448265 -0.4285257 ]\n",
      " [ 0.0106493  -1.44812094 -1.3806861  -0.08154133]\n",
      " [ 0.0106493   0.77334934 -0.63638092 -0.28973195]\n",
      " [-0.25558323 -2.00348852 -2.12499127 -0.84490695]\n",
      " [-1.58674587 -1.72580473 -1.3806861  -0.77551008]\n",
      " [-0.25558323 -0.61506959 -0.63638092 -0.77551008]\n",
      " [-0.25558323 -0.61506959 -0.63638092 -1.46947883]\n",
      " [-0.78804829 -1.17043716 -0.3882792  -1.05309758]\n",
      " [-1.05428082 -3.11422366 -0.88448265 -1.12249445]\n",
      " [-0.78804829 -0.89275337 -1.3806861  -1.5388757 ]\n",
      " [ 1.07557942  1.32871692  0.10792425  0.05725242]\n",
      " [-1.05428082 -0.05970201  0.10792425 -1.12249445]\n",
      " [ 1.34181195  0.21798177  0.6041277  -1.2612882 ]\n",
      " [-1.05428082 -2.00348852 -1.13258437 -1.05309758]\n",
      " [ 0.80934689 -1.17043716 -1.3806861  -0.1509382 ]\n",
      " [ 2.14050953 -0.3373858  -1.3806861  -0.1509382 ]\n",
      " [ 0.27688183 -1.44812094 -1.3806861  -0.4285257 ]\n",
      " [ 0.54311436 -0.05970201 -0.14017747 -1.05309758]\n",
      " [ 0.54311436 -0.3373858  -0.3882792  -0.84490695]\n",
      " [ 0.54311436 -1.44812094 -1.62878782 -0.77551008]\n",
      " [ 1.07557942 -1.17043716 -1.3806861  -1.33068508]\n",
      " [ 1.34181195 -0.89275337 -1.3806861  -0.9837007 ]\n",
      " [-1.05428082 -0.3373858  -1.13258437 -0.9837007 ]\n",
      " [ 0.27688183 -0.3373858  -0.3882792  -0.56731945]\n",
      " [ 0.80934689  1.32871692  0.10792425 -0.4285257 ]\n",
      " [-0.78804829 -1.72580473 -1.87688955 -1.19189133]\n",
      " [-0.25558323 -1.17043716 -1.62878782 -0.22033508]\n",
      " [ 0.54311436 -1.44812094 -0.3882792  -0.56731945]\n",
      " [ 0.0106493   0.21798177  0.6041277  -0.9837007 ]\n",
      " [-2.91790852 -0.89275337 -1.13258437 -0.7061132 ]\n",
      " [ 0.80934689 -0.61506959 -1.13258437 -0.84490695]\n",
      " [ 0.27688183 -1.44812094  0.6041277  -0.49792258]\n",
      " [-1.32051334 -0.61506959 -0.88448265 -1.33068508]\n",
      " [ 0.80934689 -0.61506959 -0.63638092 -1.5388757 ]\n",
      " [-2.11921093 -1.44812094 -1.62878782 -1.2612882 ]\n",
      " [ 0.0106493  -0.61506959  0.35602597 -0.4285257 ]\n",
      " [-0.78804829 -0.89275337 -1.3806861  -1.40008195]\n",
      " [ 0.80934689  1.05103313 -0.3882792  -1.05309758]\n",
      " [-0.78804829 -0.61506959 -1.3806861  -1.05309758]\n",
      " [ 0.54311436 -1.17043716 -0.63638092 -0.56731945]\n",
      " [ 0.0106493  -0.89275337 -0.88448265 -1.33068508]\n",
      " [ 0.80934689 -1.17043716 -2.12499127 -0.28973195]\n",
      " [ 0.80934689 -0.05970201 -0.14017747 -1.05309758]\n",
      " [ 1.34181195  1.6064007   0.6041277  -0.28973195]\n",
      " [ 0.54311436 -0.61506959 -0.88448265 -0.35912883]\n",
      " [ 0.80934689 -0.61506959 -0.63638092 -0.49792258]\n",
      " [ 0.27688183 -1.44812094 -1.87688955 -0.7061132 ]\n",
      " [ 0.0106493   0.49566556 -0.14017747 -1.40008195]\n",
      " [ 0.27688183 -0.61506959 -0.63638092 -0.9837007 ]\n",
      " [-0.52181576 -1.17043716 -1.62878782 -0.56731945]\n",
      " [ 1.34181195 -0.3373858  -0.14017747 -0.63671633]\n",
      " [ 0.0106493  -2.00348852 -1.13258437 -0.84490695]\n",
      " [-1.05428082 -1.72580473 -1.62878782 -1.40008195]\n",
      " [-0.52181576 -1.44812094 -1.13258437 -0.77551008]\n",
      " [ 1.87427701 -0.61506959 -0.14017747 -0.28973195]\n",
      " [ 0.27688183  0.77334934  0.85222942 -0.22033508]\n",
      " [-1.32051334 -1.17043716 -1.13258437 -0.9837007 ]\n",
      " [ 0.54311436 -0.3373858  -0.3882792  -0.22033508]\n",
      " [-0.52181576 -0.3373858  -1.3806861  -1.12249445]\n",
      " [-1.32051334 -0.05970201  0.85222942  0.19604617]\n",
      " [ 0.0106493   1.05103313  0.6041277   1.09820555]\n",
      " [ 0.0106493   0.49566556  0.35602597 -0.49792258]\n",
      " [ 0.27688183  0.77334934  1.5965346   0.33483992]\n",
      " [-0.52181576  0.21798177  0.85222942  1.65338055]\n",
      " [ 0.27688183  0.21798177  0.6041277   0.82061805]\n",
      " [ 1.07557942  0.49566556  0.35602597 -0.08154133]\n",
      " [-0.25558323 -0.05970201  1.10033115  0.26544305]\n",
      " [ 0.27688183  0.21798177 -0.14017747  0.4042368 ]\n",
      " [ 0.80934689  1.32871692  2.09273805  0.6818243 ]\n",
      " [ 0.80934689  0.77334934  0.85222942 -0.9837007 ]\n",
      " [ 0.54311436  1.05103313  0.85222942  0.82061805]\n",
      " [ 1.34181195  1.6064007   2.83704322  0.19604617]\n",
      " [ 0.0106493   0.77334934 -0.14017747  1.37579305]\n",
      " [ 0.54311436  0.49566556  0.10792425  0.82061805]\n",
      " [ 1.60804448  0.77334934  0.10792425 -0.84490695]\n",
      " [-0.52181576  1.32871692  0.35602597  1.65338055]\n",
      " [-0.52181576  0.77334934  0.35602597  1.86157117]\n",
      " [-0.25558323  1.05103313  0.6041277   1.09820555]\n",
      " [-1.32051334  0.21798177 -0.14017747  0.47363367]\n",
      " [-0.25558323  0.49566556  1.10033115  0.47363367]\n",
      " [ 0.54311436  1.32871692  0.85222942  2.00036492]\n",
      " [ 1.07557942  1.88408449  2.83704322  1.5145868 ]\n",
      " [ 0.54311436  1.6064007   1.10033115  0.75122117]\n",
      " [-0.52181576  1.05103313  1.34843287  0.33483992]\n",
      " [ 0.0106493  -0.3373858   0.85222942  0.54303055]\n",
      " [ 0.27688183  0.77334934  1.10033115 -0.01214445]\n",
      " [ 1.60804448  1.6064007   0.85222942  0.54303055]\n",
      " [ 0.54311436  0.21798177  0.6041277   0.47363367]\n",
      " [-1.05428082  0.21798177  1.5965346   0.26544305]\n",
      " [-1.58674587  0.21798177  0.10792425  0.89001492]\n",
      " [-1.05428082  0.21798177 -0.3882792   2.00036492]\n",
      " [ 0.0106493   1.05103313  0.6041277   0.82061805]\n",
      " [-0.78804829  0.21798177  1.10033115  0.75122117]\n",
      " [-1.8529784  -0.3373858   0.6041277   1.09820555]\n",
      " [-0.25558323 -0.05970201  0.35602597  1.72277742]\n",
      " [-0.78804829 -0.89275337  0.6041277   0.89001492]\n",
      " [ 0.0106493   1.6064007   0.85222942 -0.08154133]\n",
      " [-0.78804829  0.77334934  1.10033115  1.30639617]\n",
      " [-1.05428082  1.05103313  0.6041277   1.65338055]\n",
      " [-0.25558323  0.21798177  0.85222942  0.4042368 ]\n",
      " [-0.52181576 -0.3373858  -1.3806861   0.54303055]\n",
      " [-0.78804829  0.21798177  1.10033115  1.2369993 ]\n",
      " [ 0.27688183  1.05103313  1.10033115  0.82061805]\n",
      " [-1.05428082 -0.89275337 -0.3882792   1.37579305]\n",
      " [ 0.0106493   1.32871692  1.10033115  1.72277742]\n",
      " [ 0.27688183  1.05103313  1.10033115  1.37579305]\n",
      " [ 1.07557942  1.32871692  0.85222942 -0.08154133]\n",
      " [-0.52181576  0.21798177  0.35602597  0.89001492]\n",
      " [ 0.0106493  -0.61506959  0.10792425  0.33483992]\n",
      " [ 0.0106493   0.49566556 -0.14017747  1.72277742]\n",
      " [-0.78804829 -0.61506959 -0.63638092  1.72277742]\n",
      " [-0.78804829 -1.17043716 -1.62878782  0.6818243 ]\n",
      " [-1.05428082 -0.05970201  0.35602597  1.86157117]\n",
      " [-1.05428082  0.49566556  0.10792425  1.09820555]\n",
      " [ 0.54311436 -0.3373858   0.85222942  1.5145868 ]\n",
      " [-1.8529784  -1.17043716 -0.88448265  0.61242742]\n",
      " [-1.32051334 -0.05970201  0.10792425  1.30639617]\n",
      " [-0.25558323  0.77334934  1.5965346   2.13915867]\n",
      " [-0.78804829  1.32871692  0.35602597 -0.91430383]\n",
      " [ 1.87427701 -0.05970201 -0.63638092 -1.40008195]\n",
      " [ 0.0106493   1.05103313  0.35602597  0.33483992]\n",
      " [-0.78804829 -0.05970201  0.10792425  1.44518992]\n",
      " [-0.52181576 -0.05970201  0.6041277   1.5145868 ]\n",
      " [-1.58674587  0.49566556  0.10792425  1.37579305]\n",
      " [ 0.54311436  0.49566556  1.5965346   0.61242742]\n",
      " [ 3.73790471  1.6064007   1.10033115  0.4042368 ]\n",
      " [ 1.87427701  0.77334934  0.35602597  0.1266493 ]\n",
      " [-0.25558323 -0.61506959 -0.3882792   0.1266493 ]\n",
      " [ 0.0106493  -0.3373858  -0.14017747  1.37579305]\n",
      " [-2.65167599  1.6064007   1.34843287 -0.49792258]\n",
      " [-1.8529784   1.32871692  1.10033115  1.7921743 ]\n",
      " [-0.25558323  1.05103313  0.85222942  1.65338055]\n",
      " [-0.25558323 -1.44812094  0.10792425  0.6818243 ]\n",
      " [-0.25558323 -0.05970201  0.10792425  1.37579305]\n",
      " [ 0.0106493   0.77334934  0.6041277   1.72277742]\n",
      " [-1.58674587 -0.05970201  0.35602597  1.5145868 ]\n",
      " [-1.05428082  0.77334934  0.10792425  0.33483992]\n",
      " [-0.25558323  1.05103313  0.85222942  0.54303055]\n",
      " [-1.05428082  0.21798177  1.10033115 -0.84490695]\n",
      " [ 0.27688183  0.77334934  0.35602597  1.37579305]\n",
      " [-0.25558323  1.32871692  1.5965346  -0.9837007 ]\n",
      " [ 0.27688183  1.05103313  0.35602597  1.09820555]\n",
      " [-0.78804829  1.05103313  1.10033115  0.47363367]\n",
      " [-0.52181576  0.21798177  0.35602597  0.89001492]\n",
      " [-0.52181576  0.77334934  0.10792425  1.44518992]\n",
      " [-1.05428082  0.77334934  0.10792425 -0.9837007 ]\n",
      " [-0.25558323 -0.3373858  -0.63638092  1.37579305]\n",
      " [-0.25558323 -0.61506959  0.6041277   0.1266493 ]\n",
      " [-0.78804829  0.49566556  0.6041277   2.27795242]\n",
      " [ 0.54311436  0.21798177 -0.3882792   0.54303055]\n",
      " [ 1.34181195  1.05103313  1.5965346  -0.4285257 ]\n",
      " [-0.52181576  0.49566556  0.6041277   0.9594118 ]\n",
      " [ 0.27688183  1.05103313  0.85222942  0.1266493 ]\n",
      " [ 0.0106493   0.49566556  1.34843287  1.5145868 ]\n",
      " [ 0.27688183  0.77334934  0.85222942  0.33483992]\n",
      " [ 0.54311436  0.49566556 -0.14017747  0.61242742]\n",
      " [-0.25558323  0.49566556  1.10033115  0.82061805]\n",
      " [-0.52181576  1.6064007   2.09273805  1.2369993 ]\n",
      " [-1.58674587 -0.61506959 -0.14017747  0.54303055]]\n",
      "[0 0 0 0 0 0 0 0 0 0 0 0 0 0 0 0 0 0 0 0 0 0 0 0 0 0 0 0 0 0 0 0 0 0 0 0 0\n",
      " 0 0 0 0 0 0 0 0 0 0 0 0 0 0 0 0 0 0 0 0 0 0 0 0 0 0 0 0 0 0 0 0 0 0 0 0 0\n",
      " 0 0 0 0 0 0 0 0 0 0 0 0 0 0 0 0 0 0 0 0 0 0 0 0 0 0 1 1 1 1 1 1 1 1 1 1 1\n",
      " 1 1 1 1 1 1 1 1 1 1 1 1 1 1 1 1 1 1 1 1 1 1 1 1 1 1 1 1 1 1 1 1 1 1 1 1 1\n",
      " 1 1 1 1 1 1 1 1 1 1 1 1 1 1 1 1 1 1 1 1 1 1 1 1 1 1 1 1 1 1 1 1 1 1 1 1 1\n",
      " 1 1 1 1 1 1 1 1 1 1 1 1 1 1 1]\n"
     ]
    }
   ],
   "source": [
    "print(X_train)\n",
    "print(Y_train)"
   ]
  },
  {
   "cell_type": "markdown",
   "metadata": {},
   "source": [
    "### Creating potential"
   ]
  },
  {
   "cell_type": "code",
   "execution_count": 121,
   "metadata": {},
   "outputs": [],
   "source": [
    "# Creating potential\n",
    "Cur_pot = potentialRegression(Y_train, X_train, typ, print_info = True)\n",
    "d = Cur_pot.d"
   ]
  },
  {
   "cell_type": "markdown",
   "metadata": {},
   "source": [
    "### Data generation"
   ]
  },
  {
   "cell_type": "code",
   "execution_count": 122,
   "metadata": {},
   "outputs": [
    {
     "name": "stdout",
     "output_type": "stream",
     "text": [
      "10\n"
     ]
    }
   ],
   "source": [
    "N_burn = 1*10**4 # Burn in period\n",
    "N_train = 5*10**4 # Number of samples on which we optimize\n",
    "N_test = 1*10**3 # Number of samples\n",
    "step = 0.1 # Step size\n",
    "n_traj_train = 5\n",
    "n_traj_test = 24 # Number of independent MCMC trajectories for test\n",
    "#f_type = \"sum\"\n",
    "K_max = 2 #max degree of Hermite polynomial\n",
    "S_max = 2 #max degree of polynomial during regression stage\n",
    "lag = 50 #maximal lag order\n",
    "b_n_train = 10 #lag-window size\n",
    "b_n_test = int(np.round(N_test**(0.33)))\n",
    "print(b_n_test)\n",
    "degree = 1"
   ]
  },
  {
   "cell_type": "markdown",
   "metadata": {},
   "source": [
    "### Generate data"
   ]
  },
  {
   "cell_type": "code",
   "execution_count": 123,
   "metadata": {},
   "outputs": [
    {
     "name": "stdout",
     "output_type": "stream",
     "text": [
      "(5, 50000, 4)\n"
     ]
    }
   ],
   "source": [
    "r_seed = 777\n",
    "traj = np.zeros((n_traj_train,N_train,d),dtype = float)\n",
    "for i in range(n_traj_train):\n",
    "    cur_traj = ULA_light(r_seed+i,Cur_pot,step, N_burn, N_train, d, return_noise = False)\n",
    "    traj[i] = copy.deepcopy(cur_traj)\n",
    "print(traj.shape)\n",
    "#traj = np.expand_dims(traj, axis=0)\n",
    "#rint(traj.shape)"
   ]
  },
  {
   "cell_type": "code",
   "execution_count": 124,
   "metadata": {},
   "outputs": [
    {
     "name": "stdout",
     "output_type": "stream",
     "text": [
      "(5, 50000, 1)\n"
     ]
    }
   ],
   "source": [
    "inds_arr = np.array([0]) # Taking the second index (not intercept)\n",
    "params = None    \n",
    "f_vals = set_function(f_type,traj,inds_arr,params) \n",
    "#f_vals = traj[:,:,0]\n",
    "#f_vals = np.expand_dims(f_vals, axis=2)\n",
    "print(f_vals.shape)"
   ]
  },
  {
   "cell_type": "markdown",
   "metadata": {},
   "source": [
    "### Evaluate baselines (EVM and ESVM methods)"
   ]
  },
  {
   "cell_type": "code",
   "execution_count": 125,
   "metadata": {},
   "outputs": [
    {
     "name": "stdout",
     "output_type": "stream",
     "text": [
      "ncores =  12\n"
     ]
    }
   ],
   "source": [
    "if sampler[\"sampler\"] == \"ULA\":\n",
    "    res = Generate_train(1, sampler, Cur_pot, step, N_burn, N_train, d)\n",
    "    res = np.asarray(res)\n",
    "    traj_evm,traj_grad = res[:,0,:,:],res[:,1,:,:]\n",
    "else:\n",
    "    raise \"You should use ULA!\""
   ]
  },
  {
   "cell_type": "code",
   "execution_count": 126,
   "metadata": {},
   "outputs": [
    {
     "name": "stdout",
     "output_type": "stream",
     "text": [
      "(5, 50000, 4)\n"
     ]
    }
   ],
   "source": [
    "print(traj.shape)\n",
    "inds_arr = np.array([0])#Taking the second index\n",
    "params = None\n",
    "f_vals_evm = set_function(f_type,traj_evm,inds_arr,params)"
   ]
  },
  {
   "cell_type": "code",
   "execution_count": 127,
   "metadata": {},
   "outputs": [
    {
     "name": "stdout",
     "output_type": "stream",
     "text": [
      "[[[4.30468234]\n",
      "  [4.2152753 ]\n",
      "  [4.92433947]\n",
      "  ...\n",
      "  [8.17310485]\n",
      "  [3.9829394 ]\n",
      "  [7.56200827]]]\n",
      "[[[4.2152753 ]\n",
      "  [4.92433947]\n",
      "  [6.80072047]\n",
      "  ...\n",
      "  [3.9829394 ]\n",
      "  [7.56200827]\n",
      "  [3.70378255]]\n",
      "\n",
      " [[5.33137383]\n",
      "  [3.21504365]\n",
      "  [6.16871108]\n",
      "  ...\n",
      "  [4.69707007]\n",
      "  [7.04347087]\n",
      "  [7.49368302]]\n",
      "\n",
      " [[4.36005174]\n",
      "  [6.42260106]\n",
      "  [3.40758546]\n",
      "  ...\n",
      "  [6.33404355]\n",
      "  [4.26520135]\n",
      "  [6.19060381]]\n",
      "\n",
      " [[3.850832  ]\n",
      "  [6.14932671]\n",
      "  [5.33544272]\n",
      "  ...\n",
      "  [5.37730713]\n",
      "  [4.15455828]\n",
      "  [2.47796337]]\n",
      "\n",
      " [[6.8287092 ]\n",
      "  [3.55694098]\n",
      "  [7.81986687]\n",
      "  ...\n",
      "  [5.4085931 ]\n",
      "  [3.39439312]\n",
      "  [6.74435202]]]\n"
     ]
    }
   ],
   "source": [
    "print(f_vals_evm)\n",
    "print(f_vals)"
   ]
  },
  {
   "cell_type": "code",
   "execution_count": 128,
   "metadata": {},
   "outputs": [],
   "source": [
    "W_train_spec = construct_ESVM_kernel(N_train,b_n_train) #weight matrix for train\n",
    "W_test_spec = construct_ESVM_kernel(N_test,b_n_test) #weight matrix for test\n",
    "opt_structure_train = {\n",
    "    \"W\":W_train_spec,\n",
    "    \"n_restarts\": 3, # Number of restarts during optimization,\n",
    "    \"sigma\": 1.0, # Deviation of starting points\n",
    "    \"tol\": 1e-5, # Tolerance (for the norm of gradient)\n",
    "    \"alpha\": 0.0, # Ridge penalty for 2nd order control functionals\n",
    "    \"beta\": 10000.0 # smoothing parameter in the softmax\n",
    "}\n",
    "methods = [\"ESVM\",\"EVM\"]"
   ]
  },
  {
   "cell_type": "code",
   "execution_count": 129,
   "metadata": {},
   "outputs": [
    {
     "name": "stdout",
     "output_type": "stream",
     "text": [
      "2\n",
      "1 degree optimization terminated succesfully\n",
      "jacobian at termination: \n",
      "[ 1.10439451e-09  9.80884301e-10  7.82155728e-10 -1.43542175e-10]\n",
      "1 degree optimization terminated succesfully\n",
      "jacobian at termination: \n",
      "[ 1.31658737e-13 -2.17319780e-13  3.88035701e-13 -4.35350227e-13]\n",
      "{'ESVM': array([[ 0.03970984,  0.05233694, -0.01620616,  0.15887274]]), 'EVM': array([[0.06124098, 0.07375681, 0.02688071, 0.09141553]]), 'LS': [], 'MAX': []}\n"
     ]
    }
   ],
   "source": [
    "coef_dict = optimize_parallel_new(degree,inds_arr,f_vals_evm,traj_evm,traj_grad,opt_structure_train,methods)\n",
    "print(coef_dict)"
   ]
  },
  {
   "cell_type": "code",
   "execution_count": 130,
   "metadata": {},
   "outputs": [],
   "source": [
    "#Create a dictionary and put respective matrices into it\n",
    "test_params = {\n",
    "    \"W\":W_test_spec,\n",
    "    \"step\":step,\n",
    "    \"burn_in\":N_burn,\n",
    "    \"n_test\":N_test,\n",
    "    \"dim\":d\n",
    "}\n",
    "\n",
    "nbcores = multiprocessing.cpu_count()\n",
    "trav = Pool(nbcores)\n",
    "res = trav.starmap(Run_eval_test, [(i,degree,sampler,methods,inds_arr,Cur_pot,test_params,coef_dict,params,f_type) for i in range (n_traj_test)])\n",
    "trav.close()"
   ]
  },
  {
   "cell_type": "code",
   "execution_count": 131,
   "metadata": {},
   "outputs": [
    {
     "name": "stdout",
     "output_type": "stream",
     "text": [
      "['Vanilla', 'ESVM', 'EVM']\n"
     ]
    }
   ],
   "source": [
    "methods_enh = ['Vanilla'] + methods\n",
    "print(methods_enh)\n",
    "ints_result = {key: [] for key in methods_enh}\n",
    "vars_result = {key: [] for key in methods_enh}"
   ]
  },
  {
   "cell_type": "code",
   "execution_count": 132,
   "metadata": {},
   "outputs": [],
   "source": [
    "for i in range(len(res)):\n",
    "    for j in range(len(methods_enh)):\n",
    "        ints_result[methods_enh[j]].append(res[i][0][methods_enh[j]][0])\n",
    "        vars_result[methods_enh[j]].append(res[i][1][methods_enh[j]][0])\n",
    "for key in methods_enh:\n",
    "    ints_result[key] = np.asarray(ints_result[key])\n",
    "    vars_result[key] = np.asarray(vars_result[key])"
   ]
  },
  {
   "cell_type": "markdown",
   "metadata": {},
   "source": [
    "### Bernoulli:: Optimize coefficients by solving regression with polynomial features"
   ]
  },
  {
   "cell_type": "code",
   "execution_count": 133,
   "metadata": {},
   "outputs": [
    {
     "name": "stdout",
     "output_type": "stream",
     "text": [
      "dimension =  50000\n",
      "(250000, 15)\n",
      "(249995, 15)\n",
      "(249990, 15)\n",
      "(249985, 15)\n",
      "(249980, 15)\n",
      "(249975, 15)\n",
      "(249970, 15)\n",
      "(249965, 15)\n",
      "(249960, 15)\n",
      "(249955, 15)\n",
      "(249950, 15)\n",
      "(249945, 15)\n",
      "(249940, 15)\n",
      "(249935, 15)\n",
      "(249930, 15)\n",
      "(249925, 15)\n",
      "(249920, 15)\n",
      "(249915, 15)\n",
      "(249910, 15)\n",
      "(249905, 15)\n",
      "(249900, 15)\n",
      "(249895, 15)\n",
      "(249890, 15)\n",
      "(249885, 15)\n",
      "(249880, 15)\n",
      "(249875, 15)\n",
      "(249870, 15)\n",
      "(249865, 15)\n",
      "(249860, 15)\n",
      "(249855, 15)\n",
      "(249850, 15)\n",
      "(249845, 15)\n",
      "(249840, 15)\n",
      "(249835, 15)\n",
      "(249830, 15)\n",
      "(249825, 15)\n",
      "(249820, 15)\n",
      "(249815, 15)\n",
      "(249810, 15)\n",
      "(249805, 15)\n",
      "(249800, 15)\n",
      "(249795, 15)\n",
      "(249790, 15)\n",
      "(249785, 15)\n",
      "(249780, 15)\n",
      "(249775, 15)\n",
      "(249770, 15)\n",
      "(249765, 15)\n",
      "(249760, 15)\n",
      "(249755, 15)\n",
      "(50, 15)\n",
      "dimension =  50000\n",
      "(250000, 5)\n",
      "(249995, 5)\n",
      "(249990, 5)\n",
      "(249985, 5)\n",
      "(249980, 5)\n",
      "(249975, 5)\n",
      "(249970, 5)\n",
      "(249965, 5)\n",
      "(249960, 5)\n",
      "(249955, 5)\n",
      "(249950, 5)\n",
      "(249945, 5)\n",
      "(249940, 5)\n",
      "(249935, 5)\n",
      "(249930, 5)\n",
      "(249925, 5)\n",
      "(249920, 5)\n",
      "(249915, 5)\n",
      "(249910, 5)\n",
      "(249905, 5)\n",
      "(249900, 5)\n",
      "(249895, 5)\n",
      "(249890, 5)\n",
      "(249885, 5)\n",
      "(249880, 5)\n",
      "(249875, 5)\n",
      "(249870, 5)\n",
      "(249865, 5)\n",
      "(249860, 5)\n",
      "(249855, 5)\n",
      "(249850, 5)\n",
      "(249845, 5)\n",
      "(249840, 5)\n",
      "(249835, 5)\n",
      "(249830, 5)\n",
      "(249825, 5)\n",
      "(249820, 5)\n",
      "(249815, 5)\n",
      "(249810, 5)\n",
      "(249805, 5)\n",
      "(249800, 5)\n",
      "(249795, 5)\n",
      "(249790, 5)\n",
      "(249785, 5)\n",
      "(249780, 5)\n",
      "(249775, 5)\n",
      "(249770, 5)\n",
      "(249765, 5)\n",
      "(249760, 5)\n",
      "(249755, 5)\n",
      "(50, 5)\n"
     ]
    }
   ],
   "source": [
    "#polynomial coefficients\n",
    "S_max = 2\n",
    "coefs_poly = approx_q(traj,f_vals,n_traj_train,lag,S_max)\n",
    "print(coefs_poly.shape)\n",
    "coefs_poly_1 = approx_q(traj,f_vals,n_traj_train,lag,1)\n",
    "print(coefs_poly_1.shape)"
   ]
  },
  {
   "cell_type": "code",
   "execution_count": 134,
   "metadata": {},
   "outputs": [],
   "source": [
    "from sklearn.preprocessing import PolynomialFeatures\n",
    "poly = PolynomialFeatures(S_max)\n",
    "X_features = poly.fit_transform(traj[0])\n",
    "poly_1 = PolynomialFeatures(1)\n",
    "X_features_1 = poly_1.fit_transform(traj[0])"
   ]
  },
  {
   "cell_type": "code",
   "execution_count": 135,
   "metadata": {},
   "outputs": [
    {
     "name": "stdout",
     "output_type": "stream",
     "text": [
      "(50000, 15)\n"
     ]
    }
   ],
   "source": [
    "print(X_features.shape)"
   ]
  },
  {
   "cell_type": "markdown",
   "metadata": {},
   "source": [
    "Test our regressors"
   ]
  },
  {
   "cell_type": "code",
   "execution_count": 139,
   "metadata": {},
   "outputs": [
    {
     "data": {
      "image/png": "[encoded data removed]",
      "text/plain": [
       "<Figure size 720x720 with 1 Axes>"
      ]
     },
     "metadata": {
      "needs_background": "light"
     },
     "output_type": "display_data"
    }
   ],
   "source": [
    "cur_lag = 1\n",
    "N_pts = 100\n",
    "plt.figure(figsize=(10, 10))\n",
    "plt.title(\"Testing regression model\",fontsize=20)\n",
    "plt.plot(f_vals[0,cur_lag:N_pts,0],color='r',label='true function')\n",
    "plt.plot(X_features[:(N_pts-cur_lag),:] @ coefs_poly[cur_lag,:],color='g',label = '2-order approximation')\n",
    "plt.plot(X_features_1[:(N_pts-cur_lag),:] @ coefs_poly_1[cur_lag,:],color='b',label = '1-order approximation')\n",
    "plt.legend(loc = 'lower right',fontsize = 16)\n",
    "plt.show()"
   ]
  },
  {
   "cell_type": "code",
   "execution_count": 137,
   "metadata": {},
   "outputs": [
    {
     "name": "stdout",
     "output_type": "stream",
     "text": [
      "4-nd order error:  9.624459588089243\n",
      "1-st order error:  14.035665207096118\n"
     ]
    }
   ],
   "source": [
    "print(\"4-nd order error: \",np.linalg.norm(f_vals[0,cur_lag:N_pts,0]-X_features[:(N_pts-cur_lag),:] @ coefs_poly[cur_lag,:]))\n",
    "print(\"1-st order error: \",np.linalg.norm(f_vals[0,cur_lag:N_pts,0]-X_features_1[:(N_pts-cur_lag),:] @ coefs_poly_1[cur_lag,:]))"
   ]
  },
  {
   "cell_type": "code",
   "execution_count": 24,
   "metadata": {},
   "outputs": [],
   "source": [
    "test_seed = 1453\n",
    "nbcores = multiprocessing.cpu_count()\n",
    "trav = Pool(nbcores)\n",
    "res = trav.starmap(test_traj, [(Cur_pot,coefs_poly,step,test_seed+i,lag,K_max,S_max,N_burn,N_test,d,f_type,inds_arr,params) for i in range (n_traj_test)])\n",
    "trav.close()"
   ]
  },
  {
   "cell_type": "code",
   "execution_count": 25,
   "metadata": {},
   "outputs": [
    {
     "name": "stdout",
     "output_type": "stream",
     "text": [
      "(24, 2, 1000)\n"
     ]
    }
   ],
   "source": [
    "res_new = np.asarray(res)\n",
    "print(res_new.shape)"
   ]
  },
  {
   "cell_type": "code",
   "execution_count": 26,
   "metadata": {},
   "outputs": [
    {
     "name": "stdout",
     "output_type": "stream",
     "text": [
      "1.0\n"
     ]
    }
   ],
   "source": [
    "vars_vanilla = np.var(res_new[:,0,:],axis = 0)\n",
    "vars_adj = np.var(res_new[:,1,:],axis = 0)\n",
    "#print(vars_vanilla)\n",
    "#print(vars_adj)\n",
    "print(np.mean(vars_adj[1:]/vars_vanilla[1:]))"
   ]
  },
  {
   "cell_type": "markdown",
   "metadata": {},
   "source": [
    "### Comparison plots"
   ]
  },
  {
   "cell_type": "code",
   "execution_count": 27,
   "metadata": {},
   "outputs": [],
   "source": [
    "title = \"\"\n",
    "labels = ['Vanilla\\n ULA', 'ULA \\nwith MDCV', 'ULA \\nwith EVM','ULA\\nwith ESVM']"
   ]
  },
  {
   "cell_type": "code",
   "execution_count": 28,
   "metadata": {},
   "outputs": [
    {
     "data": {
      "image/png": "[encoded data removed]",
      "text/plain": [
       "<Figure size 500x400 with 1 Axes>"
      ]
     },
     "metadata": {
      "needs_background": "light"
     },
     "output_type": "display_data"
    }
   ],
   "source": [
    "data = [ints_result['Vanilla'][:,0],res_new[:,1,-1],ints_result['EVM'][:,0],ints_result['ESVM'][:,0]] \n",
    "boxplot_ind(data, title, labels)"
   ]
  },
  {
   "cell_type": "code",
   "execution_count": 29,
   "metadata": {},
   "outputs": [],
   "source": [
    "title = \"\"\n",
    "labels = ['ULA \\nwith MDCV', 'ULA \\nwith EVM','ULA\\nwith ESVM']"
   ]
  },
  {
   "cell_type": "code",
   "execution_count": 30,
   "metadata": {
    "scrolled": true
   },
   "outputs": [
    {
     "data": {
      "image/png": "[encoded data removed]",
      "text/plain": [
       "<Figure size 500x400 with 1 Axes>"
      ]
     },
     "metadata": {
      "needs_background": "light"
     },
     "output_type": "display_data"
    }
   ],
   "source": [
    "data = [res_new[:,1,-1],ints_result['EVM'][:,0],ints_result['ESVM'][:,0]] \n",
    "boxplot_ind(data, title, labels)"
   ]
  },
  {
   "cell_type": "code",
   "execution_count": null,
   "metadata": {},
   "outputs": [],
   "source": []
  }
 ],
 "metadata": {
  "kernelspec": {
   "display_name": "Python 3",
   "language": "python",
   "name": "python3"
  },
  "language_info": {
   "codemirror_mode": {
    "name": "ipython",
    "version": 3
   },
   "file_extension": ".py",
   "mimetype": "text/x-python",
   "name": "python",
   "nbconvert_exporter": "python",
   "pygments_lexer": "ipython3",
   "version": "3.7.3"
  }
 },
 "nbformat": 4,
 "nbformat_minor": 2
}
