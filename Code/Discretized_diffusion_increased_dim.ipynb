{
 "cells": [
  {
   "cell_type": "code",
   "execution_count": 1,
   "metadata": {},
   "outputs": [],
   "source": [
    "import numpy as np\n",
    "import numpy.polynomial as P\n",
    "import scipy as sp\n",
    "from matplotlib import pyplot as plt\n",
    "from tqdm import tqdm\n",
    "#from sklearn.preprocessing import PolynomialFeatures\n",
    "from multiprocessing import Pool\n",
    "import multiprocessing\n",
    "import ZVnbrosse\n",
    "from sklearn.preprocessing import PolynomialFeatures\n",
    "from potentials import GaussPotential,GaussMixture,GausMixtureIdent,GausMixtureSame,BananaShape\n",
    "from samplers import MCMC_sampler,Generate_train,ULA_light\n",
    "from baselines import set_function,construct_ESVM_kernel,GenerateSigma\n",
    "from martingale import approx_q\n",
    "from optimize import Run_eval_test,optimize_parallel_new \n",
    "from utils import * \n",
    "import copy"
   ]
  },
  {
   "cell_type": "code",
   "execution_count": 2,
   "metadata": {},
   "outputs": [
    {
     "name": "stdout",
     "output_type": "stream",
     "text": [
      "[1 2 3 4 5 6 7 8 9 0]\n"
     ]
    }
   ],
   "source": [
    "a = np.arange(10)\n",
    "b = np.roll(a,2)\n",
    "c = np.roll(a,-1)\n",
    "print(c)"
   ]
  },
  {
   "cell_type": "code",
   "execution_count": 3,
   "metadata": {},
   "outputs": [
    {
     "name": "stdout",
     "output_type": "stream",
     "text": [
      "(2, 2)\n",
      "(1, 2)\n",
      "(3, 2)\n"
     ]
    }
   ],
   "source": [
    "a = np.array([[1, 2], [3, 4]])\n",
    "print(a.shape)\n",
    "b = np.array([[5, 6]])\n",
    "print(b.shape)\n",
    "c = np.concatenate((a,b),axis=0)\n",
    "print(c.shape)"
   ]
  },
  {
   "cell_type": "code",
   "execution_count": 4,
   "metadata": {},
   "outputs": [
    {
     "name": "stdout",
     "output_type": "stream",
     "text": [
      "(2, 3)\n",
      "[[1. 1. 2. 3. 1. 2. 3. 4. 6. 9.]\n",
      " [1. 1. 2. 3. 1. 2. 3. 4. 6. 9.]]\n"
     ]
    }
   ],
   "source": [
    "x = np.array([[1,2,3],[1,2,3]])\n",
    "print(x.shape)\n",
    "poly = PolynomialFeatures(2)\n",
    "features = poly.fit_transform(x)\n",
    "print(features)\n"
   ]
  },
  {
   "cell_type": "code",
   "execution_count": 5,
   "metadata": {},
   "outputs": [],
   "source": [
    "def H(k, x):\n",
    "    if k==0:\n",
    "        return 1.0\n",
    "    if k ==1:\n",
    "        return x\n",
    "    if k==2:\n",
    "        return (x**2 - 1)/np.sqrt(2)\n",
    "    c = np.zeros(k+1,dtype = float)\n",
    "    c[k] = 1.0\n",
    "    h = P.hermite_e.hermeval(x,c) / np.sqrt(sp.special.factorial(k)) \n",
    "    return h\n",
    "\n",
    "def compute_H(k,x,d):\n",
    "    cur_prod = 1.0\n",
    "    for i in range(d):\n",
    "        cur_prod = cur_prod*H(k[i],x[:,i])\n",
    "    return cur_prod"
   ]
  },
  {
   "cell_type": "code",
   "execution_count": 6,
   "metadata": {},
   "outputs": [
    {
     "name": "stdout",
     "output_type": "stream",
     "text": [
      "[array([1, 0, 0]), array([0, 1, 0]), array([0, 0, 1]), array([2, 0, 0]), array([1, 1, 0]), array([1, 0, 1]), array([0, 2, 0]), array([0, 1, 1]), array([0, 0, 2])]\n"
     ]
    }
   ],
   "source": [
    "def generate_lexicographical_2nd_order(d):\n",
    "    \"\"\"\n",
    "    function to generate lexigoraphical polynomials of 1st and 2nd order\n",
    "    \"\"\"\n",
    "    cur_list = []\n",
    "    for i in range(d):\n",
    "        cur_permute = np.zeros(d,dtype = int)\n",
    "        cur_permute[i] = 1\n",
    "        cur_list.append(np.copy(cur_permute))\n",
    "        cur_permute[i] = 0\n",
    "    for i in range(d):\n",
    "        cur_permute = np.zeros(d,dtype = int)\n",
    "        cur_permute[i] = 2\n",
    "        cur_list.append(np.copy(cur_permute))\n",
    "        cur_permute[i] = 1\n",
    "        for j in range(i+1,d):\n",
    "            cur_permute[j] = 1\n",
    "            cur_list.append(np.copy(cur_permute))\n",
    "            cur_permute[j] = 0\n",
    "    return cur_list\n",
    "\n",
    "a = generate_lexicographical_2nd_order(3)\n",
    "print(a)"
   ]
  },
  {
   "cell_type": "code",
   "execution_count": 7,
   "metadata": {},
   "outputs": [
    {
     "name": "stdout",
     "output_type": "stream",
     "text": [
      "(1, 5)\n"
     ]
    }
   ],
   "source": [
    "c = np.array([1,2,3,4,5])\n",
    "c = c.reshape((1,5))\n",
    "print(c.shape)"
   ]
  },
  {
   "cell_type": "code",
   "execution_count": 8,
   "metadata": {},
   "outputs": [],
   "source": [
    "def test_traj(coefs_poly_regr,gamma,r_seed,lag,d,N_test,x0):\n",
    "    \"\"\"\n",
    "    function to perform 1-dimensional martingale decomposition\n",
    "    \"\"\"\n",
    "    X_test,Noise = generate_traj(x0,N_test,gamma,r_seed,d)\n",
    "    test_stat_vanilla = np.zeros(N_test,dtype = float)\n",
    "    test_stat_vr = np.zeros_like(test_stat_vanilla)\n",
    "    #compute number of basis polynomials\n",
    "    basis_funcs = generate_lexicographical_2nd_order(d)\n",
    "    num_basis_funcs = len(basis_funcs)\n",
    "    #compute polynomials of noise variables Z_l\n",
    "    poly_vals = np.zeros((num_basis_funcs,N_test), dtype = float)\n",
    "    for k in range(len(basis_funcs)):\n",
    "        poly_vals[k,:] = compute_H(basis_funcs[k],Noise,d)\n",
    "    #initialize function\n",
    "    f_vals_vanilla = np.sum(X_test**2,axis=1)\n",
    "    #array to store control variates values\n",
    "    cvfs = np.zeros_like(f_vals_vanilla)\n",
    "    #compute coeffitients bar_a\n",
    "    bar_a_1st_order = np.zeros((lag,d,N_test),dtype=float)\n",
    "    bar_a_2nd_order = np.zeros((lag,d,d,N_test),dtype=float)\n",
    "    #preprocessing \n",
    "    X_test = np.concatenate((x0.reshape(1,d),X_test),axis=0)\n",
    "    coefs_poly_1st_order = np.zeros((lag,d),dtype=float)\n",
    "    coefs_poly_1st_order = coefs_poly_regr[:,1:d+1]\n",
    "    coefs_poly_2nd_order = np.zeros((lag,d,d),dtype=float)\n",
    "    counter = 0\n",
    "    for i in range(d):\n",
    "        for j in range(i,d):\n",
    "            coefs_poly_2nd_order[:,i,j] = coefs_poly_regr[:,d+1+counter]\n",
    "            counter += 1\n",
    "    for i in range(lag):\n",
    "        #first-order coefficients\n",
    "        for j in range(d):\n",
    "            bar_a_1st_order[i,j,:] = coefs_poly_1st_order[i,j]*np.sqrt(gamma)*sigma(X_test[:-1])[:,j]\n",
    "            #sum more coefficients\n",
    "            for k in range(j):\n",
    "                bar_a_1st_order[i,j,:] += coefs_poly_2nd_order[i,k,j]*np.sqrt(gamma)*sigma(X_test[:-1])[:,j]*((X_test[:-1]+gamma*b(X_test[:-1]))[:,k])\n",
    "            #diagonal part\n",
    "            bar_a_1st_order[i,j] += 2*coefs_poly_2nd_order[i,j,j]*np.sqrt(gamma)*sigma(X_test[:-1])[:,j]*((X_test[:-1]+gamma*b(X_test[:-1]))[:,j])\n",
    "            #sum more coefficients\n",
    "            for k in range(j+1,d):\n",
    "                bar_a_1st_order[i,j] += coefs_poly_2nd_order[i,j,k]*np.sqrt(gamma)*sigma(X_test[:-1])[:,j]*((X_test[:-1]+gamma*b(X_test[:-1]))[:,k])\n",
    "            #second-order coefficients, to be filled\n",
    "            bar_a_2nd_order[i,j,j,:] = coefs_poly_2nd_order[i,j,j]*np.sqrt(2)*gamma*sigma(X_test[:-1])[:,j]  \n",
    "        \"\"\"\n",
    "        bar_a_0_1[i,1:] = coefs_poly_regr[i,1]*cov[0,1]*np.sqrt(gamma)*sigma(X_test[:-1])[:,0]+\\\n",
    "                        coefs_poly_regr[i,2]*cov[1,1]*np.sqrt(gamma)*sigma(X_test[:-1])[:,1]+\\\n",
    "                        2*coefs_poly_regr[i,3]*cov[0,1]*np.sqrt(gamma)*sigma(X_test[:-1])[:,0]*(X_test[:-1]+gamma*b(X_test[:-1]))[:,0]+\\\n",
    "                        coefs_poly_regr[i,4]*(((X_test[:-1]+gamma*b(X_test[:-1]))[:,0])*sigma(X_test[:-1])[:,1]*np.sqrt(gamma)*cov[1,1] +\\\n",
    "                                             ((X_test[:-1]+gamma*b(X_test[:-1]))[:,1])*sigma(X_test[:-1])[:,0]*np.sqrt(gamma)*cov[0,1])+\\\n",
    "                        2*coefs_poly_regr[i,5]*cov[1,1]*np.sqrt(gamma)*sigma(X_test[:-1])[:,1]*(X_test[:-1]+gamma*b(X_test[:-1]))[:,1]\n",
    "        bar_a_0_1[i,0] = coefs_poly_regr[i,1]*cov[0,1]*np.sqrt(gamma)*sigma(x0)[0]+\\\n",
    "                        coefs_poly_regr[i,2]*cov[1,1]*np.sqrt(gamma)*sigma(x0)[1]+\\\n",
    "                        2*coefs_poly_regr[i,3]*cov[0,1]*np.sqrt(gamma)*sigma(x0)[0]*(x0+gamma*b(x0))[0]+\\\n",
    "                        coefs_poly_regr[i,4]*(((x0+gamma*b(x0))[0])*sigma(x0)[1]*np.sqrt(gamma)*cov[1,1] +\\\n",
    "                                             ((x0+gamma*b(x0))[1])*sigma(x0)[0]*np.sqrt(gamma)*cov[0,1])+\\\n",
    "                        2*coefs_poly_regr[i,5]*cov[1,1]*np.sqrt(gamma)*sigma(x0)[1]*(x0+gamma*b(x0))[1]\n",
    "        #coefficients with H_1_0\n",
    "        bar_a_1_0[i,1:] = coefs_poly_regr[i,1]*cov[0,0]*np.sqrt(gamma)*sigma(X_test[:-1])[:,0]+\\\n",
    "                        coefs_poly_regr[i,2]*cov[0,1]*np.sqrt(gamma)*sigma(X_test[:-1])[:,1]+\\\n",
    "                        2*coefs_poly_regr[i,3]*cov[0,0]*np.sqrt(gamma)*sigma(X_test[:-1])[:,0]*(X_test[:-1]+gamma*b(X_test[:-1]))[:,0]+\\\n",
    "                        coefs_poly_regr[i,4]*(((X_test[:-1]+gamma*b(X_test[:-1]))[:,0])*sigma(X_test[:-1])[:,1]*np.sqrt(gamma)*cov[0,1] +\\\n",
    "                                             ((X_test[:-1]+gamma*b(X_test[:-1]))[:,1])*sigma(X_test[:-1])[:,0]*np.sqrt(gamma)*cov[0,0])+\\\n",
    "                        2*coefs_poly_regr[i,5]*cov[0,1]*np.sqrt(gamma)*sigma(X_test[:-1])[:,1]*(X_test[:-1]+gamma*b(X_test[:-1]))[:,1]\n",
    "        bar_a_1_0[i,0] = coefs_poly_regr[i,1]*cov[0,0]*np.sqrt(gamma)*sigma(x0)[0]+\\\n",
    "                        coefs_poly_regr[i,2]*cov[0,1]*np.sqrt(gamma)*sigma(x0)[1]+\\\n",
    "                        2*coefs_poly_regr[i,3]*cov[0,0]*np.sqrt(gamma)*sigma(x0)[0]*(x0+gamma*b(x0))[0]+\\\n",
    "                        coefs_poly_regr[i,4]*(((x0+gamma*b(x0))[0])*sigma(x0)[1]*np.sqrt(gamma)*cov[0,1] +\\\n",
    "                                             ((x0+gamma*b(x0))[1])*sigma(x0)[0]*np.sqrt(gamma)*cov[0,0]) +\\\n",
    "                        2*coefs_poly_regr[i,5]*cov[0,1]*np.sqrt(gamma)*sigma(x0)[1]*(x0+gamma*b(x0))[1]\n",
    "        #second-order coefficients\n",
    "        bar_a_1_1[i,1:] = 2*coefs_poly_regr[i,3]*gamma*(sigma(X_test[:-1])[:,0])**2*cov[0,0]*cov[0,1]+\\\n",
    "                        coefs_poly_regr[i,4]*gamma*(sigma(X_test[:-1])[:,0])*(sigma(X_test[:-1])[:,1])*(cov[0,1]**2 + cov[0,0]*cov[1,1])+\\\n",
    "                        2*coefs_poly_regr[i,5]*gamma*(sigma(X_test[:-1])[:,1])**2*cov[1,1]*cov[0,1]\n",
    "        bar_a_1_1[i,0] = 2*coefs_poly_regr[i,3]*gamma*(sigma(x0)[0])**2*cov[0,0]*cov[0,1]+\\\n",
    "                        coefs_poly_regr[i,4]*gamma*(sigma(x0)[0])*(sigma(x0)[1])*(cov[0,1]**2 + cov[0,0]*cov[1,1])+\\\n",
    "                        2*coefs_poly_regr[i,5]*gamma*(sigma(x0)[1])**2*cov[1,1]*cov[0,1]\n",
    "        #coefficients with H_2_0\n",
    "        bar_a_2_0[i,1:] = np.sqrt(2)*coefs_poly_regr[i,3]*gamma\n",
    "        #coefficients with H_0_2\n",
    "        bar_a_0_2[i,1:] = np.sqrt(2)*coefs_poly_regr[i,5]*gamma\n",
    "        \"\"\"\n",
    "    #bar_a_1_0 = bar_a_1_0*poly_vals[0,:]\n",
    "    #bar_a_0_1 = bar_a_0_1*poly_vals[1,:]\n",
    "    #bar_a_1_1 = bar_a_1_1*poly_vals[2,:]\n",
    "    #bar_a_2_0 = bar_a_2_0*poly_vals[3,:]\n",
    "    #bar_a_0_2 = bar_a_0_2*poly_vals[4,:]\n",
    "    for i in range(d):\n",
    "        bar_a_1st_order[:,i,:] = poly_vals[i,:]*bar_a_1st_order[:,i,:]\n",
    "        bar_a_2nd_order[:,i,i,:] = poly_vals[d + d*(d+1)//2 - (d-i)*(d-i+1)//2,:]*bar_a_2nd_order[:,i,i,:] \n",
    "    #compute martingale sums\n",
    "    M_n_1st = 0.0\n",
    "    M_n_2nd = 0.0\n",
    "    for l in range(N_test):\n",
    "        for r in range(min(N_test-l,lag)):\n",
    "            M_n_1st += np.sum(bar_a_1st_order[r,:,l])\n",
    "            axis=tuple(range(arr.ndim - 1))\n",
    "    return np.mean(f_vals_vanilla), np.mean(f_vals_vanilla)-(M_n_1st)/N_test, np.mean(f_vals_vanilla)-(M_n_1st+M_n_2nd)/N_test\n",
    "#\n",
    "#\n",
    "#"
   ]
  },
  {
   "cell_type": "code",
   "execution_count": 9,
   "metadata": {},
   "outputs": [],
   "source": [
    "def approx_q(X_train,Y_train,N_traj_train,lag,max_deg):\n",
    "    \"\"\"\n",
    "    Function to regress q functions on a polynomial basis;\n",
    "    Args:\n",
    "        X_train - train tralectory;\n",
    "        Y_train - function values;\n",
    "        N_traj_train - number of training trajectories;\n",
    "        lag - truncation point for coefficients, those for |p-l| > lag are set to 0;\n",
    "        max_deg - maximum degree of polynomial in regression\n",
    "    \"\"\"\n",
    "    dim = X_train[0,:].shape[0]\n",
    "    #print(\"dimension = \",dim)\n",
    "    coefs_poly = np.array([])\n",
    "    for i in range(lag):\n",
    "        x_all = np.array([])\n",
    "        y_all = np.array([])\n",
    "        for j in range(N_traj_train):\n",
    "            y = Y_train[j,i:,0]\n",
    "            if i == 0:\n",
    "                x = X_train[j,:]\n",
    "            else:\n",
    "                x = X_train[j,:-i]\n",
    "            #concatenate results\n",
    "            if x_all.size == 0:\n",
    "                x_all = x\n",
    "            else:\n",
    "                x_all = np.concatenate((x_all,x),axis = 0)\n",
    "            y_all = np.concatenate([y_all,y])\n",
    "        #should use polyfeatures here\n",
    "        #print(\"variance: \",np.var(y_all))\n",
    "        #print(y_all[:50])\n",
    "        poly = PolynomialFeatures(max_deg)\n",
    "        X_features = poly.fit_transform(x_all)\n",
    "        #print(X_features.shape)\n",
    "        lstsq_results = np.linalg.lstsq(X_features,y_all,rcond = None)\n",
    "        coefs = copy.deepcopy(lstsq_results[0])\n",
    "        coefs.resize((1,X_features.shape[1]))           \n",
    "        if coefs_poly.size == 0:\n",
    "            coefs_poly = copy.deepcopy(coefs)\n",
    "        else:\n",
    "            coefs_poly = np.concatenate((coefs_poly,coefs),axis=0)\n",
    "    return coefs_poly"
   ]
  },
  {
   "cell_type": "code",
   "execution_count": 10,
   "metadata": {},
   "outputs": [],
   "source": [
    "a = 0.5\n",
    "sig = 1.0\n",
    "\n",
    "def b(X_t):\n",
    "    \"\"\"\n",
    "    b function in the diffusion\n",
    "    \"\"\"\n",
    "    #return a*(c-X_t)\n",
    "    if len(X_t.shape) == 1:\n",
    "        sin_part = np.sin(X_t)\n",
    "        return -(X_t + a*np.roll(sin_part,-1))\n",
    "    else:\n",
    "        sin_part = np.sin(X_t)\n",
    "        return -(X_t + a*np.roll(sin_part,-1,axis=1))\n",
    "\n",
    "def sigma(X_t):\n",
    "    \"\"\"\n",
    "    b function in the diffusion\n",
    "    \"\"\"\n",
    "    return sig*np.ones_like(X_t)\n",
    "\n",
    "def sample_discretized_diffusion(X_t,gamma_t,d):\n",
    "    \"\"\"\n",
    "    args:   X_t - current value, \n",
    "            gamma_t - step size;\n",
    "            d - dimension;\n",
    "            cov - covariance matrix\n",
    "    returns:  (X_{t+1},xi_{t+1}) - value at the next time moment and the corresponding noise variable\n",
    "    \"\"\"\n",
    "    xi = np.random.randn(d)\n",
    "    return X_t + gamma_t*b(X_t) + np.sqrt(gamma_t)*sigma(X_t)*xi,xi\n",
    "\n",
    "#currently we use this function without the burn-in\n",
    "def generate_traj(x0,n,gamma,r_seed,d):\n",
    "    \"\"\"\n",
    "    args:\n",
    "        x0 - starting point;\n",
    "        n - number of steps;\n",
    "        gamma - step size (assumed to be fixed for now);\n",
    "    returns:\n",
    "        x_all,noise_all - np.arrays of shape (n,)  \n",
    "    \"\"\"\n",
    "    x_all = np.zeros((n,d),dtype = float)\n",
    "    noise_all = np.zeros((n,d),dtype = float)\n",
    "    np.random.seed(r_seed)\n",
    "    x_all[0],noise_all[0] = sample_discretized_diffusion(x0,gamma,d)\n",
    "    for i in range(1,n):\n",
    "        x_all[i],noise_all[i] = sample_discretized_diffusion(x_all[i-1],gamma,d)\n",
    "    return x_all,noise_all\n",
    "\n",
    "def run_monte_carlo(x,f_type):\n",
    "    if f_type == \"quadratic\":\n",
    "        f_vals = x**2\n",
    "    else:\n",
    "        raise \"not implemented error\"\n",
    "    return np.mean(f_vals,axis=1)"
   ]
  },
  {
   "cell_type": "code",
   "execution_count": 11,
   "metadata": {},
   "outputs": [],
   "source": [
    "n = 5*10**3 #sample size\n",
    "gamma = 1e-1 # Step size\n",
    "n_traj = 1\n",
    "d = 5\n",
    "n_traj_test = 100 # Number of independent MCMC trajectories for test\n",
    "f_type = \"quadratic\"\n",
    "K_max = 2 #max degree of Hermite polynomial\n",
    "S_max = 2 #max degree of polynomial during regression stage\n",
    "lag = 20 #maximal lag order\n",
    "N_test = 5*10**3"
   ]
  },
  {
   "cell_type": "markdown",
   "metadata": {},
   "source": [
    "Sample discretized diffusion"
   ]
  },
  {
   "cell_type": "code",
   "execution_count": 12,
   "metadata": {},
   "outputs": [],
   "source": [
    "def generate_observations(x0,n,gamma,r_seed,d):\n",
    "    X_train, noise_train = generate_traj(x0,n,gamma,r_seed,d)\n",
    "    #set target function\n",
    "    Y_train = np.sum(X_train**2,axis=1)\n",
    "    X_train = X_train.reshape((1,-1,d))\n",
    "    Y_train = Y_train.reshape((1,-1,1))\n",
    "    return X_train, noise_train, Y_train"
   ]
  },
  {
   "cell_type": "code",
   "execution_count": 13,
   "metadata": {},
   "outputs": [],
   "source": [
    "x0 = np.ones(d,dtype = float)\n",
    "r_seed = 1812\n",
    "X_train, noise_train, Y_train = generate_observations(x0,n,gamma,r_seed,d)"
   ]
  },
  {
   "cell_type": "markdown",
   "metadata": {},
   "source": [
    "### Bernoulli:: Optimize coefficients by solving regression with polynomial features"
   ]
  },
  {
   "cell_type": "code",
   "execution_count": 14,
   "metadata": {},
   "outputs": [
    {
     "name": "stdout",
     "output_type": "stream",
     "text": [
      "[[-1.37878573e-15  1.33226763e-15  2.06892683e-16  1.47653995e-16\n",
      "  -2.27366850e-16  1.16637143e-16  1.00000000e+00 -1.30859141e-15\n",
      "   4.78642880e-16  3.45050052e-16  6.82515270e-17  1.00000000e+00\n",
      "   1.43692732e-16  8.07090419e-16 -1.27697358e-16  1.00000000e+00\n",
      "  -7.09047214e-16 -5.94142791e-17  1.00000000e+00 -2.77555756e-17\n",
      "   1.00000000e+00]\n",
      " [ 4.81697296e-01 -2.24773385e-02 -1.69334961e-02  1.89349578e-02\n",
      "  -3.71131237e-03  5.40388150e-03  7.68673210e-01 -1.48207906e-01\n",
      "  -1.31218941e-02  4.34353096e-02 -5.04699848e-02  8.08052950e-01\n",
      "  -3.35146478e-02  3.33609079e-02 -5.30093735e-02  8.75434470e-01\n",
      "  -3.57707829e-02  4.63304941e-02  8.30979244e-01 -1.40392342e-02\n",
      "   8.26206265e-01]\n",
      " [ 8.95688366e-01 -4.77112889e-02 -7.69861454e-03  5.45897414e-02\n",
      "  -8.46842528e-04  8.95675312e-03  5.99112599e-01 -2.65259690e-01\n",
      "   9.70935643e-03  6.45168780e-02 -7.64143470e-02  6.44822636e-01\n",
      "  -3.86836203e-02  3.42923735e-02 -1.06749783e-01  7.56261934e-01\n",
      "  -9.18181518e-02  5.93923588e-02  6.75995213e-01 -5.87904011e-02\n",
      "   6.67334528e-01]\n",
      " [ 1.21313488e+00 -5.91714185e-02  1.09249531e-03  7.19708821e-02\n",
      "  -3.39863084e-03  2.97382169e-02  4.77228001e-01 -3.06952376e-01\n",
      "   1.42118406e-02  8.20664623e-02 -8.35569015e-02  5.29749508e-01\n",
      "  -4.83935351e-02  2.05845534e-02 -1.09091222e-01  6.59363041e-01\n",
      "  -1.43412414e-01  6.73423989e-02  5.32267139e-01 -1.26570197e-01\n",
      "   5.60715449e-01]\n",
      " [ 1.45864958e+00 -6.79822007e-02  2.25866096e-03  9.88496126e-02\n",
      "  -1.29858880e-02  5.73884682e-02  4.16353071e-01 -2.84526242e-01\n",
      "   1.46962563e-02  8.98814340e-02 -7.31533466e-02  4.43374884e-01\n",
      "  -3.59779508e-02 -1.99869428e-03 -8.08101249e-02  5.60103055e-01\n",
      "  -1.84209261e-01  1.11284332e-01  4.20733916e-01 -1.87696353e-01\n",
      "   4.77957805e-01]\n",
      " [ 1.69084133e+00 -7.98465691e-02  4.93279406e-03  1.11765908e-01\n",
      "  -1.16399021e-02  7.14343597e-02  3.48700362e-01 -2.41060260e-01\n",
      "   1.66349494e-02  8.92866626e-02 -5.72315269e-02  3.67677172e-01\n",
      "  -2.84605442e-02 -5.69134181e-03 -3.78962249e-02  4.70318760e-01\n",
      "  -1.90686130e-01  1.59144058e-01  3.28748869e-01 -2.03069526e-01\n",
      "   4.07252548e-01]\n",
      " [ 1.89476760e+00 -9.34154578e-02 -2.59654321e-03  1.28812802e-01\n",
      "  -4.65762083e-03  8.03935053e-02  2.86471180e-01 -2.30555018e-01\n",
      "   1.22253811e-02  4.56335161e-02 -5.05254756e-02  2.91408348e-01\n",
      "  -2.64389726e-02 -1.66305636e-02  5.17664238e-03  3.83249404e-01\n",
      "  -2.24333285e-01  1.70980875e-01  2.54496886e-01 -2.11797933e-01\n",
      "   3.49554615e-01]\n",
      " [ 2.06487284e+00 -1.01748773e-01 -1.03674607e-02  1.51001281e-01\n",
      "   1.89683318e-02  8.68535420e-02  2.47172163e-01 -2.09005472e-01\n",
      "   2.27984964e-02 -2.12539228e-02 -5.59512203e-02  2.22736465e-01\n",
      "  -5.50652793e-02 -4.56163961e-02  5.01107448e-02  3.14030565e-01\n",
      "  -2.39260574e-01  1.73106033e-01  2.00305021e-01 -2.38742939e-01\n",
      "   2.83429962e-01]\n",
      " [ 2.22342520e+00 -1.08897424e-01 -2.05087052e-02  1.57914543e-01\n",
      "   3.26145472e-02  9.86693027e-02  2.04401454e-01 -2.28193040e-01\n",
      "   2.77940598e-02 -6.27061036e-02 -6.26494540e-02  1.57653263e-01\n",
      "  -9.15357788e-02 -5.26443946e-02  7.25892419e-02  2.65412568e-01\n",
      "  -2.32655562e-01  1.80155593e-01  1.42410457e-01 -2.72906687e-01\n",
      "   2.14984220e-01]\n",
      " [ 2.35312378e+00 -1.14151168e-01 -1.10086579e-02  1.67482535e-01\n",
      "   3.53887723e-02  9.79641047e-02  1.49891725e-01 -2.14240085e-01\n",
      "   3.86973063e-02 -6.97037953e-02 -6.28240025e-02  1.37070239e-01\n",
      "  -7.18301497e-02 -5.49970478e-02  8.15195416e-02  2.12423716e-01\n",
      "  -2.32769991e-01  1.86040687e-01  9.72196027e-02 -2.85199652e-01\n",
      "   1.66644859e-01]\n",
      " [ 2.45288826e+00 -1.12029040e-01 -3.31406572e-03  1.68939348e-01\n",
      "   4.50940284e-02  1.08699021e-01  1.16467400e-01 -1.72410527e-01\n",
      "   6.97169507e-02 -5.80829268e-02 -5.74840645e-02  1.01808128e-01\n",
      "  -9.47994944e-02 -3.82727035e-02  8.44567256e-02  1.77033623e-01\n",
      "  -2.17220939e-01  1.82969327e-01  6.53240466e-02 -2.58447310e-01\n",
      "   1.45147815e-01]\n",
      " [ 2.54201957e+00 -1.01940924e-01  6.23065989e-03  1.63207670e-01\n",
      "   4.94419905e-02  1.18315914e-01  8.00347931e-02 -1.81703481e-01\n",
      "   7.73729729e-02 -3.54428709e-02 -6.83298099e-02  7.44973606e-02\n",
      "  -1.22641723e-01 -9.07596077e-03  6.29829269e-02  1.40942677e-01\n",
      "  -1.95676845e-01  1.71795332e-01  3.67665131e-02 -2.53050269e-01\n",
      "   1.17357948e-01]\n",
      " [ 2.63929328e+00 -1.01701879e-01  9.40964543e-03  1.38701664e-01\n",
      "   4.85899724e-02  1.22350666e-01  3.30090384e-02 -1.99905865e-01\n",
      "   5.01395382e-02 -4.60480076e-02 -4.22614218e-02  2.69277651e-02\n",
      "  -1.42854420e-01  1.30657403e-02  7.29969816e-02  1.12821867e-01\n",
      "  -1.60315444e-01  1.49092780e-01  2.94449175e-02 -2.46806921e-01\n",
      "   9.00691947e-02]\n",
      " [ 2.71057551e+00 -9.26191043e-02  2.20652942e-02  1.29748734e-01\n",
      "   6.16547077e-02  1.36333089e-01  8.05961566e-03 -2.00045440e-01\n",
      "   2.34604964e-02 -6.59354267e-02 -8.72328374e-03 -6.29726908e-03\n",
      "  -1.37296955e-01  3.12815395e-02  7.51873239e-02  9.64001801e-02\n",
      "  -1.43690146e-01  1.27307910e-01  2.80503053e-02 -2.32491838e-01\n",
      "   5.88565297e-02]\n",
      " [ 2.74971297e+00 -7.99505642e-02  2.79837249e-02  1.28198885e-01\n",
      "   6.36746423e-02  1.32519796e-01 -1.82439535e-03 -1.83115331e-01\n",
      "   3.29791022e-02 -4.66236494e-02  6.26281678e-03 -2.17828936e-02\n",
      "  -1.25888706e-01  8.71848597e-02  7.79654391e-02  7.48526224e-02\n",
      "  -1.05367291e-01  1.50160398e-01  2.95944432e-02 -2.09109376e-01\n",
      "   5.29438176e-02]\n",
      " [ 2.78138308e+00 -7.91045547e-02  3.02207421e-02  1.18665581e-01\n",
      "   5.56970843e-02  1.12297980e-01 -1.24655870e-02 -1.73587968e-01\n",
      "   3.33654788e-02 -1.16322107e-02  4.61162098e-02 -4.87888322e-02\n",
      "  -1.29498593e-01  1.47533171e-01  9.51084576e-02  5.18782542e-02\n",
      "  -1.01765224e-01  1.43525634e-01  2.41557229e-02 -1.98893063e-01\n",
      "   7.20531570e-02]\n",
      " [ 2.80768791e+00 -8.10792550e-02  3.26129641e-02  8.77260149e-02\n",
      "   4.99361485e-02  1.10499159e-01 -3.75744029e-02 -1.54547158e-01\n",
      "   6.02804025e-03  1.83463273e-02  6.79614450e-02 -5.51314013e-02\n",
      "  -1.23140151e-01  1.93960673e-01  1.03491690e-01  3.85706399e-02\n",
      "  -1.32930622e-01  1.12038069e-01  8.60872292e-03 -2.15581763e-01\n",
      "   8.66766954e-02]\n",
      " [ 2.85176808e+00 -8.53431468e-02  4.56015149e-02  7.11043890e-02\n",
      "   5.52181707e-02  1.01811290e-01 -6.70976941e-02 -1.39066121e-01\n",
      "   2.24917624e-03  5.24958782e-02  7.82141062e-02 -6.43952427e-02\n",
      "  -1.09298620e-01  2.15383127e-01  9.63759959e-02  3.14705718e-02\n",
      "  -1.47900073e-01  8.71211817e-02 -1.24500791e-02 -2.04276394e-01\n",
      "   8.32105870e-02]\n",
      " [ 2.86720958e+00 -9.77186904e-02  5.21154286e-02  4.47686916e-02\n",
      "   5.66364058e-02  9.13308678e-02 -8.62466439e-02 -1.33062292e-01\n",
      "  -1.42775196e-02  4.72669879e-02  6.15234155e-02 -6.52915816e-02\n",
      "  -6.60660129e-02  2.10600115e-01  9.29323752e-02  3.82013587e-02\n",
      "  -1.42893230e-01  8.04506599e-02 -1.00031110e-02 -1.80278457e-01\n",
      "   7.97183189e-02]\n",
      " [ 2.86160518e+00 -9.35938115e-02  6.93504108e-02  2.57447225e-02\n",
      "   6.16263494e-02  8.00497970e-02 -8.94107737e-02 -9.72498241e-02\n",
      "  -5.86252273e-02  4.00956457e-02  4.78020371e-02 -5.52478673e-02\n",
      "  -7.75405941e-02  2.02990624e-01  5.62530228e-02  5.64181849e-02\n",
      "  -1.32768378e-01  4.95680827e-02 -2.35499918e-02 -1.71645734e-01\n",
      "   8.88995164e-02]]\n"
     ]
    }
   ],
   "source": [
    "#polynomial coefficients\n",
    "coefs_poly = approx_q(X_train,Y_train,n_traj,lag,S_max)\n",
    "#print(coefs_poly.shape)\n",
    "print(coefs_poly)\n",
    "regr_vals = np.zeros((lag,X_train.shape[1]),dtype=float)\n",
    "poly = PolynomialFeatures(S_max)\n",
    "features = poly.fit_transform(X_train[0])\n",
    "#features = np.zeros((X_train.shape[1],6),dtype=float)\n",
    "#features[:,0] = 1.0\n",
    "#features[:,1:3] = X_train[0,:,:]\n",
    "#features[:,3] = X_train[0,:,0]**2 \n",
    "#features[:,4] = X_train[0,:,0]*X_train[0,:,1]\n",
    "#features[:,5] = X_train[0,:,1]**2\n",
    "for i in range(len(regr_vals)):\n",
    "    regr_vals[i,:] = np.sum(coefs_poly[i,:]*features,axis=1)"
   ]
  },
  {
   "cell_type": "markdown",
   "metadata": {},
   "source": [
    "Test our regressors"
   ]
  },
  {
   "cell_type": "code",
   "execution_count": 15,
   "metadata": {},
   "outputs": [
    {
     "data": {
      "image/png": "[encoded data removed]",
      "text/plain": [
       "<Figure size 720x720 with 1 Axes>"
      ]
     },
     "metadata": {
      "needs_background": "light"
     },
     "output_type": "display_data"
    }
   ],
   "source": [
    "cur_lag = 19\n",
    "N_pts = 500\n",
    "plt.figure(figsize=(10, 10))\n",
    "plt.title(\"Testing regression model\",fontsize=20)\n",
    "plt.plot(Y_train[0,cur_lag:N_pts+cur_lag,0],color='r',label='true function')\n",
    "plt.plot(regr_vals[cur_lag,:N_pts],color='g',label = 'practical approximation')\n",
    "plt.legend(loc = 'upper left',fontsize = 16)\n",
    "plt.show()"
   ]
  },
  {
   "cell_type": "code",
   "execution_count": 16,
   "metadata": {},
   "outputs": [
    {
     "name": "stdout",
     "output_type": "stream",
     "text": [
      "(24, 3)\n"
     ]
    }
   ],
   "source": [
    "test_seed = 1453\n",
    "nbcores = multiprocessing.cpu_count()\n",
    "trav = Pool(nbcores)\n",
    "res = trav.starmap(test_traj, [(coefs_poly,gamma,test_seed+i,lag,d,N_test,x0) for i in range (n_traj_test)])\n",
    "#res = trav.starmap(test_traj, [(Cur_pot,coefs_poly,step,test_seed+i,lag,K_max,S_max,N_burn,N_test,d,f_type,inds_arr,params,x0,fixed_start) for i in range (n_traj_test)])\n",
    "trav.close()\n",
    "res = np.asarray(res)\n",
    "print(res.shape)"
   ]
  },
  {
   "cell_type": "markdown",
   "metadata": {},
   "source": [
    "### Comparison plots"
   ]
  },
  {
   "cell_type": "code",
   "execution_count": 19,
   "metadata": {},
   "outputs": [],
   "source": [
    "title = \"\"\n",
    "#labels = ['Vanilla\\n Euler scheme', 'Euler scheme \\nwith MDCV-1']\n",
    "labels = ['Vanilla\\n Euler scheme', 'Euler scheme \\nwith MDCV-1']#,'Euler scheme \\nwith MDCV-2']"
   ]
  },
  {
   "cell_type": "code",
   "execution_count": 20,
   "metadata": {},
   "outputs": [
    {
     "data": {
      "image/png": "[encoded data removed]",
      "text/plain": [
       "<Figure size 500x400 with 1 Axes>"
      ]
     },
     "metadata": {
      "needs_background": "light"
     },
     "output_type": "display_data"
    }
   ],
   "source": [
    "data = [res[:,0],res[:,1]]#, res_new_0[:,2]] \n",
    "boxplot_ind(data, title, labels,path=\"./2d_nonsymmetric_potential_quadratic_lag_20_d_5.pdf\")"
   ]
  },
  {
   "cell_type": "code",
   "execution_count": null,
   "metadata": {},
   "outputs": [],
   "source": [
    "def set_axis_style_boxplot(ax, labels, parts):\n",
    "    colors = (sns.color_palette(\"muted\")[0:7])\n",
    "    ax.grid(color='black', linestyle='-', linewidth=0.15, alpha=0.6)    \n",
    "    ax.set_xticks(np.arange(1, len(labels)+1))\n",
    "    ax.set_xticklabels(labels, fontsize=12)\n",
    "    ax.set_xlim(0.5, len(labels) + 0.5)\n",
    "    ax.spines[\"top\"].set_visible(False)\n",
    "    ax.spines[\"bottom\"].set_visible(False)\n",
    "    ax.spines[\"left\"].set_visible(False)\n",
    "    ax.spines[\"right\"].set_visible(False)\n",
    "    \n",
    "    for pc,i in zip(parts['boxes'],range(len(labels))):\n",
    "        pc.set(facecolor=colors[i],alpha=0.65)\n",
    "        pc.set_edgecolor('black')\n",
    "        pc.set_linewidth(0.65)\n",
    "    \n",
    "\n",
    "def boxplot_ind(data, title, labels, path):\n",
    "    meanprops = dict(linestyle='-', linewidth=1, color='black')\n",
    "    medianprops = dict(linestyle='', linewidth=0)\n",
    "\n",
    "    fig, ax1 = plt.subplots(nrows=1, ncols=1, figsize=(8, 4), sharey=True, frameon=False,dpi=100)      \n",
    "    fig.suptitle(title, fontsize=20)\n",
    "    parts = ax1.boxplot(data,  widths=0.6, patch_artist=True, meanline=True, showmeans=True, medianprops=medianprops,meanprops = meanprops, showfliers=False)\n",
    "    set_axis_style_boxplot(ax1, labels, parts)\n",
    "    fig.tight_layout()\n",
    "    fig.subplots_adjust(top=0.85)\n",
    "    plt.savefig(path)\n",
    "    plt.show() "
   ]
  },
  {
   "cell_type": "code",
   "execution_count": null,
   "metadata": {},
   "outputs": [],
   "source": [
    "title = \"\"\n",
    "#labels = ['Vanilla\\n Euler scheme', 'Euler scheme \\nwith MDCV-1']\n",
    "labels = ['Vanilla \\n Euler scheme','MDCV-2, \\n $N = 10^3$', 'MDCV-2, \\n $N = 2 \\\\times 10^3$',\\\n",
    "          'MDCV-2, \\n $N = 5 \\\\times 10^3$', 'MDCV-2, \\n $N = 10^4$', 'MDCV-2, \\n $N = 5 \\\\times 10^4$']\n",
    "#labels = ['lag \\n = 10','lag \\n = 20', 'lag \\n = 30', 'lag \\n = 40', 'lag \\n = 50', 'lag \\n = 60']\n",
    "#labels = ['lag = 30', 'lag = 40', 'lag = 50', 'lag = 60']"
   ]
  },
  {
   "cell_type": "code",
   "execution_count": null,
   "metadata": {},
   "outputs": [],
   "source": [
    "data = [res_new_0[:,0],res_new_0[:,2],res_new[:,2],res_new_1[:,2], res_new_2[:,2],res_new_3[:,2]] \n",
    "#data = [res_new_1[:,2], res_new_2[:,2],res_new_3[:,2],res_new_4[:,2]] \n",
    "boxplot_ind(data, title, labels,path=\"./2d_nonsymmetric_potential_quadratic_regression_comparison.pdf\")"
   ]
  },
  {
   "cell_type": "code",
   "execution_count": null,
   "metadata": {},
   "outputs": [],
   "source": [
    "data = [res_new_0[:,0],res_new_0[:,2],res_new[:,2],res_new_1[:,2], res_new_2[:,2],res_new_3[:,2],res_new_4[:,2]] \n",
    "#data = [res_new_1[:,2], res_new_2[:,2],res_new_3[:,2],res_new_4[:,2]] \n",
    "boxplot_ind(data, title, labels,path=\"./2d_nonsymmetric_potential_lags_comparison.pdf\")"
   ]
  },
  {
   "cell_type": "code",
   "execution_count": null,
   "metadata": {},
   "outputs": [],
   "source": []
  }
 ],
 "metadata": {
  "kernelspec": {
   "display_name": "Python 3",
   "language": "python",
   "name": "python3"
  },
  "language_info": {
   "codemirror_mode": {
    "name": "ipython",
    "version": 3
   },
   "file_extension": ".py",
   "mimetype": "text/x-python",
   "name": "python",
   "nbconvert_exporter": "python",
   "pygments_lexer": "ipython3",
   "version": "3.6.7"
  }
 },
 "nbformat": 4,
 "nbformat_minor": 2
}
