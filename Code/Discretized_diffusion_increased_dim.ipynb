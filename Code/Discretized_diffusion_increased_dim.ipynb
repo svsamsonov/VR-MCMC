{
 "cells": [
  {
   "cell_type": "code",
   "execution_count": 2,
   "metadata": {},
   "outputs": [],
   "source": [
    "import numpy as np\n",
    "import numpy.polynomial as P\n",
    "import scipy as sp\n",
    "from matplotlib import pyplot as plt\n",
    "from tqdm import tqdm\n",
    "#from sklearn.preprocessing import PolynomialFeatures\n",
    "from multiprocessing import Pool\n",
    "import multiprocessing\n",
    "import ZVnbrosse\n",
    "from sklearn.preprocessing import PolynomialFeatures\n",
    "from potentials import GaussPotential,GaussMixture,GausMixtureIdent,GausMixtureSame,BananaShape\n",
    "from samplers import MCMC_sampler,Generate_train,ULA_light\n",
    "from baselines import set_function,construct_ESVM_kernel,GenerateSigma\n",
    "from martingale import approx_q\n",
    "from optimize import Run_eval_test,optimize_parallel_new \n",
    "from utils import * \n",
    "import copy"
   ]
  },
  {
   "cell_type": "code",
   "execution_count": 3,
   "metadata": {},
   "outputs": [
    {
     "name": "stdout",
     "output_type": "stream",
     "text": [
      "[1 2 3 4 5 6 7 8 9 0]\n"
     ]
    }
   ],
   "source": [
    "a = np.arange(10)\n",
    "b = np.roll(a,2)\n",
    "c = np.roll(a,-1)\n",
    "print(c)"
   ]
  },
  {
   "cell_type": "code",
   "execution_count": 4,
   "metadata": {},
   "outputs": [
    {
     "name": "stdout",
     "output_type": "stream",
     "text": [
      "(2, 2)\n",
      "(1, 2)\n",
      "(3, 2)\n"
     ]
    }
   ],
   "source": [
    "a = np.array([[1, 2], [3, 4]])\n",
    "print(a.shape)\n",
    "b = np.array([[5, 6]])\n",
    "print(b.shape)\n",
    "c = np.concatenate((a,b),axis=0)\n",
    "print(c.shape)"
   ]
  },
  {
   "cell_type": "code",
   "execution_count": 5,
   "metadata": {},
   "outputs": [
    {
     "name": "stdout",
     "output_type": "stream",
     "text": [
      "(2, 3)\n",
      "[[1. 1. 2. 3. 1. 2. 3. 4. 6. 9.]\n",
      " [1. 1. 2. 3. 1. 2. 3. 4. 6. 9.]]\n"
     ]
    }
   ],
   "source": [
    "x = np.array([[1,2,3],[1,2,3]])\n",
    "print(x.shape)\n",
    "poly = PolynomialFeatures(2)\n",
    "features = poly.fit_transform(x)\n",
    "print(features)\n"
   ]
  },
  {
   "cell_type": "code",
   "execution_count": 6,
   "metadata": {},
   "outputs": [],
   "source": [
    "def H(k, x):\n",
    "    if k==0:\n",
    "        return 1.0\n",
    "    if k ==1:\n",
    "        return x\n",
    "    if k==2:\n",
    "        return (x**2 - 1)/np.sqrt(2)\n",
    "    c = np.zeros(k+1,dtype = float)\n",
    "    c[k] = 1.0\n",
    "    h = P.hermite_e.hermeval(x,c) / np.sqrt(sp.special.factorial(k)) \n",
    "    return h\n",
    "\n",
    "def compute_H(k,x,d):\n",
    "    cur_prod = 1.0\n",
    "    for i in range(d):\n",
    "        cur_prod = cur_prod*H(k[i],x[:,i])\n",
    "    return cur_prod"
   ]
  },
  {
   "cell_type": "code",
   "execution_count": 7,
   "metadata": {},
   "outputs": [
    {
     "name": "stdout",
     "output_type": "stream",
     "text": [
      "[array([1, 0, 0]), array([0, 1, 0]), array([0, 0, 1]), array([2, 0, 0]), array([1, 1, 0]), array([1, 0, 1]), array([0, 2, 0]), array([0, 1, 1]), array([0, 0, 2])]\n"
     ]
    }
   ],
   "source": [
    "def generate_lexicographical_2nd_order(d):\n",
    "    \"\"\"\n",
    "    function to generate lexigoraphical polynomials of 1st and 2nd order\n",
    "    \"\"\"\n",
    "    cur_list = []\n",
    "    for i in range(d):\n",
    "        cur_permute = np.zeros(d,dtype = int)\n",
    "        cur_permute[i] = 1\n",
    "        cur_list.append(np.copy(cur_permute))\n",
    "        cur_permute[i] = 0\n",
    "    for i in range(d):\n",
    "        cur_permute = np.zeros(d,dtype = int)\n",
    "        cur_permute[i] = 2\n",
    "        cur_list.append(np.copy(cur_permute))\n",
    "        cur_permute[i] = 1\n",
    "        for j in range(i+1,d):\n",
    "            cur_permute[j] = 1\n",
    "            cur_list.append(np.copy(cur_permute))\n",
    "            cur_permute[j] = 0\n",
    "    return cur_list\n",
    "\n",
    "a = generate_lexicographical_2nd_order(3)\n",
    "print(a)"
   ]
  },
  {
   "cell_type": "code",
   "execution_count": 8,
   "metadata": {},
   "outputs": [
    {
     "name": "stdout",
     "output_type": "stream",
     "text": [
      "(1, 5)\n"
     ]
    }
   ],
   "source": [
    "c = np.array([1,2,3,4,5])\n",
    "c = c.reshape((1,5))\n",
    "print(c.shape)"
   ]
  },
  {
   "cell_type": "code",
   "execution_count": 9,
   "metadata": {},
   "outputs": [],
   "source": [
    "def test_traj(coefs_poly_regr,gamma,r_seed,lag,d,N_test,x0):\n",
    "    \"\"\"\n",
    "    function to perform 1-dimensional martingale decomposition\n",
    "    \"\"\"\n",
    "    X_test,Noise = generate_traj(x0,N_test,gamma,r_seed,d)\n",
    "    test_stat_vanilla = np.zeros(N_test,dtype = float)\n",
    "    test_stat_vr = np.zeros_like(test_stat_vanilla)\n",
    "    #compute number of basis polynomials\n",
    "    basis_funcs = generate_lexicographical_2nd_order(d)\n",
    "    num_basis_funcs = len(basis_funcs)\n",
    "    #compute polynomials of noise variables Z_l\n",
    "    poly_vals = np.zeros((num_basis_funcs,N_test), dtype = float)\n",
    "    for k in range(len(basis_funcs)):\n",
    "        poly_vals[k,:] = compute_H(basis_funcs[k],Noise,d)\n",
    "    #initialize function\n",
    "    f_vals_vanilla = np.sum(X_test**2,axis=1)\n",
    "    #array to store control variates values\n",
    "    cvfs = np.zeros_like(f_vals_vanilla)\n",
    "    #compute coeffitients bar_a\n",
    "    bar_a_1st_order = np.zeros((lag,d,N_test),dtype=float)\n",
    "    bar_a_2nd_order = np.zeros((lag,d,d,N_test),dtype=float)\n",
    "    #preprocessing \n",
    "    X_test = np.concatenate((x0.reshape(1,d),X_test),axis=0)\n",
    "    coefs_poly_1st_order = np.zeros((lag,d),dtype=float)\n",
    "    coefs_poly_1st_order = coefs_poly_regr[:,1:d+1]\n",
    "    coefs_poly_2nd_order = np.zeros((lag,d,d),dtype=float)\n",
    "    counter = 0\n",
    "    for i in range(d):\n",
    "        for j in range(i,d):\n",
    "            coefs_poly_2nd_order[:,i,j] = coefs_poly_regr[:,d+1+counter]\n",
    "            counter += 1\n",
    "    for i in range(lag):\n",
    "        #first-order coefficients\n",
    "        for j in range(d):\n",
    "            bar_a_1st_order[i,j,:] = coefs_poly_1st_order[i,j]*np.sqrt(gamma)*sigma(X_test[:-1])[:,j]\n",
    "            #sum more coefficients\n",
    "            for k in range(j):\n",
    "                bar_a_1st_order[i,j,:] += coefs_poly_2nd_order[i,k,j]*np.sqrt(gamma)*sigma(X_test[:-1])[:,j]*((X_test[:-1]+gamma*b(X_test[:-1]))[:,k])\n",
    "            #diagonal part\n",
    "            bar_a_1st_order[i,j] += 2*coefs_poly_2nd_order[i,j,j]*np.sqrt(gamma)*sigma(X_test[:-1])[:,j]*((X_test[:-1]+gamma*b(X_test[:-1]))[:,j])\n",
    "            #sum more coefficients\n",
    "            for k in range(j+1,d):\n",
    "                bar_a_1st_order[i,j] += coefs_poly_2nd_order[i,j,k]*np.sqrt(gamma)*sigma(X_test[:-1])[:,j]*((X_test[:-1]+gamma*b(X_test[:-1]))[:,k])\n",
    "            #second-order coefficients, to be filled\n",
    "            bar_a_2nd_order[i,j,j,:] = coefs_poly_2nd_order[i,j,j]*np.sqrt(2)*gamma*sigma(X_test[:-1])[:,j]\n",
    "            for k in range(j+1,d):\n",
    "                bar_a_2nd_order[i,j,k,:] = coefs_poly_2nd_order[i,j,k]*gamma*sigma(X_test[:-1])[:,j]*sigma(X_test[:-1])[:,k]\n",
    "        \"\"\"\n",
    "        bar_a_0_1[i,1:] = coefs_poly_regr[i,1]*cov[0,1]*np.sqrt(gamma)*sigma(X_test[:-1])[:,0]+\\\n",
    "                        coefs_poly_regr[i,2]*cov[1,1]*np.sqrt(gamma)*sigma(X_test[:-1])[:,1]+\\\n",
    "                        2*coefs_poly_regr[i,3]*cov[0,1]*np.sqrt(gamma)*sigma(X_test[:-1])[:,0]*(X_test[:-1]+gamma*b(X_test[:-1]))[:,0]+\\\n",
    "                        coefs_poly_regr[i,4]*(((X_test[:-1]+gamma*b(X_test[:-1]))[:,0])*sigma(X_test[:-1])[:,1]*np.sqrt(gamma)*cov[1,1] +\\\n",
    "                                             ((X_test[:-1]+gamma*b(X_test[:-1]))[:,1])*sigma(X_test[:-1])[:,0]*np.sqrt(gamma)*cov[0,1])+\\\n",
    "                        2*coefs_poly_regr[i,5]*cov[1,1]*np.sqrt(gamma)*sigma(X_test[:-1])[:,1]*(X_test[:-1]+gamma*b(X_test[:-1]))[:,1]\n",
    "        bar_a_0_1[i,0] = coefs_poly_regr[i,1]*cov[0,1]*np.sqrt(gamma)*sigma(x0)[0]+\\\n",
    "                        coefs_poly_regr[i,2]*cov[1,1]*np.sqrt(gamma)*sigma(x0)[1]+\\\n",
    "                        2*coefs_poly_regr[i,3]*cov[0,1]*np.sqrt(gamma)*sigma(x0)[0]*(x0+gamma*b(x0))[0]+\\\n",
    "                        coefs_poly_regr[i,4]*(((x0+gamma*b(x0))[0])*sigma(x0)[1]*np.sqrt(gamma)*cov[1,1] +\\\n",
    "                                             ((x0+gamma*b(x0))[1])*sigma(x0)[0]*np.sqrt(gamma)*cov[0,1])+\\\n",
    "                        2*coefs_poly_regr[i,5]*cov[1,1]*np.sqrt(gamma)*sigma(x0)[1]*(x0+gamma*b(x0))[1]\n",
    "        #coefficients with H_1_0\n",
    "        bar_a_1_0[i,1:] = coefs_poly_regr[i,1]*cov[0,0]*np.sqrt(gamma)*sigma(X_test[:-1])[:,0]+\\\n",
    "                        coefs_poly_regr[i,2]*cov[0,1]*np.sqrt(gamma)*sigma(X_test[:-1])[:,1]+\\\n",
    "                        2*coefs_poly_regr[i,3]*cov[0,0]*np.sqrt(gamma)*sigma(X_test[:-1])[:,0]*(X_test[:-1]+gamma*b(X_test[:-1]))[:,0]+\\\n",
    "                        coefs_poly_regr[i,4]*(((X_test[:-1]+gamma*b(X_test[:-1]))[:,0])*sigma(X_test[:-1])[:,1]*np.sqrt(gamma)*cov[0,1] +\\\n",
    "                                             ((X_test[:-1]+gamma*b(X_test[:-1]))[:,1])*sigma(X_test[:-1])[:,0]*np.sqrt(gamma)*cov[0,0])+\\\n",
    "                        2*coefs_poly_regr[i,5]*cov[0,1]*np.sqrt(gamma)*sigma(X_test[:-1])[:,1]*(X_test[:-1]+gamma*b(X_test[:-1]))[:,1]\n",
    "        bar_a_1_0[i,0] = coefs_poly_regr[i,1]*cov[0,0]*np.sqrt(gamma)*sigma(x0)[0]+\\\n",
    "                        coefs_poly_regr[i,2]*cov[0,1]*np.sqrt(gamma)*sigma(x0)[1]+\\\n",
    "                        2*coefs_poly_regr[i,3]*cov[0,0]*np.sqrt(gamma)*sigma(x0)[0]*(x0+gamma*b(x0))[0]+\\\n",
    "                        coefs_poly_regr[i,4]*(((x0+gamma*b(x0))[0])*sigma(x0)[1]*np.sqrt(gamma)*cov[0,1] +\\\n",
    "                                             ((x0+gamma*b(x0))[1])*sigma(x0)[0]*np.sqrt(gamma)*cov[0,0]) +\\\n",
    "                        2*coefs_poly_regr[i,5]*cov[0,1]*np.sqrt(gamma)*sigma(x0)[1]*(x0+gamma*b(x0))[1]\n",
    "        #second-order coefficients\n",
    "        bar_a_1_1[i,1:] = 2*coefs_poly_regr[i,3]*gamma*(sigma(X_test[:-1])[:,0])**2*cov[0,0]*cov[0,1]+\\\n",
    "                        coefs_poly_regr[i,4]*gamma*(sigma(X_test[:-1])[:,0])*(sigma(X_test[:-1])[:,1])*(cov[0,1]**2 + cov[0,0]*cov[1,1])+\\\n",
    "                        2*coefs_poly_regr[i,5]*gamma*(sigma(X_test[:-1])[:,1])**2*cov[1,1]*cov[0,1]\n",
    "        bar_a_1_1[i,0] = 2*coefs_poly_regr[i,3]*gamma*(sigma(x0)[0])**2*cov[0,0]*cov[0,1]+\\\n",
    "                        coefs_poly_regr[i,4]*gamma*(sigma(x0)[0])*(sigma(x0)[1])*(cov[0,1]**2 + cov[0,0]*cov[1,1])+\\\n",
    "                        2*coefs_poly_regr[i,5]*gamma*(sigma(x0)[1])**2*cov[1,1]*cov[0,1]\n",
    "        #coefficients with H_2_0\n",
    "        bar_a_2_0[i,1:] = np.sqrt(2)*coefs_poly_regr[i,3]*gamma\n",
    "        #coefficients with H_0_2\n",
    "        bar_a_0_2[i,1:] = np.sqrt(2)*coefs_poly_regr[i,5]*gamma\n",
    "        \"\"\"\n",
    "    #bar_a_1_0 = bar_a_1_0*poly_vals[0,:]\n",
    "    #bar_a_0_1 = bar_a_0_1*poly_vals[1,:]\n",
    "    #bar_a_1_1 = bar_a_1_1*poly_vals[2,:]\n",
    "    #bar_a_2_0 = bar_a_2_0*poly_vals[3,:]\n",
    "    #bar_a_0_2 = bar_a_0_2*poly_vals[4,:]\n",
    "    counter = 0\n",
    "    for i in range(d):\n",
    "        bar_a_1st_order[:,i,:] = poly_vals[i,:]*bar_a_1st_order[:,i,:]\n",
    "        bar_a_2nd_order[:,i,i,:] = poly_vals[d + d*(d+1)//2 - (d-i)*(d-i+1)//2,:]*bar_a_2nd_order[:,i,i,:]\n",
    "        counter += 1\n",
    "        for j in range(i+1,d):\n",
    "            bar_a_2nd_order[:,i,j,:] = poly_vals[d+counter]*bar_a_2nd_order[:,i,j,:]\n",
    "            counter += 1\n",
    "    #compute martingale sums\n",
    "    M_n_1st = 0.0\n",
    "    M_n_2nd = 0.0\n",
    "    for l in range(N_test):\n",
    "        for r in range(min(N_test-l,lag)):\n",
    "            M_n_1st += np.sum(bar_a_1st_order[r,:,l])\n",
    "            M_n_2nd += np.sum(bar_a_2nd_order[r,:,:,l])\n",
    "    return np.mean(f_vals_vanilla), np.mean(f_vals_vanilla)-(M_n_1st)/N_test, np.mean(f_vals_vanilla)-(M_n_1st+M_n_2nd)/N_test\n",
    "#\n",
    "#\n",
    "#"
   ]
  },
  {
   "cell_type": "code",
   "execution_count": 10,
   "metadata": {},
   "outputs": [],
   "source": [
    "def approx_q(X_train,Y_train,N_traj_train,lag,max_deg):\n",
    "    \"\"\"\n",
    "    Function to regress q functions on a polynomial basis;\n",
    "    Args:\n",
    "        X_train - train tralectory;\n",
    "        Y_train - function values;\n",
    "        N_traj_train - number of training trajectories;\n",
    "        lag - truncation point for coefficients, those for |p-l| > lag are set to 0;\n",
    "        max_deg - maximum degree of polynomial in regression\n",
    "    \"\"\"\n",
    "    dim = X_train[0,:].shape[0]\n",
    "    #print(\"dimension = \",dim)\n",
    "    coefs_poly = np.array([])\n",
    "    for i in range(lag):\n",
    "        x_all = np.array([])\n",
    "        y_all = np.array([])\n",
    "        for j in range(N_traj_train):\n",
    "            y = Y_train[j,i:,0]\n",
    "            if i == 0:\n",
    "                x = X_train[j,:]\n",
    "            else:\n",
    "                x = X_train[j,:-i]\n",
    "            #concatenate results\n",
    "            if x_all.size == 0:\n",
    "                x_all = x\n",
    "            else:\n",
    "                x_all = np.concatenate((x_all,x),axis = 0)\n",
    "            y_all = np.concatenate([y_all,y])\n",
    "        #should use polyfeatures here\n",
    "        #print(\"variance: \",np.var(y_all))\n",
    "        #print(y_all[:50])\n",
    "        poly = PolynomialFeatures(max_deg)\n",
    "        X_features = poly.fit_transform(x_all)\n",
    "        #print(X_features.shape)\n",
    "        lstsq_results = np.linalg.lstsq(X_features,y_all,rcond = None)\n",
    "        coefs = copy.deepcopy(lstsq_results[0])\n",
    "        coefs.resize((1,X_features.shape[1]))           \n",
    "        if coefs_poly.size == 0:\n",
    "            coefs_poly = copy.deepcopy(coefs)\n",
    "        else:\n",
    "            coefs_poly = np.concatenate((coefs_poly,coefs),axis=0)\n",
    "    return coefs_poly"
   ]
  },
  {
   "cell_type": "code",
   "execution_count": 11,
   "metadata": {},
   "outputs": [],
   "source": [
    "a = 0.5\n",
    "sig = 1.0\n",
    "\n",
    "def b(X_t):\n",
    "    \"\"\"\n",
    "    b function in the diffusion\n",
    "    \"\"\"\n",
    "    #return a*(c-X_t)\n",
    "    if len(X_t.shape) == 1:\n",
    "        sin_part = np.sin(X_t)\n",
    "        return -(X_t + a*np.roll(sin_part,-1))\n",
    "    else:\n",
    "        sin_part = np.sin(X_t)\n",
    "        return -(X_t + a*np.roll(sin_part,-1,axis=1))\n",
    "\n",
    "def sigma(X_t):\n",
    "    \"\"\"\n",
    "    b function in the diffusion\n",
    "    \"\"\"\n",
    "    return sig*np.ones_like(X_t)\n",
    "\n",
    "def sample_discretized_diffusion(X_t,gamma_t,d):\n",
    "    \"\"\"\n",
    "    args:   X_t - current value, \n",
    "            gamma_t - step size;\n",
    "            d - dimension;\n",
    "            cov - covariance matrix\n",
    "    returns:  (X_{t+1},xi_{t+1}) - value at the next time moment and the corresponding noise variable\n",
    "    \"\"\"\n",
    "    xi = np.random.randn(d)\n",
    "    return X_t + gamma_t*b(X_t) + np.sqrt(gamma_t)*sigma(X_t)*xi,xi\n",
    "\n",
    "#currently we use this function without the burn-in\n",
    "def generate_traj(x0,n,gamma,r_seed,d):\n",
    "    \"\"\"\n",
    "    args:\n",
    "        x0 - starting point;\n",
    "        n - number of steps;\n",
    "        gamma - step size (assumed to be fixed for now);\n",
    "    returns:\n",
    "        x_all,noise_all - np.arrays of shape (n,)  \n",
    "    \"\"\"\n",
    "    x_all = np.zeros((n,d),dtype = float)\n",
    "    noise_all = np.zeros((n,d),dtype = float)\n",
    "    np.random.seed(r_seed)\n",
    "    x_all[0],noise_all[0] = sample_discretized_diffusion(x0,gamma,d)\n",
    "    for i in range(1,n):\n",
    "        x_all[i],noise_all[i] = sample_discretized_diffusion(x_all[i-1],gamma,d)\n",
    "    return x_all,noise_all\n",
    "\n",
    "def run_monte_carlo(x,f_type):\n",
    "    if f_type == \"quadratic\":\n",
    "        f_vals = x**2\n",
    "    else:\n",
    "        raise \"not implemented error\"\n",
    "    return np.mean(f_vals,axis=1)"
   ]
  },
  {
   "cell_type": "code",
   "execution_count": 12,
   "metadata": {},
   "outputs": [],
   "source": [
    "n = 1*10**4 #sample size\n",
    "gamma = 1e-1 # Step size\n",
    "n_traj = 1\n",
    "d = 5\n",
    "n_traj_test = 100 # Number of independent MCMC trajectories for test\n",
    "f_type = \"quadratic\"\n",
    "K_max = 2 #max degree of Hermite polynomial\n",
    "S_max = 2 #max degree of polynomial during regression stage\n",
    "lag = 20 #maximal lag order\n",
    "N_test = 5*10**3"
   ]
  },
  {
   "cell_type": "markdown",
   "metadata": {},
   "source": [
    "Sample discretized diffusion"
   ]
  },
  {
   "cell_type": "code",
   "execution_count": 13,
   "metadata": {},
   "outputs": [],
   "source": [
    "def generate_observations(x0,n,gamma,r_seed,d):\n",
    "    X_train, noise_train = generate_traj(x0,n,gamma,r_seed,d)\n",
    "    #set target function\n",
    "    Y_train = np.sum(X_train**2,axis=1)\n",
    "    X_train = X_train.reshape((1,-1,d))\n",
    "    Y_train = Y_train.reshape((1,-1,1))\n",
    "    return X_train, noise_train, Y_train"
   ]
  },
  {
   "cell_type": "code",
   "execution_count": 14,
   "metadata": {},
   "outputs": [],
   "source": [
    "x0 = np.ones(d,dtype = float)\n",
    "r_seed = 1812\n",
    "X_train, noise_train, Y_train = generate_observations(x0,n,gamma,r_seed,d)"
   ]
  },
  {
   "cell_type": "code",
   "execution_count": 16,
   "metadata": {},
   "outputs": [
    {
     "name": "stdout",
     "output_type": "stream",
     "text": [
      "(1, 10000, 1)\n"
     ]
    }
   ],
   "source": [
    "print(Y_train.shape)"
   ]
  },
  {
   "cell_type": "markdown",
   "metadata": {},
   "source": [
    "### Bernoulli:: Optimize coefficients by solving regression with polynomial features"
   ]
  },
  {
   "cell_type": "code",
   "execution_count": 65,
   "metadata": {},
   "outputs": [
    {
     "name": "stdout",
     "output_type": "stream",
     "text": [
      "[[ 1.50961878e-15 -1.64926661e-15  8.06983142e-16 -1.37603828e-16\n",
      "   1.54983357e-17 -1.87636442e-16  1.00000000e+00 -3.95038519e-16\n",
      "  -5.45054472e-16 -2.11881900e-16 -2.78735882e-16  1.00000000e+00\n",
      "  -1.01421391e-16 -4.10526258e-16 -9.41031295e-17  1.00000000e+00\n",
      "   4.41501551e-16  9.57979875e-18  1.00000000e+00  2.24065937e-16\n",
      "   1.00000000e+00]\n",
      " [ 5.03481055e-01 -8.60679581e-03 -3.50102599e-02  1.54711975e-02\n",
      "  -2.09689045e-03 -3.83763448e-03  7.95829147e-01 -1.00031084e-01\n",
      "   5.16469094e-04  8.80237423e-03 -4.77653803e-02  8.15256265e-01\n",
      "  -2.89840925e-02 -1.32658659e-02 -3.14988785e-02  8.51262135e-01\n",
      "  -6.50516298e-02  4.53291049e-02  8.10689975e-01 -2.85724803e-02\n",
      "   8.15970385e-01]\n",
      " [ 9.23877717e-01 -1.49589022e-02 -4.83616166e-02  4.40115472e-02\n",
      "   1.94082228e-03 -9.93068383e-03  6.36545384e-01 -1.81468473e-01\n",
      "   1.05904424e-02 -1.38405797e-03 -7.17393233e-02  6.62602944e-01\n",
      "  -2.99657318e-02 -4.01700069e-02 -7.47972225e-02  7.18275182e-01\n",
      "  -1.15423018e-01  6.78700499e-02  6.62337629e-01 -6.57421539e-02\n",
      "   6.54980057e-01]\n",
      " [ 1.25974654e+00 -2.85297829e-02 -6.39060241e-02  6.32367018e-02\n",
      "  -3.80692290e-03 -1.97048806e-02  5.24387296e-01 -2.10107219e-01\n",
      "   8.40369220e-03 -1.93753362e-03 -7.09399330e-02  5.49110476e-01\n",
      "  -4.08934253e-02 -6.34678642e-02 -9.10325677e-02  5.99942755e-01\n",
      "  -1.59746582e-01  7.76417005e-02  5.20202080e-01 -1.12429459e-01\n",
      "   5.42526481e-01]\n",
      " [ 1.52707108e+00 -3.46973852e-02 -7.68041150e-02  9.16342880e-02\n",
      "  -9.55914903e-03 -1.38558289e-02  4.44939443e-01 -2.06514369e-01\n",
      "   7.58001534e-03  1.65833393e-02 -5.54521876e-02  4.58916458e-01\n",
      "  -3.62878266e-02 -6.55705223e-02 -8.97028674e-02  4.86756191e-01\n",
      "  -1.83931129e-01  1.06096199e-01  4.12139248e-01 -1.39574592e-01\n",
      "   4.66715346e-01]\n",
      " [ 1.76213450e+00 -3.87674899e-02 -7.93180997e-02  1.13211234e-01\n",
      "  -1.51000079e-02 -8.60282334e-03  3.70584794e-01 -2.00457430e-01\n",
      "   1.04644679e-02  1.25627829e-02 -3.92822227e-02  3.72813294e-01\n",
      "  -3.85759979e-02 -6.79699138e-02 -7.02884180e-02  3.89504487e-01\n",
      "  -1.89438959e-01  1.46133313e-01  3.29543780e-01 -1.48279566e-01\n",
      "   4.04654154e-01]\n",
      " [ 1.97272097e+00 -4.46977392e-02 -7.86892765e-02  1.31083008e-01\n",
      "  -2.73079339e-02 -2.16917096e-02  3.06070636e-01 -1.96209347e-01\n",
      "   1.41312549e-02 -1.05971778e-02 -1.44823591e-02  2.95723678e-01\n",
      "  -3.48124826e-02 -7.31606556e-02 -3.99307060e-02  3.01312750e-01\n",
      "  -2.14319662e-01  1.59492514e-01  2.54529070e-01 -1.43883530e-01\n",
      "   3.50086712e-01]\n",
      " [ 2.14836675e+00 -3.37047242e-02 -6.91708675e-02  1.52153114e-01\n",
      "  -2.11679035e-02 -2.02717552e-02  2.47351726e-01 -1.88281293e-01\n",
      "   2.14349096e-02 -4.92169512e-02 -1.36230372e-02  2.40806407e-01\n",
      "  -3.72126960e-02 -8.48311841e-02 -9.18132676e-03  2.35354959e-01\n",
      "  -2.18427088e-01  1.68063261e-01  1.96604720e-01 -1.41839901e-01\n",
      "   2.89362548e-01]\n",
      " [ 2.29181142e+00 -3.65340505e-02 -6.57475675e-02  1.67974876e-01\n",
      "  -1.89025691e-02 -1.47501604e-02  1.90192750e-01 -1.93617267e-01\n",
      "   2.26326262e-02 -7.38994318e-02 -2.11799669e-02  2.06314490e-01\n",
      "  -2.54008860e-02 -7.87256247e-02  8.52700909e-03  1.90524846e-01\n",
      "  -1.96505869e-01  1.79851674e-01  1.44502258e-01 -1.51296603e-01\n",
      "   2.36527425e-01]\n",
      " [ 2.40467728e+00 -3.65109453e-02 -5.45137463e-02  1.78517124e-01\n",
      "  -2.25372899e-02 -9.78903458e-03  1.38040812e-01 -1.69117278e-01\n",
      "   3.27984352e-02 -9.16994079e-02 -3.80437391e-02  1.96877775e-01\n",
      "  -4.28244552e-04 -7.21718771e-02  1.24733661e-02  1.53646453e-01\n",
      "  -1.82263094e-01  1.77680053e-01  1.12951992e-01 -1.57128283e-01\n",
      "   1.84037710e-01]\n",
      " [ 2.48986831e+00 -3.51973390e-02 -4.44187616e-02  1.81358044e-01\n",
      "  -1.85596488e-02  2.97647336e-03  1.01276160e-01 -1.40341031e-01\n",
      "   5.27664991e-02 -9.44643028e-02 -4.33272524e-02  1.81502606e-01\n",
      "   4.38656007e-03 -4.89423970e-02  1.86533560e-02  1.42364934e-01\n",
      "  -1.51084893e-01  1.67207400e-01  8.14372122e-02 -1.57390637e-01\n",
      "   1.48153946e-01]\n",
      " [ 2.55950904e+00 -3.52065289e-02 -4.43226232e-02  1.74288353e-01\n",
      "  -2.16790885e-02  6.04588276e-03  7.88769298e-02 -1.28939039e-01\n",
      "   5.05861683e-02 -8.74216113e-02 -5.63227959e-02  1.73482055e-01\n",
      "  -2.01021070e-03 -2.05133921e-02  9.66724892e-03  1.23819176e-01\n",
      "  -1.35625576e-01  1.53373244e-01  5.61076921e-02 -1.60378334e-01\n",
      "   1.06929224e-01]\n",
      " [ 2.63495384e+00 -3.82243294e-02 -4.53723437e-02  1.61775446e-01\n",
      "  -2.11531058e-02  9.79316612e-03  4.33208798e-02 -1.26211021e-01\n",
      "   3.25467044e-02 -9.30332699e-02 -5.38009599e-02  1.60870877e-01\n",
      "   6.15198232e-03 -3.52702415e-03  2.08436122e-02  1.04938913e-01\n",
      "  -1.21748302e-01  1.29839546e-01  4.88336570e-02 -1.61378684e-01\n",
      "   6.01647082e-02]\n",
      " [ 2.69414329e+00 -3.73609375e-02 -4.25165426e-02  1.58888955e-01\n",
      "  -1.42072839e-02  2.08285632e-02  2.22499167e-02 -1.05829633e-01\n",
      "   9.00238603e-03 -9.45243338e-02 -5.22808076e-02  1.47416645e-01\n",
      "   9.36919519e-03  1.94845850e-02  3.07540112e-02  8.37531209e-02\n",
      "  -1.14811753e-01  1.12299473e-01  4.74220225e-02 -1.44507610e-01\n",
      "   2.67492317e-02]\n",
      " [ 2.73370251e+00 -3.52378712e-02 -4.48195393e-02  1.51085695e-01\n",
      "  -1.67718236e-02  2.32248459e-02  1.44900994e-02 -7.91450187e-02\n",
      "   1.79213593e-03 -8.34896305e-02 -4.94697823e-02  1.36155171e-01\n",
      "   1.96619319e-02  5.54909427e-02  3.70941030e-02  6.77801068e-02\n",
      "  -9.02467979e-02  9.89957029e-02  4.65820889e-02 -1.30694701e-01\n",
      "   9.02614150e-03]\n",
      " [ 2.77099107e+00 -3.20537262e-02 -3.89159876e-02  1.44610127e-01\n",
      "  -2.28925315e-02  2.49464020e-02  5.75968576e-03 -7.25011586e-02\n",
      "  -1.21964247e-02 -5.53767607e-02 -3.66326531e-02  1.16637956e-01\n",
      "   9.87670616e-03  9.13627857e-02  4.88349446e-02  5.09595317e-02\n",
      "  -7.10963560e-02  9.37692763e-02  4.04893755e-02 -1.32908394e-01\n",
      "   8.09440379e-04]\n",
      " [ 2.81033916e+00 -3.18397572e-02 -4.34015972e-02  1.23800284e-01\n",
      "  -3.49293332e-02  4.08384908e-02 -1.42933736e-02 -6.99378378e-02\n",
      "  -3.25099168e-02 -3.34147412e-02 -3.86573104e-02  1.02444828e-01\n",
      "  -7.39122419e-04  9.86507154e-02  4.96436872e-02  3.56790684e-02\n",
      "  -8.07534642e-02  6.94613674e-02  2.64753634e-02 -1.51767421e-01\n",
      "  -7.84602887e-03]\n",
      " [ 2.85509148e+00 -3.08256047e-02 -3.94601783e-02  1.15625960e-01\n",
      "  -3.19165331e-02  4.17229780e-02 -3.56181821e-02 -7.05788971e-02\n",
      "  -4.01756286e-02 -1.64287441e-02 -2.58744509e-02  8.80711269e-02\n",
      "  -6.33165861e-03  9.83811211e-02  4.81177648e-02  2.78389499e-02\n",
      "  -7.68771619e-02  4.88413081e-02  7.31764103e-03 -1.47920168e-01\n",
      "  -1.74283490e-02]\n",
      " [ 2.87983044e+00 -3.59452709e-02 -3.90957423e-02  9.92530435e-02\n",
      "  -2.88690978e-02  4.21535148e-02 -5.72079845e-02 -7.79693736e-02\n",
      "  -3.71683493e-02 -6.08790687e-03 -1.41953586e-02  8.43405915e-02\n",
      "   1.46508297e-02  8.55757682e-02  5.39530922e-02  2.53380516e-02\n",
      "  -6.91596624e-02  3.88026480e-02  4.73892882e-03 -1.16708029e-01\n",
      "  -1.56781570e-02]\n",
      " [ 2.89655676e+00 -4.23245731e-02 -3.44998690e-02  8.47155337e-02\n",
      "  -2.25483993e-02  3.61850925e-02 -6.87616167e-02 -6.91727987e-02\n",
      "  -7.06358050e-02 -1.32281881e-02 -2.12361848e-02  9.02337497e-02\n",
      "   1.43211382e-02  6.92056617e-02  2.67796240e-02  2.58081738e-02\n",
      "  -7.79981113e-02 -4.84048523e-03 -9.74445434e-03 -1.15523130e-01\n",
      "  -2.11132348e-02]]\n"
     ]
    }
   ],
   "source": [
    "#polynomial coefficients\n",
    "coefs_poly = approx_q(X_train,Y_train,n_traj,lag,S_max)\n",
    "#print(coefs_poly.shape)\n",
    "print(coefs_poly)\n",
    "regr_vals = np.zeros((lag,X_train.shape[1]),dtype=float)\n",
    "poly = PolynomialFeatures(S_max)\n",
    "features = poly.fit_transform(X_train[0])\n",
    "#features = np.zeros((X_train.shape[1],6),dtype=float)\n",
    "#features[:,0] = 1.0\n",
    "#features[:,1:3] = X_train[0,:,:]\n",
    "#features[:,3] = X_train[0,:,0]**2 \n",
    "#features[:,4] = X_train[0,:,0]*X_train[0,:,1]\n",
    "#features[:,5] = X_train[0,:,1]**2\n",
    "for i in range(len(regr_vals)):\n",
    "    regr_vals[i,:] = np.sum(coefs_poly[i,:]*features,axis=1)"
   ]
  },
  {
   "cell_type": "markdown",
   "metadata": {},
   "source": [
    "Test our regressors"
   ]
  },
  {
   "cell_type": "code",
   "execution_count": 66,
   "metadata": {},
   "outputs": [
    {
     "data": {
      "image/png": "[encoded data removed]",
      "text/plain": [
       "<Figure size 720x720 with 1 Axes>"
      ]
     },
     "metadata": {
      "needs_background": "light"
     },
     "output_type": "display_data"
    }
   ],
   "source": [
    "cur_lag = 9\n",
    "N_pts = 500\n",
    "plt.figure(figsize=(10, 10))\n",
    "plt.title(\"Testing regression model\",fontsize=20)\n",
    "plt.plot(Y_train[0,cur_lag:N_pts+cur_lag,0],color='r',label='true function')\n",
    "plt.plot(regr_vals[cur_lag,:N_pts],color='g',label = 'practical approximation')\n",
    "plt.legend(loc = 'upper left',fontsize = 16)\n",
    "plt.show()"
   ]
  },
  {
   "cell_type": "code",
   "execution_count": 67,
   "metadata": {},
   "outputs": [
    {
     "name": "stdout",
     "output_type": "stream",
     "text": [
      "(100, 3)\n"
     ]
    }
   ],
   "source": [
    "test_seed = 1453\n",
    "nbcores = multiprocessing.cpu_count()\n",
    "trav = Pool(nbcores)\n",
    "res = trav.starmap(test_traj, [(coefs_poly,gamma,test_seed+i,lag,d,N_test,x0) for i in range (n_traj_test)])\n",
    "#res = trav.starmap(test_traj, [(Cur_pot,coefs_poly,step,test_seed+i,lag,K_max,S_max,N_burn,N_test,d,f_type,inds_arr,params,x0,fixed_start) for i in range (n_traj_test)])\n",
    "trav.close()\n",
    "res = np.asarray(res)\n",
    "print(res.shape)"
   ]
  },
  {
   "cell_type": "markdown",
   "metadata": {},
   "source": [
    "### Comparison plots"
   ]
  },
  {
   "cell_type": "code",
   "execution_count": 68,
   "metadata": {},
   "outputs": [],
   "source": [
    "title = \"\"\n",
    "#labels = ['Vanilla\\n Euler scheme', 'Euler scheme \\nwith MDCV-1']\n",
    "labels = ['Vanilla\\n Euler scheme', 'Euler scheme \\nwith MDCV-1','Euler scheme \\nwith MDCV-2']"
   ]
  },
  {
   "cell_type": "code",
   "execution_count": 69,
   "metadata": {},
   "outputs": [
    {
     "data": {
      "image/png": "[encoded data removed]",
      "text/plain": [
       "<Figure size 500x400 with 1 Axes>"
      ]
     },
     "metadata": {
      "needs_background": "light"
     },
     "output_type": "display_data"
    }
   ],
   "source": [
    "data = [res[:,0], res[:,1], res[:,2]] \n",
    "boxplot_ind(data, title, labels,path=\"./2d_nonsymmetric_potential_quadratic_lag_20_d_5.pdf\")"
   ]
  },
  {
   "cell_type": "code",
   "execution_count": null,
   "metadata": {},
   "outputs": [],
   "source": [
    "def set_axis_style_boxplot(ax, labels, parts):\n",
    "    colors = (sns.color_palette(\"muted\")[0:7])\n",
    "    ax.grid(color='black', linestyle='-', linewidth=0.15, alpha=0.6)    \n",
    "    ax.set_xticks(np.arange(1, len(labels)+1))\n",
    "    ax.set_xticklabels(labels, fontsize=12)\n",
    "    ax.set_xlim(0.5, len(labels) + 0.5)\n",
    "    ax.spines[\"top\"].set_visible(False)\n",
    "    ax.spines[\"bottom\"].set_visible(False)\n",
    "    ax.spines[\"left\"].set_visible(False)\n",
    "    ax.spines[\"right\"].set_visible(False)\n",
    "    \n",
    "    for pc,i in zip(parts['boxes'],range(len(labels))):\n",
    "        pc.set(facecolor=colors[i],alpha=0.65)\n",
    "        pc.set_edgecolor('black')\n",
    "        pc.set_linewidth(0.65)\n",
    "    \n",
    "\n",
    "def boxplot_ind(data, title, labels, path):\n",
    "    meanprops = dict(linestyle='-', linewidth=1, color='black')\n",
    "    medianprops = dict(linestyle='', linewidth=0)\n",
    "\n",
    "    fig, ax1 = plt.subplots(nrows=1, ncols=1, figsize=(8, 4), sharey=True, frameon=False,dpi=100)      \n",
    "    fig.suptitle(title, fontsize=20)\n",
    "    parts = ax1.boxplot(data,  widths=0.6, patch_artist=True, meanline=True, showmeans=True, medianprops=medianprops,meanprops = meanprops, showfliers=False)\n",
    "    set_axis_style_boxplot(ax1, labels, parts)\n",
    "    fig.tight_layout()\n",
    "    fig.subplots_adjust(top=0.85)\n",
    "    plt.savefig(path)\n",
    "    plt.show() "
   ]
  },
  {
   "cell_type": "code",
   "execution_count": null,
   "metadata": {},
   "outputs": [],
   "source": [
    "title = \"\"\n",
    "#labels = ['Vanilla\\n Euler scheme', 'Euler scheme \\nwith MDCV-1']\n",
    "labels = ['Vanilla \\n Euler scheme','MDCV-2, \\n $N = 10^3$', 'MDCV-2, \\n $N = 2 \\\\times 10^3$',\\\n",
    "          'MDCV-2, \\n $N = 5 \\\\times 10^3$', 'MDCV-2, \\n $N = 10^4$', 'MDCV-2, \\n $N = 5 \\\\times 10^4$']\n",
    "#labels = ['lag \\n = 10','lag \\n = 20', 'lag \\n = 30', 'lag \\n = 40', 'lag \\n = 50', 'lag \\n = 60']\n",
    "#labels = ['lag = 30', 'lag = 40', 'lag = 50', 'lag = 60']"
   ]
  },
  {
   "cell_type": "code",
   "execution_count": null,
   "metadata": {},
   "outputs": [],
   "source": [
    "data = [res_new_0[:,0],res_new_0[:,2],res_new[:,2],res_new_1[:,2], res_new_2[:,2],res_new_3[:,2]] \n",
    "#data = [res_new_1[:,2], res_new_2[:,2],res_new_3[:,2],res_new_4[:,2]] \n",
    "boxplot_ind(data, title, labels,path=\"./2d_nonsymmetric_potential_quadratic_regression_comparison.pdf\")"
   ]
  },
  {
   "cell_type": "code",
   "execution_count": null,
   "metadata": {},
   "outputs": [],
   "source": [
    "data = [res_new_0[:,0],res_new_0[:,2],res_new[:,2],res_new_1[:,2], res_new_2[:,2],res_new_3[:,2],res_new_4[:,2]] \n",
    "#data = [res_new_1[:,2], res_new_2[:,2],res_new_3[:,2],res_new_4[:,2]] \n",
    "boxplot_ind(data, title, labels,path=\"./2d_nonsymmetric_potential_lags_comparison.pdf\")"
   ]
  },
  {
   "cell_type": "code",
   "execution_count": null,
   "metadata": {},
   "outputs": [],
   "source": []
  }
 ],
 "metadata": {
  "kernelspec": {
   "display_name": "Python 3",
   "language": "python",
   "name": "python3"
  },
  "language_info": {
   "codemirror_mode": {
    "name": "ipython",
    "version": 3
   },
   "file_extension": ".py",
   "mimetype": "text/x-python",
   "name": "python",
   "nbconvert_exporter": "python",
   "pygments_lexer": "ipython3",
   "version": "3.6.7"
  }
 },
 "nbformat": 4,
 "nbformat_minor": 2
}
