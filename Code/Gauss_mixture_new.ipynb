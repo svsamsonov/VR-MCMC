{
 "cells": [
  {
   "cell_type": "code",
   "execution_count": 162,
   "metadata": {},
   "outputs": [],
   "source": [
    "import numpy as np\n",
    "import numpy.polynomial as P\n",
    "import scipy as sp\n",
    "from matplotlib import pyplot as plt\n",
    "from tqdm import tqdm\n",
    "#from sklearn.preprocessing import PolynomialFeatures\n",
    "from multiprocessing import Pool\n",
    "import multiprocessing\n",
    "import ZVnbrosse\n",
    "from potentials import GaussPotential,GaussMixture,GausMixtureIdent,GausMixtureSame,BananaShape\n",
    "from samplers import MCMC_sampler,Generate_train,ULA_light\n",
    "from baselines import set_function,construct_ESVM_kernel,GenerateSigma\n",
    "from martingale import approx_q,approx_q_independent,test_traj\n",
    "from optimize import Run_eval_test,optimize_parallel_new \n",
    "from utils import *\n",
    "import copy"
   ]
  },
  {
   "cell_type": "code",
   "execution_count": 163,
   "metadata": {},
   "outputs": [],
   "source": [
    "lags = np.array([10,20,30,40,50,60,70,80,90,100])\n",
    "vr_rates_dep = []\n",
    "vr_rates_indep = []"
   ]
  },
  {
   "cell_type": "code",
   "execution_count": 164,
   "metadata": {},
   "outputs": [
    {
     "name": "stdout",
     "output_type": "stream",
     "text": [
      "10\n"
     ]
    }
   ],
   "source": [
    "N_burn = 0 # Burn in period\\n\",\n",
    "N_train = 5*10**4 # Number of samples on which we optimize\\n\"\n",
    "N_test = 1*10**3 # Number of samples\\n\",\n",
    "step = 0.1 # Step size\\n\",\n",
    "n_traj_train = 1\n",
    "n_traj_test = 24 # Number of independent MCMC trajectories for test\\n\",\n",
    "f_type = \"sum_squares\"\n",
    "K_max = 2 #max degree of Hermite polynomial\\n\",\n",
    "S_max = 2 #max degree of polynomial during regression stage\\n\",\n",
    "lag = 20 #maximal lag order\\n\",\n",
    "b_n_train = 20 #lag-window size\\n\",\n",
    "b_n_test = int(np.round(N_test**(0.33)))\n",
    "print(b_n_test)\n",
    "degree = 2"
   ]
  },
  {
   "cell_type": "code",
   "execution_count": 165,
   "metadata": {},
   "outputs": [
    {
     "name": "stdout",
     "output_type": "stream",
     "text": [
      "[1.94283271 0.1       ]\n"
     ]
    }
   ],
   "source": [
    "d = 2\n",
    "mu = 0.5*np.array([1.0,1.0],dtype = float)\n",
    "#mu_1 = np.array([-1.0])\n",
    "#mu_2 = np.array([1.0])\n",
    "#Sigma_1 = np.array([[1.0]])\n",
    "#Sigma_2 = np.array([[1.0]])\n",
    "Sigma = GenerateSigma(d,rand_seed = 777,eps = 0.1) #covariation matrix \n",
    "p = 0.5\n",
    "#Cur_pot = GausMixtureSame(Sigma,mu,p)\n",
    "#Cur_pot = GaussMixture(Sigma_1,Sigma_2,mu_1,mu_2,p)\n",
    "Cur_pot = GausMixtureIdent(mu,p)\n",
    "r_seed = 777\n",
    "x0 = np.array([0.0,0.0])\n",
    "fixed_start = True"
   ]
  },
  {
   "cell_type": "markdown",
   "metadata": {},
   "source": [
    "Choose sampler type (currently only ULA is maintained)"
   ]
  },
  {
   "cell_type": "markdown",
   "metadata": {},
   "source": [
    "### Generate data"
   ]
  },
  {
   "cell_type": "code",
   "execution_count": 166,
   "metadata": {},
   "outputs": [
    {
     "name": "stdout",
     "output_type": "stream",
     "text": [
      "(1, 50000, 2)\n"
     ]
    }
   ],
   "source": [
    "r_seed = 777\n",
    "traj = np.zeros((n_traj_train,N_train,d),dtype = float)\n",
    "for i in range(n_traj_train):\n",
    "    cur_traj = ULA_light(r_seed+i,Cur_pot,step, N_burn, N_train, d, return_noise = False, x0 = x0, fixed_start = fixed_start)\n",
    "    traj[i] = copy.deepcopy(cur_traj)\n",
    "print(traj.shape)"
   ]
  },
  {
   "cell_type": "code",
   "execution_count": 167,
   "metadata": {},
   "outputs": [
    {
     "name": "stdout",
     "output_type": "stream",
     "text": [
      "(1, 50000, 1)\n"
     ]
    }
   ],
   "source": [
    "inds_arr = np.array([1]) # Taking the second index (not intercept)\n",
    "params = None    \n",
    "f_vals = set_function(f_type,traj,inds_arr,params) \n",
    "#f_vals = traj[:,:,0]\n",
    "#f_vals = np.expand_dims(f_vals, axis=2)\n",
    "print(f_vals.shape)"
   ]
  },
  {
   "cell_type": "code",
   "execution_count": 168,
   "metadata": {},
   "outputs": [],
   "source": [
    "n_traj_train_adv = 1\n",
    "r_seed = 7771453\n",
    "traj_adv = np.zeros((n_traj_train_adv,lag,d),dtype = float)\n",
    "nbcores = multiprocessing.cpu_count()\n",
    "trav = Pool(nbcores)\n",
    "res = trav.starmap(ULA_light, [(r_seed+i,Cur_pot,step, 0, N_train, d, False,x0, False) for i in range (n_traj_train_adv)])\n",
    "trav.close()"
   ]
  },
  {
   "cell_type": "code",
   "execution_count": 169,
   "metadata": {},
   "outputs": [
    {
     "name": "stdout",
     "output_type": "stream",
     "text": [
      "(1, 50000, 2)\n",
      "(1, 50000, 1)\n"
     ]
    }
   ],
   "source": [
    "traj_adv = np.zeros((n_traj_train_adv,N_train,d),dtype = float)\n",
    "for i in range(n_traj_train_adv):\n",
    "    traj_adv[i] = copy.deepcopy(res[i])\n",
    "print(traj_adv.shape)\n",
    "inds_arr = np.array([0]) # Taking the second index (not intercept)\n",
    "params = None  \n",
    "f_vals_adv = set_function(f_type,traj_adv,inds_arr,params)\n",
    "print(f_vals_adv.shape)"
   ]
  },
  {
   "cell_type": "markdown",
   "metadata": {},
   "source": [
    "### Evaluate baselines (EVM and ESVM methods)"
   ]
  },
  {
   "cell_type": "code",
   "execution_count": 170,
   "metadata": {},
   "outputs": [
    {
     "name": "stdout",
     "output_type": "stream",
     "text": [
      "ncores =  4\n"
     ]
    }
   ],
   "source": [
    "sampler = {\"sampler\":\"ULA\",\"burn_type\":\"full\",\"main_type\":\"full\"} # Sampling method\n",
    "\n",
    "if sampler[\"sampler\"] == \"ULA\":\n",
    "    res = Generate_train(n_traj_train, sampler, Cur_pot, step, N_burn, N_train, d)\n",
    "    res = np.asarray(res)\n",
    "    traj_evm,traj_grad = res[:,0,:,:],res[:,1,:,:]\n",
    "else:\n",
    "    raise \"You should use ULA!\""
   ]
  },
  {
   "cell_type": "code",
   "execution_count": 171,
   "metadata": {},
   "outputs": [
    {
     "name": "stdout",
     "output_type": "stream",
     "text": [
      "(1, 50000, 2)\n"
     ]
    }
   ],
   "source": [
    "print(traj.shape)\n",
    "inds_arr = np.array([0])#Taking the second index\n",
    "params = None\n",
    "f_vals_evm = set_function(f_type,traj_evm,inds_arr,params)"
   ]
  },
  {
   "cell_type": "code",
   "execution_count": 172,
   "metadata": {},
   "outputs": [
    {
     "name": "stdout",
     "output_type": "stream",
     "text": [
      "[[[0.89626022]\n",
      "  [1.41324093]\n",
      "  [0.45134412]\n",
      "  ...\n",
      "  [4.16600399]\n",
      "  [3.29115839]\n",
      "  [2.13218913]]]\n",
      "[[[0.        ]\n",
      "  [0.10263196]\n",
      "  [0.13939688]\n",
      "  ...\n",
      "  [4.16600399]\n",
      "  [3.29115839]\n",
      "  [2.13218913]]]\n"
     ]
    }
   ],
   "source": [
    "print(f_vals_evm)\n",
    "print(f_vals)"
   ]
  },
  {
   "cell_type": "code",
   "execution_count": 173,
   "metadata": {},
   "outputs": [],
   "source": [
    "W_train_spec = construct_ESVM_kernel(N_train,b_n_train) #weight matrix for train\n",
    "W_test_spec = construct_ESVM_kernel(N_test,b_n_test) #weight matrix for test\n",
    "opt_structure_train = {\n",
    "    \"W\":W_train_spec,\n",
    "    \"n_restarts\": 3, # Number of restarts during optimization,\n",
    "    \"sigma\": 1.0, # Deviation of starting points\n",
    "    \"tol\": 1e-5, # Tolerance (for the norm of gradient)\n",
    "    \"alpha\": 0.0, # Ridge penalty for 2nd order control functionals\n",
    "    \"beta\": 10000.0 # smoothing parameter in the softmax\n",
    "}\n",
    "methods = [\"ESVM\",\"EVM\"]"
   ]
  },
  {
   "cell_type": "code",
   "execution_count": 174,
   "metadata": {},
   "outputs": [
    {
     "name": "stdout",
     "output_type": "stream",
     "text": [
      "2 degree optimization terminated succesfully\n",
      "Jacobian matrix at termination: \n",
      "[-4.96793435e-08 -4.80824547e-08  3.33774237e-09  7.18976326e-08\n",
      "  7.18976326e-08  4.48537207e-08]\n",
      "2 degree optimization terminated succesfully\n",
      "Jacobian matrix at termination: \n",
      "[ 6.92799213e-10 -3.01136703e-10 -3.86945250e-09 -2.20535687e-09\n",
      " -2.20535687e-09  3.44137186e-09]\n",
      "{'ESVM': array([[ 1.68482514e-03, -5.54101286e-04,  5.80917191e-01,\n",
      "         8.21993648e-02,  8.21993648e-02,  5.80862157e-01]]), 'EVM': array([[ 1.40107875e-04, -3.20073105e-03,  5.79273610e-01,\n",
      "         7.90152080e-02,  7.90152080e-02,  5.77844385e-01]]), 'LS': [], 'MAX': []}\n"
     ]
    }
   ],
   "source": [
    "coef_dict = optimize_parallel_new(degree,inds_arr,f_vals_evm,traj_evm,traj_grad,opt_structure_train,methods)\n",
    "print(coef_dict)"
   ]
  },
  {
   "cell_type": "code",
   "execution_count": 175,
   "metadata": {},
   "outputs": [],
   "source": [
    "#Create a dictionary and put respective matrices into it\n",
    "test_params = {\n",
    "    \"W\":W_test_spec,\n",
    "    \"step\":step,\n",
    "    \"burn_in\":N_burn,\n",
    "    \"n_test\":N_test,\n",
    "    \"dim\":d\n",
    "}\n",
    "\n",
    "nbcores = multiprocessing.cpu_count()\n",
    "trav = Pool(nbcores)\n",
    "res = trav.starmap(Run_eval_test, [(i,degree,sampler,methods,inds_arr,Cur_pot,test_params,coef_dict,params,f_type) for i in range (n_traj_test)])\n",
    "trav.close()"
   ]
  },
  {
   "cell_type": "code",
   "execution_count": 176,
   "metadata": {},
   "outputs": [
    {
     "name": "stdout",
     "output_type": "stream",
     "text": [
      "['Vanilla', 'ESVM', 'EVM']\n"
     ]
    }
   ],
   "source": [
    "methods_enh = ['Vanilla'] + methods\n",
    "print(methods_enh)\n",
    "ints_result = {key: [] for key in methods_enh}\n",
    "vars_result = {key: [] for key in methods_enh}"
   ]
  },
  {
   "cell_type": "code",
   "execution_count": 177,
   "metadata": {},
   "outputs": [],
   "source": [
    "for i in range(len(res)):\n",
    "    for j in range(len(methods_enh)):\n",
    "        ints_result[methods_enh[j]].append(res[i][0][methods_enh[j]][0])\n",
    "        vars_result[methods_enh[j]].append(res[i][1][methods_enh[j]][0])\n",
    "for key in methods_enh:\n",
    "    ints_result[key] = np.asarray(ints_result[key])\n",
    "    vars_result[key] = np.asarray(vars_result[key])"
   ]
  },
  {
   "cell_type": "markdown",
   "metadata": {},
   "source": [
    "### Bernoulli:: Optimize coefficients by solving regression with polynomial features"
   ]
  },
  {
   "cell_type": "code",
   "execution_count": 178,
   "metadata": {},
   "outputs": [
    {
     "name": "stdout",
     "output_type": "stream",
     "text": [
      "dimension =  50000\n",
      "variance:  6.6019191005570095\n",
      "[0.         0.10263196 0.13939688 0.79946615 0.02002185 0.67547246\n",
      " 0.06371299 0.25117444 1.11309414 0.3159744  1.22902783 0.68146393\n",
      " 1.21228234 0.53122278 0.33208457 0.6189216  0.21541717 1.36279935\n",
      " 0.27716264 0.08773164 2.26228937 3.48068275 2.98316345 0.746895\n",
      " 0.36122532 0.79960142 0.56459383 0.07474303 0.16270343 0.19067028\n",
      " 0.15508475 0.5361222  0.20886114 0.48898615 0.16592673 0.14696598\n",
      " 0.20439714 0.11826075 0.17302561 0.08994368 0.09461797 0.03773909\n",
      " 0.51861604 0.65909526 1.33374377 1.9689249  1.76022509 2.12195953\n",
      " 1.87054831 0.29241792]\n",
      "(50000, 6)\n",
      "variance:  6.601915928522702\n",
      "[0.10263196 0.13939688 0.79946615 0.02002185 0.67547246 0.06371299\n",
      " 0.25117444 1.11309414 0.3159744  1.22902783 0.68146393 1.21228234\n",
      " 0.53122278 0.33208457 0.6189216  0.21541717 1.36279935 0.27716264\n",
      " 0.08773164 2.26228937 3.48068275 2.98316345 0.746895   0.36122532\n",
      " 0.79960142 0.56459383 0.07474303 0.16270343 0.19067028 0.15508475\n",
      " 0.5361222  0.20886114 0.48898615 0.16592673 0.14696598 0.20439714\n",
      " 0.11826075 0.17302561 0.08994368 0.09461797 0.03773909 0.51861604\n",
      " 0.65909526 1.33374377 1.9689249  1.76022509 2.12195953 1.87054831\n",
      " 0.29241792 0.51876803]\n",
      "(49999, 6)\n",
      "variance:  6.601923215153223\n",
      "[0.13939688 0.79946615 0.02002185 0.67547246 0.06371299 0.25117444\n",
      " 1.11309414 0.3159744  1.22902783 0.68146393 1.21228234 0.53122278\n",
      " 0.33208457 0.6189216  0.21541717 1.36279935 0.27716264 0.08773164\n",
      " 2.26228937 3.48068275 2.98316345 0.746895   0.36122532 0.79960142\n",
      " 0.56459383 0.07474303 0.16270343 0.19067028 0.15508475 0.5361222\n",
      " 0.20886114 0.48898615 0.16592673 0.14696598 0.20439714 0.11826075\n",
      " 0.17302561 0.08994368 0.09461797 0.03773909 0.51861604 0.65909526\n",
      " 1.33374377 1.9689249  1.76022509 2.12195953 1.87054831 0.29241792\n",
      " 0.51876803 0.34661527]\n",
      "(49998, 6)\n",
      "variance:  6.601934143222748\n",
      "[0.79946615 0.02002185 0.67547246 0.06371299 0.25117444 1.11309414\n",
      " 0.3159744  1.22902783 0.68146393 1.21228234 0.53122278 0.33208457\n",
      " 0.6189216  0.21541717 1.36279935 0.27716264 0.08773164 2.26228937\n",
      " 3.48068275 2.98316345 0.746895   0.36122532 0.79960142 0.56459383\n",
      " 0.07474303 0.16270343 0.19067028 0.15508475 0.5361222  0.20886114\n",
      " 0.48898615 0.16592673 0.14696598 0.20439714 0.11826075 0.17302561\n",
      " 0.08994368 0.09461797 0.03773909 0.51861604 0.65909526 1.33374377\n",
      " 1.9689249  1.76022509 2.12195953 1.87054831 0.29241792 0.51876803\n",
      " 0.34661527 0.01774874]\n",
      "(49997, 6)\n",
      "variance:  6.602001331355208\n",
      "[0.02002185 0.67547246 0.06371299 0.25117444 1.11309414 0.3159744\n",
      " 1.22902783 0.68146393 1.21228234 0.53122278 0.33208457 0.6189216\n",
      " 0.21541717 1.36279935 0.27716264 0.08773164 2.26228937 3.48068275\n",
      " 2.98316345 0.746895   0.36122532 0.79960142 0.56459383 0.07474303\n",
      " 0.16270343 0.19067028 0.15508475 0.5361222  0.20886114 0.48898615\n",
      " 0.16592673 0.14696598 0.20439714 0.11826075 0.17302561 0.08994368\n",
      " 0.09461797 0.03773909 0.51861604 0.65909526 1.33374377 1.9689249\n",
      " 1.76022509 2.12195953 1.87054831 0.29241792 0.51876803 0.34661527\n",
      " 0.01774874 0.17850124]\n",
      "(49996, 6)\n",
      "variance:  6.602000215953243\n",
      "[0.67547246 0.06371299 0.25117444 1.11309414 0.3159744  1.22902783\n",
      " 0.68146393 1.21228234 0.53122278 0.33208457 0.6189216  0.21541717\n",
      " 1.36279935 0.27716264 0.08773164 2.26228937 3.48068275 2.98316345\n",
      " 0.746895   0.36122532 0.79960142 0.56459383 0.07474303 0.16270343\n",
      " 0.19067028 0.15508475 0.5361222  0.20886114 0.48898615 0.16592673\n",
      " 0.14696598 0.20439714 0.11826075 0.17302561 0.08994368 0.09461797\n",
      " 0.03773909 0.51861604 0.65909526 1.33374377 1.9689249  1.76022509\n",
      " 2.12195953 1.87054831 0.29241792 0.51876803 0.34661527 0.01774874\n",
      " 0.17850124 0.52752099]\n",
      "(49995, 6)\n",
      "variance:  6.6020581612571\n",
      "[0.06371299 0.25117444 1.11309414 0.3159744  1.22902783 0.68146393\n",
      " 1.21228234 0.53122278 0.33208457 0.6189216  0.21541717 1.36279935\n",
      " 0.27716264 0.08773164 2.26228937 3.48068275 2.98316345 0.746895\n",
      " 0.36122532 0.79960142 0.56459383 0.07474303 0.16270343 0.19067028\n",
      " 0.15508475 0.5361222  0.20886114 0.48898615 0.16592673 0.14696598\n",
      " 0.20439714 0.11826075 0.17302561 0.08994368 0.09461797 0.03773909\n",
      " 0.51861604 0.65909526 1.33374377 1.9689249  1.76022509 2.12195953\n",
      " 1.87054831 0.29241792 0.51876803 0.34661527 0.01774874 0.17850124\n",
      " 0.52752099 0.2421088 ]\n",
      "(49994, 6)\n",
      "variance:  6.602061509682307\n",
      "[0.25117444 1.11309414 0.3159744  1.22902783 0.68146393 1.21228234\n",
      " 0.53122278 0.33208457 0.6189216  0.21541717 1.36279935 0.27716264\n",
      " 0.08773164 2.26228937 3.48068275 2.98316345 0.746895   0.36122532\n",
      " 0.79960142 0.56459383 0.07474303 0.16270343 0.19067028 0.15508475\n",
      " 0.5361222  0.20886114 0.48898615 0.16592673 0.14696598 0.20439714\n",
      " 0.11826075 0.17302561 0.08994368 0.09461797 0.03773909 0.51861604\n",
      " 0.65909526 1.33374377 1.9689249  1.76022509 2.12195953 1.87054831\n",
      " 0.29241792 0.51876803 0.34661527 0.01774874 0.17850124 0.52752099\n",
      " 0.2421088  0.10486811]\n",
      "(49993, 6)\n",
      "variance:  6.602083174807527\n",
      "[1.11309414 0.3159744  1.22902783 0.68146393 1.21228234 0.53122278\n",
      " 0.33208457 0.6189216  0.21541717 1.36279935 0.27716264 0.08773164\n",
      " 2.26228937 3.48068275 2.98316345 0.746895   0.36122532 0.79960142\n",
      " 0.56459383 0.07474303 0.16270343 0.19067028 0.15508475 0.5361222\n",
      " 0.20886114 0.48898615 0.16592673 0.14696598 0.20439714 0.11826075\n",
      " 0.17302561 0.08994368 0.09461797 0.03773909 0.51861604 0.65909526\n",
      " 1.33374377 1.9689249  1.76022509 2.12195953 1.87054831 0.29241792\n",
      " 0.51876803 0.34661527 0.01774874 0.17850124 0.52752099 0.2421088\n",
      " 0.10486811 1.06284962]\n",
      "(49992, 6)\n",
      "variance:  6.6021709869278995\n",
      "[0.3159744  1.22902783 0.68146393 1.21228234 0.53122278 0.33208457\n",
      " 0.6189216  0.21541717 1.36279935 0.27716264 0.08773164 2.26228937\n",
      " 3.48068275 2.98316345 0.746895   0.36122532 0.79960142 0.56459383\n",
      " 0.07474303 0.16270343 0.19067028 0.15508475 0.5361222  0.20886114\n",
      " 0.48898615 0.16592673 0.14696598 0.20439714 0.11826075 0.17302561\n",
      " 0.08994368 0.09461797 0.03773909 0.51861604 0.65909526 1.33374377\n",
      " 1.9689249  1.76022509 2.12195953 1.87054831 0.29241792 0.51876803\n",
      " 0.34661527 0.01774874 0.17850124 0.52752099 0.2421088  0.10486811\n",
      " 1.06284962 1.07625237]\n",
      "(49991, 6)\n",
      "variance:  6.602198654629431\n",
      "[1.22902783 0.68146393 1.21228234 0.53122278 0.33208457 0.6189216\n",
      " 0.21541717 1.36279935 0.27716264 0.08773164 2.26228937 3.48068275\n",
      " 2.98316345 0.746895   0.36122532 0.79960142 0.56459383 0.07474303\n",
      " 0.16270343 0.19067028 0.15508475 0.5361222  0.20886114 0.48898615\n",
      " 0.16592673 0.14696598 0.20439714 0.11826075 0.17302561 0.08994368\n",
      " 0.09461797 0.03773909 0.51861604 0.65909526 1.33374377 1.9689249\n",
      " 1.76022509 2.12195953 1.87054831 0.29241792 0.51876803 0.34661527\n",
      " 0.01774874 0.17850124 0.52752099 0.2421088  0.10486811 1.06284962\n",
      " 1.07625237 1.76226235]\n",
      "(49990, 6)\n",
      "variance:  6.60229309859103\n",
      "[0.68146393 1.21228234 0.53122278 0.33208457 0.6189216  0.21541717\n",
      " 1.36279935 0.27716264 0.08773164 2.26228937 3.48068275 2.98316345\n",
      " 0.746895   0.36122532 0.79960142 0.56459383 0.07474303 0.16270343\n",
      " 0.19067028 0.15508475 0.5361222  0.20886114 0.48898615 0.16592673\n",
      " 0.14696598 0.20439714 0.11826075 0.17302561 0.08994368 0.09461797\n",
      " 0.03773909 0.51861604 0.65909526 1.33374377 1.9689249  1.76022509\n",
      " 2.12195953 1.87054831 0.29241792 0.51876803 0.34661527 0.01774874\n",
      " 0.17850124 0.52752099 0.2421088  0.10486811 1.06284962 1.07625237\n",
      " 1.76226235 0.08361359]\n",
      "(49989, 6)\n",
      "variance:  6.602351499056217\n",
      "[1.21228234 0.53122278 0.33208457 0.6189216  0.21541717 1.36279935\n",
      " 0.27716264 0.08773164 2.26228937 3.48068275 2.98316345 0.746895\n",
      " 0.36122532 0.79960142 0.56459383 0.07474303 0.16270343 0.19067028\n",
      " 0.15508475 0.5361222  0.20886114 0.48898615 0.16592673 0.14696598\n",
      " 0.20439714 0.11826075 0.17302561 0.08994368 0.09461797 0.03773909\n",
      " 0.51861604 0.65909526 1.33374377 1.9689249  1.76022509 2.12195953\n",
      " 1.87054831 0.29241792 0.51876803 0.34661527 0.01774874 0.17850124\n",
      " 0.52752099 0.2421088  0.10486811 1.06284962 1.07625237 1.76226235\n",
      " 0.08361359 0.77401543]\n",
      "(49988, 6)\n",
      "variance:  6.602445021675954\n",
      "[0.53122278 0.33208457 0.6189216  0.21541717 1.36279935 0.27716264\n",
      " 0.08773164 2.26228937 3.48068275 2.98316345 0.746895   0.36122532\n",
      " 0.79960142 0.56459383 0.07474303 0.16270343 0.19067028 0.15508475\n",
      " 0.5361222  0.20886114 0.48898615 0.16592673 0.14696598 0.20439714\n",
      " 0.11826075 0.17302561 0.08994368 0.09461797 0.03773909 0.51861604\n",
      " 0.65909526 1.33374377 1.9689249  1.76022509 2.12195953 1.87054831\n",
      " 0.29241792 0.51876803 0.34661527 0.01774874 0.17850124 0.52752099\n",
      " 0.2421088  0.10486811 1.06284962 1.07625237 1.76226235 0.08361359\n",
      " 0.77401543 2.34735003]\n",
      "(49987, 6)\n"
     ]
    },
    {
     "name": "stdout",
     "output_type": "stream",
     "text": [
      "variance:  6.602491433957411\n",
      "[0.33208457 0.6189216  0.21541717 1.36279935 0.27716264 0.08773164\n",
      " 2.26228937 3.48068275 2.98316345 0.746895   0.36122532 0.79960142\n",
      " 0.56459383 0.07474303 0.16270343 0.19067028 0.15508475 0.5361222\n",
      " 0.20886114 0.48898615 0.16592673 0.14696598 0.20439714 0.11826075\n",
      " 0.17302561 0.08994368 0.09461797 0.03773909 0.51861604 0.65909526\n",
      " 1.33374377 1.9689249  1.76022509 2.12195953 1.87054831 0.29241792\n",
      " 0.51876803 0.34661527 0.01774874 0.17850124 0.52752099 0.2421088\n",
      " 0.10486811 1.06284962 1.07625237 1.76226235 0.08361359 0.77401543\n",
      " 2.34735003 2.20884711]\n",
      "(49986, 6)\n",
      "variance:  6.6025205618641465\n",
      "[0.6189216  0.21541717 1.36279935 0.27716264 0.08773164 2.26228937\n",
      " 3.48068275 2.98316345 0.746895   0.36122532 0.79960142 0.56459383\n",
      " 0.07474303 0.16270343 0.19067028 0.15508475 0.5361222  0.20886114\n",
      " 0.48898615 0.16592673 0.14696598 0.20439714 0.11826075 0.17302561\n",
      " 0.08994368 0.09461797 0.03773909 0.51861604 0.65909526 1.33374377\n",
      " 1.9689249  1.76022509 2.12195953 1.87054831 0.29241792 0.51876803\n",
      " 0.34661527 0.01774874 0.17850124 0.52752099 0.2421088  0.10486811\n",
      " 1.06284962 1.07625237 1.76226235 0.08361359 0.77401543 2.34735003\n",
      " 2.20884711 3.48058168]\n",
      "(49985, 6)\n",
      "variance:  6.602574078566615\n",
      "[0.21541717 1.36279935 0.27716264 0.08773164 2.26228937 3.48068275\n",
      " 2.98316345 0.746895   0.36122532 0.79960142 0.56459383 0.07474303\n",
      " 0.16270343 0.19067028 0.15508475 0.5361222  0.20886114 0.48898615\n",
      " 0.16592673 0.14696598 0.20439714 0.11826075 0.17302561 0.08994368\n",
      " 0.09461797 0.03773909 0.51861604 0.65909526 1.33374377 1.9689249\n",
      " 1.76022509 2.12195953 1.87054831 0.29241792 0.51876803 0.34661527\n",
      " 0.01774874 0.17850124 0.52752099 0.2421088  0.10486811 1.06284962\n",
      " 1.07625237 1.76226235 0.08361359 0.77401543 2.34735003 2.20884711\n",
      " 3.48058168 1.66937728]\n",
      "(49984, 6)\n",
      "variance:  6.602592338291748\n",
      "[1.36279935 0.27716264 0.08773164 2.26228937 3.48068275 2.98316345\n",
      " 0.746895   0.36122532 0.79960142 0.56459383 0.07474303 0.16270343\n",
      " 0.19067028 0.15508475 0.5361222  0.20886114 0.48898615 0.16592673\n",
      " 0.14696598 0.20439714 0.11826075 0.17302561 0.08994368 0.09461797\n",
      " 0.03773909 0.51861604 0.65909526 1.33374377 1.9689249  1.76022509\n",
      " 2.12195953 1.87054831 0.29241792 0.51876803 0.34661527 0.01774874\n",
      " 0.17850124 0.52752099 0.2421088  0.10486811 1.06284962 1.07625237\n",
      " 1.76226235 0.08361359 0.77401543 2.34735003 2.20884711 3.48058168\n",
      " 1.66937728 1.30786048]\n",
      "(49983, 6)\n",
      "variance:  6.602693773536724\n",
      "[0.27716264 0.08773164 2.26228937 3.48068275 2.98316345 0.746895\n",
      " 0.36122532 0.79960142 0.56459383 0.07474303 0.16270343 0.19067028\n",
      " 0.15508475 0.5361222  0.20886114 0.48898615 0.16592673 0.14696598\n",
      " 0.20439714 0.11826075 0.17302561 0.08994368 0.09461797 0.03773909\n",
      " 0.51861604 0.65909526 1.33374377 1.9689249  1.76022509 2.12195953\n",
      " 1.87054831 0.29241792 0.51876803 0.34661527 0.01774874 0.17850124\n",
      " 0.52752099 0.2421088  0.10486811 1.06284962 1.07625237 1.76226235\n",
      " 0.08361359 0.77401543 2.34735003 2.20884711 3.48058168 1.66937728\n",
      " 1.30786048 1.09324723]\n",
      "(49982, 6)\n",
      "variance:  6.602717847048906\n",
      "[0.08773164 2.26228937 3.48068275 2.98316345 0.746895   0.36122532\n",
      " 0.79960142 0.56459383 0.07474303 0.16270343 0.19067028 0.15508475\n",
      " 0.5361222  0.20886114 0.48898615 0.16592673 0.14696598 0.20439714\n",
      " 0.11826075 0.17302561 0.08994368 0.09461797 0.03773909 0.51861604\n",
      " 0.65909526 1.33374377 1.9689249  1.76022509 2.12195953 1.87054831\n",
      " 0.29241792 0.51876803 0.34661527 0.01774874 0.17850124 0.52752099\n",
      " 0.2421088  0.10486811 1.06284962 1.07625237 1.76226235 0.08361359\n",
      " 0.77401543 2.34735003 2.20884711 3.48058168 1.66937728 1.30786048\n",
      " 1.09324723 0.33083083]\n",
      "(49981, 6)\n",
      "(20, 6)\n"
     ]
    }
   ],
   "source": [
    "#polynomial coefficients\n",
    "coefs_poly = approx_q(traj,f_vals,n_traj_train,lag,S_max)\n",
    "print(coefs_poly.shape)"
   ]
  },
  {
   "cell_type": "code",
   "execution_count": 179,
   "metadata": {},
   "outputs": [
    {
     "name": "stdout",
     "output_type": "stream",
     "text": [
      "dimension =  50000\n",
      "(1, 6)\n",
      "(1, 6)\n",
      "(1, 6)\n",
      "(1, 6)\n",
      "(1, 6)\n",
      "(1, 6)\n",
      "(1, 6)\n",
      "(1, 6)\n",
      "(1, 6)\n",
      "(1, 6)\n",
      "(1, 6)\n",
      "(1, 6)\n",
      "(1, 6)\n",
      "(1, 6)\n",
      "(1, 6)\n",
      "(1, 6)\n",
      "(1, 6)\n",
      "(1, 6)\n",
      "(1, 6)\n",
      "(1, 6)\n",
      "(20, 6)\n"
     ]
    }
   ],
   "source": [
    "coefs_poly_indep = approx_q_independent(traj_adv,f_vals_adv,n_traj_train_adv,lag,S_max)\n",
    "print(coefs_poly.shape)"
   ]
  },
  {
   "cell_type": "markdown",
   "metadata": {},
   "source": [
    "### Use theoretically computed coefficients in regression"
   ]
  },
  {
   "cell_type": "code",
   "execution_count": null,
   "metadata": {},
   "outputs": [],
   "source": [
    "print(coefs_poly.shape)\n",
    "print(coefs_poly)\n",
    "coefs_poly_theor = np.zeros_like(coefs_poly)\n",
    "for ind in range(len(coefs_poly_theor)):\n",
    "    if ind == 0:\n",
    "        coefs_poly_theor[ind,0] = 0\n",
    "    else:\n",
    "        coefs_poly_theor[ind,0] = d*(1-(1-step)**(2*ind))/(1-step/2)   \n",
    "    coefs_poly_theor[ind,3] = (1-step)**(2*ind)\n",
    "    coefs_poly_theor[ind,5] = (1-step)**(2*ind)"
   ]
  },
  {
   "cell_type": "markdown",
   "metadata": {},
   "source": [
    "Test our regressors"
   ]
  },
  {
   "cell_type": "code",
   "execution_count": null,
   "metadata": {},
   "outputs": [],
   "source": [
    "cur_lag = 1\n",
    "N_pts = 100\n",
    "plt.figure(figsize=(10, 10))\n",
    "plt.title(\"Testing regression model\",fontsize=20)\n",
    "plt.plot(traj[0,cur_lag:N_pts],color='r',label='true function')\n",
    "plt.plot(P.polynomial.polyval(traj[0,:N_pts-cur_lag],coefs_poly[cur_lag,:]),color='g',label = 'practical approximation')\n",
    "#plt.plot(P.polynomial.polyval(X_train[0,:N_pts-cur_lag],coefs_poly_theor[cur_lag,:]),color='b',label = 'theoretical approximation')\n",
    "plt.legend(loc = 'lower right',fontsize = 16)\n",
    "plt.show()"
   ]
  },
  {
   "cell_type": "code",
   "execution_count": 55,
   "metadata": {},
   "outputs": [
    {
     "name": "stdout",
     "output_type": "stream",
     "text": [
      "[0. 0.]\n",
      "[0. 0.]\n",
      "[0. 0.]\n",
      "[0. 0.]\n",
      "[0. 0.]\n",
      "[0. 0.]\n",
      "[0. 0.]\n",
      "[0. 0.]\n",
      "[0. 0.]\n",
      "[0. 0.]\n",
      "[0. 0.]\n",
      "[0. 0.]\n",
      "[0. 0.]\n",
      "[0. 0.]\n",
      "[0. 0.]\n",
      "[0. 0.]\n",
      "[0. 0.]\n",
      "[0. 0.]\n",
      "[0. 0.]\n",
      "[0. 0.]\n",
      "[0. 0.]\n",
      "[0. 0.]\n",
      "[0. 0.]\n",
      "[0. 0.]\n"
     ]
    }
   ],
   "source": [
    "test_seed = 1453\n",
    "nbcores = multiprocessing.cpu_count()\n",
    "trav = Pool(nbcores)\n",
    "res_dep = trav.starmap(test_traj, [(Cur_pot,coefs_poly,step,test_seed+i,lag,K_max,S_max,N_burn,N_test,d,f_type,inds_arr,params,x0,fixed_start) for i in range (n_traj_test)])\n",
    "trav.close()"
   ]
  },
  {
   "cell_type": "code",
   "execution_count": null,
   "metadata": {},
   "outputs": [],
   "source": [
    "test_seed = 1453\n",
    "nbcores = multiprocessing.cpu_count()\n",
    "trav = Pool(nbcores)\n",
    "res_indep = trav.starmap(test_traj, [(Cur_pot,coefs_poly_indep,step,test_seed+i,lag,K_max,S_max,N_burn,N_test,d,f_type,inds_arr,params,x0,fixed_start) for i in range (n_traj_test)])\n",
    "trav.close()"
   ]
  },
  {
   "cell_type": "code",
   "execution_count": 56,
   "metadata": {},
   "outputs": [],
   "source": [
    "res_new_dep = np.asarray(res_dep)\n",
    "#res_new_indep = np.asarray(res_indep)"
   ]
  },
  {
   "cell_type": "code",
   "execution_count": 57,
   "metadata": {},
   "outputs": [
    {
     "name": "stdout",
     "output_type": "stream",
     "text": [
      "(24, 2, 1000)\n"
     ]
    }
   ],
   "source": [
    "print(res_new_dep.shape)"
   ]
  },
  {
   "cell_type": "code",
   "execution_count": 58,
   "metadata": {},
   "outputs": [
    {
     "name": "stdout",
     "output_type": "stream",
     "text": [
      "1.434003827708025\n"
     ]
    }
   ],
   "source": [
    "vars_vanilla_dep = np.var(res_new_dep[:,0,:],axis = 0)\n",
    "vars_adj_dep = np.var(res_new_dep[:,1,:],axis = 0)\n",
    "vr_rate_dep = vars_vanilla_dep[-1]/vars_adj_dep[-1]\n",
    "print(vr_rate_dep)\n",
    "\n",
    "#vars_vanilla_indep = np.var(res_new_indep[:,0,:],axis = 0)\n",
    "#vars_adj_indep = np.var(res_new_indep[:,1,:],axis = 0)\n",
    "#vr_rate_indep = vars_vanilla_indep[-1]/vars_adj_indep[-1]\n",
    "#print(vr_rate_indep)"
   ]
  },
  {
   "cell_type": "code",
   "execution_count": null,
   "metadata": {},
   "outputs": [],
   "source": [
    "vr_rates_dep.append(vr_rate_dep)\n",
    "vr_rates_indep.append(vr_rate_indep)"
   ]
  },
  {
   "cell_type": "code",
   "execution_count": null,
   "metadata": {},
   "outputs": [],
   "source": [
    "print(vr_rates_dep)"
   ]
  },
  {
   "cell_type": "code",
   "execution_count": null,
   "metadata": {},
   "outputs": [],
   "source": [
    "vr_rates_dep = np.asarray(vr_rates_dep)\n",
    "vr_rates_indep = np.asarray(vr_rates_indep)\n",
    "#np.save('vr_rate_dep_gmm_quadratic.npy',vr_rates_dep)\n",
    "#np.save('vr_rate_indep_gmm_quadratic.npy',vr_rates_indep)\n",
    "print(vr_rates_dep.shape)"
   ]
  },
  {
   "cell_type": "code",
   "execution_count": null,
   "metadata": {},
   "outputs": [],
   "source": [
    "import matplotlib.pyplot as plt\n",
    "plt.figure(figsize=(12,8))\n",
    "# plot the index for the x-values\n",
    "#plt.plot(lags,vr_rates_dep/(lags*8), marker='o', linestyle='--', color='r', label='Train on dependent trajectories') \n",
    "plt.plot(lags,vr_rates_indep/(lags*8), marker='o', linestyle='--', color='b') #,label='Train on independent trajectories') \n",
    "#plt.xlabel('lag',fontsize = 18)\n",
    "#plt.ylabel('cost',fontsize = 18) \n",
    "#plt.title('VR cost for MDCV, Gaussian distribution, quadratic target',fontsize = 20)\n",
    "plt.grid(linestyle='--', linewidth=1.0)\n",
    "#plt.legend() \n",
    "plt.show()"
   ]
  },
  {
   "cell_type": "code",
   "execution_count": null,
   "metadata": {},
   "outputs": [],
   "source": [
    "plt.figure(figsize=(12,8))\n",
    "# plot the index for the x-values\n",
    "#plt.plot(lags[:8],vr_rates_dep, marker='o', linestyle='--', color='r', label='Train on dependent trajectories') \n",
    "plt.plot(lags[:8],vr_rates_indep, marker='o', linestyle='--', color='b', label='Train on independent trajectories') \n",
    "#plt.xlabel('lag',fontsize = 18)\n",
    "#plt.ylabel('VR rate',fontsize = 18) \n",
    "#plt.title('VR rates for MDCV, Gaussian Mixture, quadratic target',fontsize = 20)\n",
    "plt.grid(linestyle='--', linewidth=1.0)\n",
    "plt.legend() \n",
    "plt.show()"
   ]
  },
  {
   "cell_type": "markdown",
   "metadata": {},
   "source": [
    "### Comparison plots"
   ]
  },
  {
   "cell_type": "code",
   "execution_count": 180,
   "metadata": {},
   "outputs": [],
   "source": [
    "title = \"\"\n",
    "labels = ['Vanilla\\n ULA', 'ULA \\nwith MDCV', 'ULA \\nwith EVM','ULA\\nwith ESVM']"
   ]
  },
  {
   "cell_type": "code",
   "execution_count": 181,
   "metadata": {},
   "outputs": [],
   "source": [
    "res_MDCV = np.load(\"res_arr_MDCV.npy\")"
   ]
  },
  {
   "cell_type": "code",
   "execution_count": 182,
   "metadata": {},
   "outputs": [
    {
     "data": {
      "image/png": "[encoded data removed]",
      "text/plain": [
       "<Figure size 500x400 with 1 Axes>"
      ]
     },
     "metadata": {
      "needs_background": "light"
     },
     "output_type": "display_data"
    }
   ],
   "source": [
    "data = [ints_result['Vanilla'][:,0],res_MDCV[-1,:,2],ints_result['EVM'][:,0],ints_result['ESVM'][:,0]] \n",
    "boxplot_ind(data, title, labels, path = \"./GMM_homogeneous_quadratic_new_res.pdf\")"
   ]
  },
  {
   "cell_type": "code",
   "execution_count": 126,
   "metadata": {},
   "outputs": [
    {
     "data": {
      "image/png": "[encoded data removed]",
      "text/plain": [
       "<Figure size 500x400 with 1 Axes>"
      ]
     },
     "metadata": {
      "needs_background": "light"
     },
     "output_type": "display_data"
    }
   ],
   "source": [
    "title = \"\"\n",
    "labels = ['ULA \\nwith MDCV', 'ULA \\nwith EVM','ULA\\nwith ESVM']\n",
    "\n",
    "data = [res_MDCV[-5,:,1],ints_result['EVM'][:,0],ints_result['ESVM'][:,0]] \n",
    "boxplot_ind(data, title, labels, path = \"./GMM_non_homogeneous_new_res.pdf\")"
   ]
  },
  {
   "cell_type": "code",
   "execution_count": null,
   "metadata": {},
   "outputs": [],
   "source": [
    "title = \"\"\n",
    "labels = ['ULA \\nwith MDCV', 'ULA \\nwith EVM','ULA\\nwith ESVM']"
   ]
  },
  {
   "cell_type": "code",
   "execution_count": null,
   "metadata": {},
   "outputs": [],
   "source": [
    "data = [res_new[:,1,-1],ints_result['EVM'][:,0],ints_result['ESVM'][:,0]] \n",
    "boxplot_ind(data, title, labels)"
   ]
  },
  {
   "cell_type": "code",
   "execution_count": null,
   "metadata": {},
   "outputs": [],
   "source": []
  },
  {
   "cell_type": "code",
   "execution_count": null,
   "metadata": {},
   "outputs": [],
   "source": []
  }
 ],
 "metadata": {
  "kernelspec": {
   "display_name": "Python 3",
   "language": "python",
   "name": "python3"
  },
  "language_info": {
   "codemirror_mode": {
    "name": "ipython",
    "version": 3
   },
   "file_extension": ".py",
   "mimetype": "text/x-python",
   "name": "python",
   "nbconvert_exporter": "python",
   "pygments_lexer": "ipython3",
   "version": "3.8.3"
  }
 },
 "nbformat": 4,
 "nbformat_minor": 2
}
