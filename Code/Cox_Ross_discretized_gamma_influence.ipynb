{
 "cells": [
  {
   "cell_type": "code",
   "execution_count": null,
   "metadata": {},
   "outputs": [],
   "source": [
    "import numpy as np\n",
    "import numpy.polynomial as P\n",
    "import scipy as sp\n",
    "from matplotlib import pyplot as plt\n",
    "from tqdm import tqdm\n",
    "#from sklearn.preprocessing import PolynomialFeatures\n",
    "from multiprocessing import Pool\n",
    "import multiprocessing\n",
    "import ZVnbrosse\n",
    "from sklearn.preprocessing import PolynomialFeatures\n",
    "from potentials import GaussPotential,GaussMixture,GausMixtureIdent,GausMixtureSame,BananaShape\n",
    "from samplers import MCMC_sampler,Generate_train,ULA_light\n",
    "from baselines import set_function,construct_ESVM_kernel,GenerateSigma\n",
    "from martingale import approx_q\n",
    "from optimize import Run_eval_test,optimize_parallel_new \n",
    "from utils import * \n",
    "import copy"
   ]
  },
  {
   "cell_type": "code",
   "execution_count": null,
   "metadata": {},
   "outputs": [],
   "source": [
    "def H(k, x):\n",
    "    if k==0:\n",
    "        return 1.0\n",
    "    if k ==1:\n",
    "        return x\n",
    "    if k==2:\n",
    "        return (x**2 - 1)/np.sqrt(2)\n",
    "    c = np.zeros(k+1,dtype = float)\n",
    "    c[k] = 1.0\n",
    "    h = P.hermite_e.hermeval(x,c) / np.sqrt(sp.special.factorial(k)) \n",
    "    return h"
   ]
  },
  {
   "cell_type": "code",
   "execution_count": null,
   "metadata": {},
   "outputs": [],
   "source": [
    "def test_traj(coefs_poly_regr,gamma,r_seed,lag,K_max,S_max,N_test,f_type,x0):\n",
    "    \"\"\"\n",
    "    function to perform 1-dimensional martingale decomposition\n",
    "    \"\"\"\n",
    "    X_test,Noise = generate_traj(x0,N_test,gamma,r_seed)\n",
    "    test_stat_vanilla = np.zeros(N_test,dtype = float)\n",
    "    test_stat_vr = np.zeros_like(test_stat_vanilla)\n",
    "    #compute number of basis polynomials\n",
    "    num_basis_funcs = K_max+1\n",
    "    #compute polynomials of noise variables Z_l\n",
    "    poly_vals = np.zeros((num_basis_funcs,N_test), dtype = float)\n",
    "    for k in range(len(poly_vals)):\n",
    "        poly_vals[k,:] = H(k,Noise)\n",
    "    #initialize function\n",
    "    f_vals_vanilla = X_test\n",
    "    #array to store control variates values\n",
    "    cvfs = np.zeros_like(f_vals_vanilla)\n",
    "    #compute coeffitients bar_a\n",
    "    bar_a_1 = np.zeros((lag,N_test),dtype=float)\n",
    "    bar_a_2 = np.zeros_like(bar_a_1)\n",
    "    alpha = 1./4*gamma*(sig**2)*(1./(1-gamma*a) + 1.)\n",
    "    beta = gamma*(a*c-1./2*sig**2)\n",
    "    for i in range(lag):\n",
    "        #second-order coefficients\n",
    "        #bar_a_2[i,1:] = coefs_poly_regr[i,2]*np.sqrt(2)*gamma*(sigma(X_test[:-1]))**2\n",
    "        #bar_a_2[i,0] = coefs_poly_regr[i,2]*np.sqrt(2)*gamma*(sigma(x0))**2\n",
    "        bar_a_2[i,1:] = coefs_poly_regr[i,1]*np.sqrt(2)*alpha +\\\n",
    "                    coefs_poly_regr[i,2]*np.sqrt(2)*(7*alpha**2 + gamma*(sigma(X_test[:-1]))**2)\n",
    "        bar_a_2[i,0] = coefs_poly_regr[i,1]*np.sqrt(2)*alpha +\\\n",
    "                    coefs_poly_regr[i,2]*np.sqrt(2)*(7*alpha**2 + gamma*(sigma(x0))**2)\n",
    "        #first-order coefficients\n",
    "        #bar_a_1[i,1:] = coefs_poly_regr[i,1]*np.sqrt(gamma)*sigma(X_test[:-1]) +\\\n",
    "                #coefs_poly_regr[i,2]*2*np.sqrt(gamma)*sigma(X_test[:-1])*(X_test[:-1]+gamma*b(X_test[:-1]))\n",
    "        bar_a_1[i,1:] = coefs_poly_regr[i,1]*np.sqrt(gamma)*sigma(X_test[:-1]) +\\\n",
    "                coefs_poly_regr[i,2]*(2*((1-gamma*a)*X_test[:-1] + beta)*(np.sqrt(gamma)*sigma(X_test[:-1]) + alpha) +\\\n",
    "                                    6*alpha*sigma(X_test[:-1])*np.sqrt(gamma))\n",
    "        bar_a_1[i,0] = coefs_poly_regr[i,1]*np.sqrt(gamma)*sigma(x0) +\\\n",
    "                coefs_poly_regr[i,2]*(2*((1-gamma*a)*x0 + beta)*(np.sqrt(gamma)*sigma(x0) + alpha) +\\\n",
    "                                    6*alpha*sigma(x0)*np.sqrt(gamma))        \n",
    "        #bar_a_1[i,0] = coefs_poly_regr[i,1]*np.sqrt(gamma)*sigma(x0) +\\\n",
    "                        #coefs_poly_regr[i,2]*2*np.sqrt(gamma)*sigma(x0)*(x0+gamma*b(x0))\n",
    "    bar_a_1 = bar_a_1*poly_vals[1,:]\n",
    "    bar_a_2 = bar_a_2*poly_vals[2,:]\n",
    "    #compute martingale sums\n",
    "    M_n_1 = 0.0\n",
    "    M_n_2 = 0.0\n",
    "    for l in range(N_test):\n",
    "        for r in range(min(N_test-l,lag)):\n",
    "            M_n_1 += bar_a_1[r,l]\n",
    "            M_n_2 += bar_a_2[r,l]\n",
    "    print(\"M_n_2: \",M_n_2)\n",
    "    print(\"M_n_1: \",M_n_1)\n",
    "    return np.mean(f_vals_vanilla),np.mean(f_vals_vanilla)-M_n_1/N_test,np.mean(f_vals_vanilla)-M_n_1/N_test-M_n_2/N_test"
   ]
  },
  {
   "cell_type": "code",
   "execution_count": null,
   "metadata": {},
   "outputs": [],
   "source": [
    "def approx_q(X_train,Y_train,N_traj_train,lag,max_deg):\n",
    "    \"\"\"\n",
    "    Function to regress q functions on a polynomial basis;\n",
    "    Args:\n",
    "        X_train - train tralectory;\n",
    "        Y_train - function values;\n",
    "        N_traj_train - number of training trajectories;\n",
    "        lag - truncation point for coefficients, those for |p-l| > lag are set to 0;\n",
    "        max_deg - maximum degree of polynomial in regression\n",
    "    \"\"\"\n",
    "    dim = X_train[0,:].shape[0]\n",
    "    coefs_poly = np.array([])\n",
    "    for i in range(lag):\n",
    "        print(i)\n",
    "        x_all = np.zeros((X_train.shape[0]*(X_train.shape[1]-i),X_train.shape[2]))\n",
    "        y_all = np.zeros_like(x_all)\n",
    "        print(x_all.shape)\n",
    "        #x_all = np.array([])\n",
    "        #y_all = np.array([])\n",
    "        for j in range(N_traj_train):\n",
    "            if i > 0:\n",
    "                x_all[j*(X_train.shape[1]-i):(j+1)*(X_train.shape[1]-i)] = X_train[j,:-i]\n",
    "                y_all[j*(X_train.shape[1]-i):(j+1)*(X_train.shape[1]-i)] = Y_train[j,i:]\n",
    "            elif i ==0:\n",
    "                x_all[j*(X_train.shape[1]-i):(j+1)*(X_train.shape[1]-i)] = X_train[j,:]\n",
    "                y_all[j*(X_train.shape[1]-i):(j+1)*(X_train.shape[1]-i)] = Y_train[j,i:]\n",
    "        #should use polyfeatures here\n",
    "        poly = PolynomialFeatures(max_deg)\n",
    "        X_features = poly.fit_transform(x_all)\n",
    "        print(X_features.shape)\n",
    "        lstsq_results = np.linalg.lstsq(X_features,y_all,rcond = None)\n",
    "        coefs = copy.deepcopy(lstsq_results[0])\n",
    "        coefs.resize((1,X_features.shape[1]))           \n",
    "        if coefs_poly.size == 0:\n",
    "            coefs_poly = copy.deepcopy(coefs)\n",
    "        else:\n",
    "            coefs_poly = np.concatenate((coefs_poly,coefs),axis=0)\n",
    "    return coefs_poly"
   ]
  },
  {
   "cell_type": "code",
   "execution_count": null,
   "metadata": {},
   "outputs": [],
   "source": [
    "a = 5.0\n",
    "c = 5.0\n",
    "sig = 2.0\n",
    "\n",
    "def b(X_t):\n",
    "    \"\"\"\n",
    "    b function in the diffusion\n",
    "    \"\"\"\n",
    "    return a*(c-X_t)\n",
    "\n",
    "def sigma(X_t):\n",
    "    \"\"\"\n",
    "    b function in the diffusion\n",
    "    \"\"\"\n",
    "    return sig*np.sqrt(X_t)\n",
    "\n",
    "def sample_discretized_diffusion(X_t,gamma_t):\n",
    "    \"\"\"\n",
    "    args:   X_t - current value, \n",
    "            gamma_t - step size;\n",
    "    returns:  (X_{t+1},xi_{t+1}) - value at the next time moment and the corresponding noise variable\n",
    "    \"\"\"\n",
    "    xi = np.random.randn()\n",
    "    return (1-gamma_t*a)*X_t + gamma_t*(a*c-1./4*(sig**2)) + np.sqrt(gamma_t*X_t)*sig*xi + 0.25*gamma_t*(sig**2)*(xi**2 + (xi**2)/(1-gamma_t*a) - 1),xi\n",
    "\n",
    "#currently we use this function without the burn-in\n",
    "def generate_traj(x0,n,gamma,r_seed):\n",
    "    \"\"\"\n",
    "    args:\n",
    "        x0 - starting point;\n",
    "        n - number of steps;\n",
    "        gamma - step size (assumed to be fixed for now);\n",
    "    returns:\n",
    "        x_all,noise_all - np.arrays of shape (n,)  \n",
    "    \"\"\"\n",
    "    x_all = np.zeros(n,dtype = float)\n",
    "    noise_all = np.zeros(n,dtype = float)\n",
    "    np.random.seed(r_seed)\n",
    "    x_all[0],noise_all[0] = sample_discretized_diffusion(x0,gamma)\n",
    "    for i in range(1,n):\n",
    "        x_all[i],noise_all[i] = sample_discretized_diffusion(x_all[i-1],gamma)\n",
    "    return x_all,noise_all\n",
    "\n",
    "def run_monte_carlo(x,f_type):\n",
    "    if f_type == \"quadratic\":\n",
    "        f_vals = x**2\n",
    "    else:\n",
    "        raise \"not implemented error\"\n",
    "    return np.mean(f_vals,axis=1)"
   ]
  },
  {
   "cell_type": "code",
   "execution_count": null,
   "metadata": {},
   "outputs": [],
   "source": [
    "n = 5*10**5 #sample size\n",
    "gamma = 2e-2 # Step size\n",
    "n_traj = 100\n",
    "n_traj_test = 100 # Number of independent MCMC trajectories for test\n",
    "f_type = \"linear\"\n",
    "K_max = 2 #max degree of Hermite polynomial\n",
    "S_max = 2 #max degree of polynomial during regression stage\n",
    "lag = 50 #maximal lag order\n",
    "N_test = 2*10**3"
   ]
  },
  {
   "cell_type": "markdown",
   "metadata": {},
   "source": [
    "Sample discretized diffusion"
   ]
  },
  {
   "cell_type": "code",
   "execution_count": null,
   "metadata": {},
   "outputs": [],
   "source": [
    "def generate_observations(x0,n,gamma,r_seed,n_traj):\n",
    "    X_train_all = np.zeros((n_traj,n,1),dtype=float)\n",
    "    Noise_train_all = np.zeros_like(X_train_all)\n",
    "    Y_train_all = np.zeros((n_traj,n,1),dtype=float)\n",
    "    nbcores = multiprocessing.cpu_count()\n",
    "    trav = Pool(nbcores)\n",
    "    train_traj = trav.starmap(generate_traj, [(x0,n,gamma,r_seed+i) for i in range (n_traj)])\n",
    "    trav.close()\n",
    "    train_traj = np.asarray(train_traj)\n",
    "    X_train_all[:,:,0] = train_traj[:,0,:]\n",
    "    Noise_train_all[:,:,0] = train_traj[:,1,:]\n",
    "    Y_train_all[:,:,0] = X_train_all[:,:,0]\n",
    "    return X_train_all, Noise_train_all, Y_train_all"
   ]
  },
  {
   "cell_type": "code",
   "execution_count": null,
   "metadata": {},
   "outputs": [],
   "source": [
    "x0 = 1\n",
    "r_seed = 1812\n",
    "N_gammas = 5\n",
    "X_train = np.zeros((N_gammas,n_traj,n,1),dtype=float)\n",
    "Noise_train = np.zeros((N_gammas,n_traj,n,1),dtype=float)\n",
    "Y_train = np.zeros((N_gammas,n_traj,n,1),dtype=float)\n",
    "\n",
    "for i in range(N_gammas):\n",
    "    X_train[i],Noise_train[i],Y_train[i] = generate_observations(x0,n,(i+1)*gamma,r_seed,n_traj)"
   ]
  },
  {
   "cell_type": "markdown",
   "metadata": {},
   "source": [
    "### Bernoulli:: Optimize coefficients by solving regression with polynomial features"
   ]
  },
  {
   "cell_type": "code",
   "execution_count": null,
   "metadata": {},
   "outputs": [],
   "source": [
    "nbcores = multiprocessing.cpu_count()\n",
    "trav = Pool(nbcores)\n",
    "coefs_poly = trav.starmap(approx_q, [(X_train[i],Y_train[i],n_traj,lag,S_max) for i in range (N_gammas)])\n",
    "#res = trav.starmap(test_traj, [(Cur_pot,coefs_poly,step,test_seed+i,lag,K_max,S_max,N_burn,N_test,d,f_type,inds_arr,params,x0,fixed_start) for i in range (n_traj_test)])\n",
    "trav.close()\n",
    "coefs_poly = np.asarray(coefs_poly)\n",
    "print(coefs_poly.shape)"
   ]
  },
  {
   "cell_type": "code",
   "execution_count": null,
   "metadata": {},
   "outputs": [],
   "source": [
    "#polynomial coefficients\n",
    "print(coefs_poly.shape)\n",
    "regr_vals = np.zeros((lag,X_train.shape[2]),dtype=float)\n",
    "for i in range(len(regr_vals)):\n",
    "    for j in range(S_max+1):\n",
    "        regr_vals[i,:] += coefs_poly[0][i,j]*X_train[0,0,:,0]**j"
   ]
  },
  {
   "cell_type": "markdown",
   "metadata": {},
   "source": [
    "Test our regressors"
   ]
  },
  {
   "cell_type": "code",
   "execution_count": null,
   "metadata": {},
   "outputs": [],
   "source": [
    "cur_lag = 0\n",
    "N_pts = 500\n",
    "plt.figure(figsize=(10, 10))\n",
    "plt.title(\"Testing regression model\",fontsize=20)\n",
    "plt.plot(Y_train[0,0,cur_lag:N_pts+cur_lag,0],color='r',label='true function')\n",
    "plt.plot(regr_vals[cur_lag,:N_pts],color='g',label = 'practical approximation')\n",
    "plt.legend(loc = 'upper left',fontsize = 16)\n",
    "plt.show()"
   ]
  },
  {
   "cell_type": "code",
   "execution_count": null,
   "metadata": {},
   "outputs": [],
   "source": [
    "test_seed = 1453\n",
    "nbcores = multiprocessing.cpu_count()\n",
    "trav = Pool(nbcores)\n",
    "res = trav.starmap(test_traj, [(coefs_poly[0],gamma,test_seed+i,lag,K_max,S_max,N_test,f_type,x0) for i in range (n_traj_test)])\n",
    "#res = trav.starmap(test_traj, [(Cur_pot,coefs_poly,step,test_seed+i,lag,K_max,S_max,N_burn,N_test,d,f_type,inds_arr,params,x0,fixed_start) for i in range (n_traj_test)])\n",
    "trav.close()\n",
    "res = np.asarray(res)"
   ]
  },
  {
   "cell_type": "code",
   "execution_count": null,
   "metadata": {},
   "outputs": [],
   "source": [
    "test_seed = 1453\n",
    "nbcores = multiprocessing.cpu_count()\n",
    "trav = Pool(nbcores)\n",
    "res_1 = trav.starmap(test_traj, [(coefs_poly[1],2*gamma,test_seed+i,lag,K_max,S_max,N_test,f_type,x0) for i in range (n_traj_test)])\n",
    "#res = trav.starmap(test_traj, [(Cur_pot,coefs_poly,step,test_seed+i,lag,K_max,S_max,N_burn,N_test,d,f_type,inds_arr,params,x0,fixed_start) for i in range (n_traj_test)])\n",
    "trav.close()\n",
    "res_1 = np.asarray(res_1)"
   ]
  },
  {
   "cell_type": "code",
   "execution_count": null,
   "metadata": {},
   "outputs": [],
   "source": [
    "test_seed = 1453\n",
    "nbcores = multiprocessing.cpu_count()\n",
    "trav = Pool(nbcores)\n",
    "res_2 = trav.starmap(test_traj, [(coefs_poly[2],3*gamma,test_seed+i,lag,K_max,S_max,N_test,f_type,x0) for i in range (n_traj_test)])\n",
    "#res = trav.starmap(test_traj, [(Cur_pot,coefs_poly,step,test_seed+i,lag,K_max,S_max,N_burn,N_test,d,f_type,inds_arr,params,x0,fixed_start) for i in range (n_traj_test)])\n",
    "trav.close()\n",
    "res_2 = np.asarray(res_2)"
   ]
  },
  {
   "cell_type": "code",
   "execution_count": null,
   "metadata": {},
   "outputs": [],
   "source": [
    "test_seed = 1453\n",
    "nbcores = multiprocessing.cpu_count()\n",
    "trav = Pool(nbcores)\n",
    "res_3 = trav.starmap(test_traj, [(coefs_poly[3],4*gamma,test_seed+i,lag,K_max,S_max,N_test,f_type,x0) for i in range (n_traj_test)])\n",
    "#res = trav.starmap(test_traj, [(Cur_pot,coefs_poly,step,test_seed+i,lag,K_max,S_max,N_burn,N_test,d,f_type,inds_arr,params,x0,fixed_start) for i in range (n_traj_test)])\n",
    "trav.close()\n",
    "res_3 = np.asarray(res_3)"
   ]
  },
  {
   "cell_type": "code",
   "execution_count": null,
   "metadata": {},
   "outputs": [],
   "source": [
    "test_seed = 1453\n",
    "nbcores = multiprocessing.cpu_count()\n",
    "trav = Pool(nbcores)\n",
    "res_4 = trav.starmap(test_traj, [(coefs_poly[4],5*gamma,test_seed+i,lag,K_max,S_max,N_test,f_type,x0) for i in range (n_traj_test)])\n",
    "#res = trav.starmap(test_traj, [(Cur_pot,coefs_poly,step,test_seed+i,lag,K_max,S_max,N_burn,N_test,d,f_type,inds_arr,params,x0,fixed_start) for i in range (n_traj_test)])\n",
    "trav.close()\n",
    "res_4 = np.asarray(res_4)"
   ]
  },
  {
   "cell_type": "markdown",
   "metadata": {},
   "source": [
    "### Comparison plots"
   ]
  },
  {
   "cell_type": "code",
   "execution_count": null,
   "metadata": {},
   "outputs": [],
   "source": [
    "def set_axis_style_boxplot(ax, labels, parts):\n",
    "    colors = (sns.color_palette(\"muted\")[0:7])\n",
    "    ax.grid(color='black', linestyle='-', linewidth=0.15, alpha=0.6)    \n",
    "    ax.set_xticks(np.arange(1, len(labels)+1))\n",
    "    ax.set_xticklabels(labels, fontsize=12)\n",
    "    ax.set_xlim(0.5, len(labels) + 0.5)\n",
    "    #ax.set_ylim(-0.12, 0.12)\n",
    "    ax.spines[\"top\"].set_visible(False)\n",
    "    ax.spines[\"bottom\"].set_visible(False)\n",
    "    ax.spines[\"left\"].set_visible(False)\n",
    "    ax.spines[\"right\"].set_visible(False)\n",
    "    \n",
    "    for pc,i in zip(parts['boxes'],range(len(labels))):\n",
    "        pc.set(facecolor=colors[i],alpha=0.65)\n",
    "        pc.set_edgecolor('black')\n",
    "        pc.set_linewidth(0.65)\n",
    "    \n",
    "\n",
    "def boxplot_ind(data, title, labels, path):\n",
    "    meanprops = dict(linestyle='-', linewidth=1, color='black')\n",
    "    medianprops = dict(linestyle='', linewidth=0)\n",
    "\n",
    "    fig, ax1 = plt.subplots(nrows=1, ncols=1, figsize=(8, 4), sharey=True, frameon=False,dpi=100)      \n",
    "    fig.suptitle(title, fontsize=20)\n",
    "    parts = ax1.boxplot(data,  widths=0.6, patch_artist=True, meanline=True, showmeans=True, medianprops=medianprops,meanprops = meanprops, showfliers=False)\n",
    "    set_axis_style_boxplot(ax1, labels, parts)\n",
    "    fig.tight_layout()\n",
    "    fig.subplots_adjust(top=0.85)\n",
    "    plt.savefig(path)\n",
    "    plt.show() "
   ]
  },
  {
   "cell_type": "code",
   "execution_count": null,
   "metadata": {},
   "outputs": [],
   "source": [
    "title = \"\"\n",
    "labels = ['Vanilla, \\n $\\\\gamma = 0.02$', 'Vanilla, \\n $\\\\gamma = 0.04$',\\\n",
    "          'Vanilla, \\n $\\\\gamma = 0.06$', 'Vanilla, \\n $\\\\gamma = 0.08$', 'Vanilla, \\n $\\\\gamma = 0.1$']"
   ]
  },
  {
   "cell_type": "code",
   "execution_count": null,
   "metadata": {},
   "outputs": [],
   "source": [
    "data = [res[:,0]-np.mean(res[:,0]),res_1[:,0]-np.mean(res_1[:,0]),res_2[:,0]-np.mean(res_2[:,0]),\\\n",
    "        res_3[:,0] - np.mean(res_3[:,0]),res_4[:,0] - np.mean(res_4[:,0])]#,res_new_4[:,2]] \n",
    "#data = [res_new_1[:,2], res_new_2[:,2],res_new_3[:,2],res_new_4[:,2]] \n",
    "boxplot_ind(data, title, labels,path=\"./CIR_vanilla_gamma_influence.pdf\")"
   ]
  },
  {
   "cell_type": "code",
   "execution_count": null,
   "metadata": {},
   "outputs": [],
   "source": [
    "title = \"\"\n",
    "labels = ['MDCV-2, \\n $\\\\gamma = 0.02$', 'MDCV-2, \\n $\\\\gamma = 0.04$',\\\n",
    "          'MDCV-2, \\n $\\\\gamma = 0.06$', 'MDCV-2, \\n $\\\\gamma = 0.08$', 'MDCV-2, \\n $\\\\gamma = 0.1$']"
   ]
  },
  {
   "cell_type": "code",
   "execution_count": null,
   "metadata": {},
   "outputs": [],
   "source": [
    "data = [res[:,2]-np.mean(res[:,2]),res_1[:,2]-np.mean(res_1[:,2]),res_2[:,2]-np.mean(res_2[:,2]),\\\n",
    "        res_3[:,2] - np.mean(res_3[:,2]),res_4[:,2] - np.mean(res_4[:,2])]#,res_new_4[:,2]] \n",
    "#data = [res_new_1[:,2], res_new_2[:,2],res_new_3[:,2],res_new_4[:,2]] \n",
    "boxplot_ind(data, title, labels,path=\"./CIR_2nd_order_gamma_influence_upd_03.pdf\")"
   ]
  },
  {
   "cell_type": "code",
   "execution_count": null,
   "metadata": {},
   "outputs": [],
   "source": []
  }
 ],
 "metadata": {
  "kernelspec": {
   "display_name": "Python 3",
   "language": "python",
   "name": "python3"
  },
  "language_info": {
   "codemirror_mode": {
    "name": "ipython",
    "version": 3
   },
   "file_extension": ".py",
   "mimetype": "text/x-python",
   "name": "python",
   "nbconvert_exporter": "python",
   "pygments_lexer": "ipython3",
   "version": "3.8.3"
  }
 },
 "nbformat": 4,
 "nbformat_minor": 2
}
