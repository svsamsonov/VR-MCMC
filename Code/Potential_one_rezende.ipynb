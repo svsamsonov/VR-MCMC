{
 "cells": [
  {
   "cell_type": "code",
   "execution_count": 1,
   "metadata": {},
   "outputs": [],
   "source": [
    "import numpy as np\n",
    "import numpy.polynomial as P\n",
    "import scipy as sp\n",
    "from matplotlib import pyplot as plt\n",
    "from tqdm import tqdm\n",
    "#from sklearn.preprocessing import PolynomialFeatures\n",
    "from multiprocessing import Pool\n",
    "import multiprocessing\n",
    "import ZVnbrosse\n",
    "from potentials import PotentialOne, PotentialTwo, PotentialOnePrime\n",
    "from zv_cv import Eval_ZVCV\n",
    "from samplers import MCMC_sampler,Generate_train,ULA_light\n",
    "from baselines import set_function,construct_ESVM_kernel,GenerateSigma\n",
    "from martingale import approx_q,test_traj\n",
    "from optimize import Run_eval_test,optimize_parallel_new \n",
    "from utils import *\n",
    "import copy"
   ]
  },
  {
   "cell_type": "code",
   "execution_count": 47,
   "metadata": {},
   "outputs": [],
   "source": [
    "N_burn = 1*10**4 # Burn in period\n",
    "N_train = 1*10**5 # Number of samples on which we optimize\n",
    "step = 0.1 # Step size\n",
    "#put 0.5 for MALA\n",
    "#step = 0.2\n",
    "n_traj = 96 # Number of independent MCMC trajectories for test\n",
    "f_type = \"sum_squared\"\n",
    "bn = 300\n",
    "W_test = construct_ESVM_kernel(N_train,bn)"
   ]
  },
  {
   "cell_type": "markdown",
   "metadata": {},
   "source": [
    "Choose density parameters"
   ]
  },
  {
   "cell_type": "code",
   "execution_count": 48,
   "metadata": {},
   "outputs": [],
   "source": [
    "d = 2\n",
    "B = np.pi/2\n",
    "M = 10.0\n",
    "Cur_pot = PotentialOne(B,M,d)\n",
    "#mu = 0.5\n",
    "#sigma = 0.5\n",
    "#M = 1.0\n",
    "#Cur_pot = PotentialTwo(M,mu,sigma,d)"
   ]
  },
  {
   "cell_type": "markdown",
   "metadata": {},
   "source": [
    "### Generate data"
   ]
  },
  {
   "cell_type": "code",
   "execution_count": 49,
   "metadata": {},
   "outputs": [
    {
     "name": "stdout",
     "output_type": "stream",
     "text": [
      "ncores =  12\n",
      "accepted =  79137\n",
      "accepted =  79392\n",
      "accepted =  79384\n",
      "accepted =  79281\n",
      "accepted =  79377\n",
      "accepted =  79497\n",
      "accepted =  79474\n",
      "accepted =  79822\n",
      "accepted =  79665\n",
      "accepted =  79196\n",
      "accepted =  79209\n",
      "accepted =  79077\n",
      "accepted =  79201\n",
      "accepted =  79336\n",
      "accepted =  79690\n",
      "accepted =  79311\n",
      "accepted =  79440\n",
      "accepted =  79381\n",
      "accepted =  79371\n",
      "accepted =  79263\n",
      "accepted =  79241\n",
      "accepted =  79438\n",
      "accepted =  79060\n",
      "accepted =  79669\n",
      "accepted =  79371\n",
      "accepted =  79264\n",
      "accepted =  79305\n",
      "accepted =  79525\n",
      "accepted =  79308\n",
      "accepted =  79408\n",
      "accepted =  79449\n",
      "accepted =  79457\n",
      "accepted =  79395\n",
      "accepted =  79126\n",
      "accepted =  79510\n",
      "accepted =  79424\n",
      "accepted =  79649\n",
      "accepted =  79311\n",
      "accepted =  79288\n",
      "accepted =  79441\n",
      "accepted =  79578\n",
      "accepted =  79492\n",
      "accepted =  79684\n",
      "accepted =  79331\n",
      "accepted =  79320\n",
      "accepted =  79344\n",
      "accepted =  79437\n",
      "accepted =  79253\n",
      "accepted =  79039\n",
      "accepted =  79366\n",
      "accepted =  79512\n",
      "accepted =  79255\n",
      "accepted =  79330\n",
      "accepted =  79293\n",
      "accepted =  79352\n",
      "accepted =  79547\n",
      "accepted =  79363\n",
      "accepted =  79329\n",
      "accepted =  79351\n",
      "accepted =  79174\n",
      "accepted =  79455\n",
      "accepted =  79323\n",
      "accepted =  79421\n",
      "accepted =  79390\n",
      "accepted =  79481\n",
      "accepted =  79430\n",
      "accepted =  79378\n",
      "accepted =  79147\n",
      "accepted =  79361\n",
      "accepted =  79313\n",
      "accepted =  79333\n",
      "accepted =  79410\n",
      "accepted =  79324\n",
      "accepted =  79373\n",
      "accepted =  79235\n",
      "accepted =  79142\n",
      "accepted =  79321\n",
      "accepted =  79086\n",
      "accepted =  79605\n",
      "accepted =  79458\n",
      "accepted =  79540\n",
      "accepted =  79176\n",
      "accepted =  79350\n",
      "accepted =  79479\n",
      "accepted =  79293\n",
      "accepted =  79494\n",
      "accepted =  79461\n",
      "accepted =  79319\n",
      "accepted =  79317\n",
      "accepted =  79439\n",
      "accepted =  79107\n",
      "accepted =  79459\n",
      "accepted =  79280\n",
      "accepted =  79386\n",
      "accepted =  79197\n",
      "accepted =  79413\n"
     ]
    }
   ],
   "source": [
    "sampler = {\"sampler\":\"RWM\",\"burn_type\":\"full\",\"main_type\":\"full\"} # Sampling method\n",
    "\n",
    "if sampler[\"sampler\"] == \"ULA\":\n",
    "    res = Generate_train(n_traj, sampler, Cur_pot, step, N_burn, N_train, d)\n",
    "    res = np.asarray(res)\n",
    "    traj,traj_grad = res[:,0,:,:],res[:,1,:,:]\n",
    "else:\n",
    "    res = Generate_train(n_traj, sampler, Cur_pot, step, N_burn, N_train, d)\n",
    "    traj = []\n",
    "    traj_grad = []\n",
    "    for i in range(len(res)):\n",
    "        traj.append(res[i][0])\n",
    "        traj_grad.append(res[i][1])\n",
    "        print(\"accepted = \",res[i][2])\n",
    "    traj = np.asarray(traj)\n",
    "    traj_grad = np.asarray(traj_grad)"
   ]
  },
  {
   "cell_type": "code",
   "execution_count": 50,
   "metadata": {},
   "outputs": [
    {
     "name": "stdout",
     "output_type": "stream",
     "text": [
      "(96, 100000, 2)\n",
      "(96, 100000, 2)\n"
     ]
    }
   ],
   "source": [
    "print(traj.shape)\n",
    "print(traj_grad.shape)\n",
    "traj_grad = (-1)*traj_grad"
   ]
  },
  {
   "cell_type": "code",
   "execution_count": 51,
   "metadata": {},
   "outputs": [],
   "source": [
    "test_seed = 1453\n",
    "nbcores = multiprocessing.cpu_count()\n",
    "trav = Pool(nbcores)\n",
    "res = trav.starmap(Eval_ZVCV, [(traj[i,:,:],traj_grad[i,:,:],f_type,None,W_test) for i in range (n_traj)])\n",
    "trav.close()"
   ]
  },
  {
   "cell_type": "code",
   "execution_count": 52,
   "metadata": {},
   "outputs": [
    {
     "name": "stdout",
     "output_type": "stream",
     "text": [
      "(96, 2, 5)\n"
     ]
    }
   ],
   "source": [
    "res_arr = np.asarray(res)\n",
    "print(res_arr.shape)"
   ]
  },
  {
   "cell_type": "markdown",
   "metadata": {},
   "source": [
    "### Saving results"
   ]
  },
  {
   "cell_type": "code",
   "execution_count": 53,
   "metadata": {},
   "outputs": [
    {
     "name": "stdout",
     "output_type": "stream",
     "text": [
      "Average vr rates:\n",
      "ZV-1: 1.003163173173597\n",
      "CV-1: 1.020669706353117\n",
      "ZV-2: 1.245402857617012\n",
      "CV-2: 3.209768037402661\n"
     ]
    }
   ],
   "source": [
    "np.save(\"rezende/rwm_quadratic_15_04.npy\",res_arr)\n",
    "print(\"Average vr rates:\")\n",
    "print(\"ZV-1:\",np.mean(res_arr[:,1,0]/res_arr[:,1,1]))\n",
    "print(\"CV-1:\",np.mean(res_arr[:,1,0]/res_arr[:,1,3]))\n",
    "print(\"ZV-2:\",np.mean(res_arr[:,1,0]/res_arr[:,1,2]))\n",
    "print(\"CV-2:\",np.mean(res_arr[:,1,0]/res_arr[:,1,4]))"
   ]
  },
  {
   "cell_type": "markdown",
   "metadata": {},
   "source": [
    "### Comparison plots"
   ]
  },
  {
   "cell_type": "code",
   "execution_count": 54,
   "metadata": {},
   "outputs": [],
   "source": [
    "title = \"\"\n",
    "labels = ['Vanilla\\n RWM', 'RWM \\nwith ZV-1', 'RWM \\nwith CV-1']"
   ]
  },
  {
   "cell_type": "code",
   "execution_count": 55,
   "metadata": {},
   "outputs": [
    {
     "data": {
      "image/png": "[encoded data removed]",
      "text/plain": [
       "<Figure size 500x400 with 1 Axes>"
      ]
     },
     "metadata": {
      "needs_background": "light"
     },
     "output_type": "display_data"
    }
   ],
   "source": [
    "data = [res_arr[:,0,0],res_arr[:,0,1],res_arr[:,0,3]] \n",
    "boxplot_ind(data, title, labels)"
   ]
  },
  {
   "cell_type": "code",
   "execution_count": 56,
   "metadata": {},
   "outputs": [],
   "source": [
    "title = \"\"\n",
    "labels = ['ULA \\nwith ZV-1', 'ULA \\nwith CV-1']"
   ]
  },
  {
   "cell_type": "code",
   "execution_count": 57,
   "metadata": {},
   "outputs": [
    {
     "data": {
      "image/png": "[encoded data removed]",
      "text/plain": [
       "<Figure size 500x400 with 1 Axes>"
      ]
     },
     "metadata": {
      "needs_background": "light"
     },
     "output_type": "display_data"
    }
   ],
   "source": [
    "data = [res_arr[:,0,1],res_arr[:,0,3]] \n",
    "boxplot_ind(data, title, labels)"
   ]
  },
  {
   "cell_type": "code",
   "execution_count": 58,
   "metadata": {},
   "outputs": [],
   "source": [
    "title = \"\"\n",
    "labels = ['Vanilla\\n MALA', 'MALA \\nwith ZV-2', 'MALA \\nwith CV-2']"
   ]
  },
  {
   "cell_type": "code",
   "execution_count": 59,
   "metadata": {},
   "outputs": [
    {
     "data": {
      "image/png": "[encoded data removed]",
      "text/plain": [
       "<Figure size 500x400 with 1 Axes>"
      ]
     },
     "metadata": {
      "needs_background": "light"
     },
     "output_type": "display_data"
    }
   ],
   "source": [
    "data = [res_arr[:,0,0],res_arr[:,0,2],res_arr[:,0,4]] \n",
    "boxplot_ind(data, title, labels)"
   ]
  },
  {
   "cell_type": "code",
   "execution_count": 60,
   "metadata": {},
   "outputs": [],
   "source": [
    "title = \"\"\n",
    "labels = ['ULA \\nwith ZV-2', 'ULA \\nwith CV-2']"
   ]
  },
  {
   "cell_type": "code",
   "execution_count": 61,
   "metadata": {},
   "outputs": [
    {
     "data": {
      "image/png": "[encoded data removed]",
      "text/plain": [
       "<Figure size 500x400 with 1 Axes>"
      ]
     },
     "metadata": {
      "needs_background": "light"
     },
     "output_type": "display_data"
    }
   ],
   "source": [
    "data = [res_arr[:,0,2],res_arr[:,0,4]] \n",
    "boxplot_ind(data, title, labels)"
   ]
  },
  {
   "cell_type": "code",
   "execution_count": null,
   "metadata": {},
   "outputs": [],
   "source": []
  },
  {
   "cell_type": "code",
   "execution_count": null,
   "metadata": {},
   "outputs": [],
   "source": []
  }
 ],
 "metadata": {
  "kernelspec": {
   "display_name": "Python 3",
   "language": "python",
   "name": "python3"
  },
  "language_info": {
   "codemirror_mode": {
    "name": "ipython",
    "version": 3
   },
   "file_extension": ".py",
   "mimetype": "text/x-python",
   "name": "python",
   "nbconvert_exporter": "python",
   "pygments_lexer": "ipython3",
   "version": "3.7.3"
  }
 },
 "nbformat": 4,
 "nbformat_minor": 2
}
